{
 "cells": [
  {
   "cell_type": "markdown",
   "metadata": {},
   "source": [
    "**Análise Estatística de Planos Pré-Pagos:**  \n",
    "**cliente**: **Megaline**  \n",
    "  \n",
    "Neste projeto, conduzido como parte do Sprint 4 do curso de Análise de Dados, realizei uma investigação estatística para a empresa de telecomunicações **Megaline**. A empresa oferece dois planos pré-pagos — **Surf** e **Ultimate** — e deseja identificar qual deles gera maior receita média por cliente, a fim de otimizar seus investimentos em publicidade.  \n",
    "  \n",
    "**Objetivo da Análise**:  \n",
    "O objetivo central deste estudo é **analisar o comportamento dos usuários de cada plano** com base em dados de chamadas, mensagens e uso de internet, e **comparar estatisticamente a receita média mensal entre os planos**.  \n",
    "Também será testada uma hipótese sobre variações de receita entre regiões.  \n",
    "  \n",
    "**Dados**:\n",
    "A análise foi realizada com base em cinco conjuntos de dados:  \n",
    "- **Usuários (users)**: Informações de cadastro e plano escolhido.  \n",
    "- **Chamadas (calls)**: Duração e frequência das chamadas.  \n",
    "- **Mensagens (messages)**: Quantidade de SMS enviados.  \n",
    "- **Internet (internet)**: Uso de dados em megabytes.  \n",
    "- **Planos (plans)**: Detalhamento dos pacotes e preços.  \n",
    "  \n",
    "**Etapas Realizadas**:  \n",
    "- **Importação e limpeza de dados**: Conversão de tipos, tratamento de valores ausentes e inconsistências.  \n",
    "- **Engenharia de recursos**: Cálculo de consumo mensal e receita por cliente.  \n",
    "- **Análise exploratória**: Visualizações, estatísticas descritivas e compreensão dos padrões de uso.  \n",
    "- **Testes de hipótese**: Verificação estatística de diferenças nas receitas médias entre planos e regiões.  \n",
    "  \n",
    "Ao final, são apresentadas conclusões que ajudarão a Megaline a direcionar melhor suas ações de marketing com base em dados reais.  \n",
    "  \n",
    "**Contato**:  \n",
    "**Autor:** Daniel Amorim  \n",
    "**Análise de Dados | Marketing e Publicidade**  \n",
    "**Especialista em Branding**  \n",
    "🔗 [Linkedin: www.linkedin.com/in/danieloamorim](https://www.linkedin.com/in/danieloamorim)  \n",
    "\n",
    "---"
   ]
  },
  {
   "cell_type": "markdown",
   "metadata": {
    "id": "eAkbw7Ueuj8X"
   },
   "source": [
    "**Qual é o melhor plano?**  \n",
    "\n",
    "A empresa oferece aos clientes dois planos pré-pagos: Surf e Ultimate.  \n",
    "O departamento comercial quer saber qual dos planos gera mais receita para ajustar o orçamento de publicidade.  \n",
    "  \n",
    "Será realizada uma análise preliminar dos planos com base em uma pequena seleção de clientes.  \n",
    "Serão fornecidos dados de 500 clientes da Megaline: que clientes são, de onde eles são, qual plano usam e o número de chamadas e mensagens realizadas em 2018.  \n",
    "Analise o comportamento dos clientes e determine qual plano pré-pago gera mais receita.  "
   ]
  },
  {
   "cell_type": "markdown",
   "metadata": {
    "id": "lnomf-3Xuj8b"
   },
   "source": [
    "## Inicialização:"
   ]
  },
  {
   "cell_type": "code",
   "execution_count": 695,
   "metadata": {
    "id": "JdJusn5ouj8c",
    "trusted": false
   },
   "outputs": [],
   "source": [
    "# Carregando todas as bibliotecas:\n",
    "import pandas as pd\n",
    "import numpy as np\n",
    "import matplotlib.pyplot as plt \n",
    "import seaborn as sns\n",
    "from scipy import stats\n",
    "import math\n",
    "import calendar\n",
    "from scipy.stats import mannwhitneyu"
   ]
  },
  {
   "cell_type": "markdown",
   "metadata": {
    "id": "rzqsCrgquj8d"
   },
   "source": [
    "## Carregue os dados:"
   ]
  },
  {
   "cell_type": "code",
   "execution_count": 696,
   "metadata": {
    "id": "HmzmQRXIuj8e",
    "trusted": false
   },
   "outputs": [],
   "source": [
    "# Carregue os arquivos de dados em diferentes DataFrames\n",
    "calls_df = pd.read_csv('C:/Users/Daniel/Desktop/Uploads_GitHub/Megaline/megaline_calls.csv')\n",
    "internet_df = pd.read_csv('C:/Users/Daniel/Desktop/Uploads_GitHub/Megaline/megaline_internet.csv')\n",
    "messages_df = pd.read_csv('C:/Users/Daniel/Desktop/Uploads_GitHub/Megaline/megaline_messages.csv')\n",
    "plans_df = pd.read_csv('C:/Users/Daniel/Desktop/Uploads_GitHub/Megaline/megaline_plans.csv')\n",
    "users_df = pd.read_csv('C:/Users/Daniel/Desktop/Uploads_GitHub/Megaline/megaline_users.csv')"
   ]
  },
  {
   "cell_type": "markdown",
   "metadata": {},
   "source": [
    "<div class=\"alert alert-block alert-success\">\n",
    "<b>Comentário do revisor: </b> <a class=\"tocSkip\"></a>\n",
    "\n",
    "Os dados foram carregados corretamente.\n",
    "</div>"
   ]
  },
  {
   "cell_type": "markdown",
   "metadata": {
    "id": "XQh-EeiIuj8e"
   },
   "source": [
    "## Prepare os dados:"
   ]
  },
  {
   "cell_type": "markdown",
   "metadata": {
    "id": "RmibJmmzuj8e"
   },
   "source": [
    "Os dados deste projeto estão divididos em várias tabelas.  \n",
    "Explore cada uma para obter uma compreensão inicial dos dados.  \n",
    "Faça correções em cada tabela, se necessário.  "
   ]
  },
  {
   "cell_type": "markdown",
   "metadata": {
    "id": "TlZUw_Cyuj8f"
   },
   "source": [
    "### Planos:"
   ]
  },
  {
   "cell_type": "code",
   "execution_count": 697,
   "metadata": {
    "id": "x9qB5mAOuj8f",
    "trusted": false
   },
   "outputs": [
    {
     "name": "stdout",
     "output_type": "stream",
     "text": [
      "\n",
      "Informções gerais do DataFrame plans_df\n",
      "\n",
      "<class 'pandas.core.frame.DataFrame'>\n",
      "RangeIndex: 2 entries, 0 to 1\n",
      "Data columns (total 8 columns):\n",
      " #   Column                 Non-Null Count  Dtype  \n",
      "---  ------                 --------------  -----  \n",
      " 0   messages_included      2 non-null      int64  \n",
      " 1   mb_per_month_included  2 non-null      int64  \n",
      " 2   minutes_included       2 non-null      int64  \n",
      " 3   usd_monthly_pay        2 non-null      int64  \n",
      " 4   usd_per_gb             2 non-null      int64  \n",
      " 5   usd_per_message        2 non-null      float64\n",
      " 6   usd_per_minute         2 non-null      float64\n",
      " 7   plan_name              2 non-null      object \n",
      "dtypes: float64(2), int64(5), object(1)\n",
      "memory usage: 260.0+ bytes\n",
      "None\n"
     ]
    }
   ],
   "source": [
    "# Informações gerais/resumo sobre o DataFrame dos planos:\n",
    "print(\"\\nInformções gerais do DataFrame plans_df\\n\")\n",
    "print(plans_df.info())\n"
   ]
  },
  {
   "cell_type": "code",
   "execution_count": 698,
   "metadata": {
    "id": "9MRo7tyVuj8f",
    "scrolled": true,
    "trusted": false
   },
   "outputs": [
    {
     "name": "stdout",
     "output_type": "stream",
     "text": [
      "\n",
      "Resumo estatístico do DataFrame plans:\n",
      "\n",
      "       messages_included  mb_per_month_included  minutes_included  \\\n",
      "count           2.000000               2.000000          2.000000   \n",
      "mean          525.000000           23040.000000       1750.000000   \n",
      "std           671.751442           10861.160159       1767.766953   \n",
      "min            50.000000           15360.000000        500.000000   \n",
      "25%           287.500000           19200.000000       1125.000000   \n",
      "50%           525.000000           23040.000000       1750.000000   \n",
      "75%           762.500000           26880.000000       2375.000000   \n",
      "max          1000.000000           30720.000000       3000.000000   \n",
      "\n",
      "       usd_monthly_pay  usd_per_gb  usd_per_message  usd_per_minute  \n",
      "count         2.000000     2.00000         2.000000        2.000000  \n",
      "mean         45.000000     8.50000         0.020000        0.020000  \n",
      "std          35.355339     2.12132         0.014142        0.014142  \n",
      "min          20.000000     7.00000         0.010000        0.010000  \n",
      "25%          32.500000     7.75000         0.015000        0.015000  \n",
      "50%          45.000000     8.50000         0.020000        0.020000  \n",
      "75%          57.500000     9.25000         0.025000        0.025000  \n",
      "max          70.000000    10.00000         0.030000        0.030000  \n",
      "\n",
      "\n",
      "Informações gerais do DataFrame plans:\n",
      "\n",
      "   messages_included  mb_per_month_included  minutes_included  \\\n",
      "0                 50                  15360               500   \n",
      "1               1000                  30720              3000   \n",
      "\n",
      "   usd_monthly_pay  usd_per_gb  usd_per_message  usd_per_minute plan_name  \n",
      "0               20          10             0.03            0.03      surf  \n",
      "1               70           7             0.01            0.01  ultimate  \n"
     ]
    }
   ],
   "source": [
    "# Imprimir amostra de dados dos planos:\n",
    "print(\"\\nResumo estatístico do DataFrame plans:\\n\")\n",
    "print(plans_df.describe())\n",
    "print()\n",
    "print(\"\\nInformações gerais do DataFrame plans:\\n\")\n",
    "print(plans_df.head(5))"
   ]
  },
  {
   "cell_type": "markdown",
   "metadata": {
    "id": "P8hzr-lquj8f"
   },
   "source": [
    "Descreva o que você nota sobre as informações gerais e sobre a amostra de dados impressa acima.   \n",
    "Existem problemas (tipos de dados inadequados, dados ausentes, etc.) que precisam de mais investigação e alterações? Como isso pode ser corrigido?  \n",
    "\n",
    "O DataFrame plans_df não apresenta dados ausentes, pois todas as 8 colunas possuem valores não nulos. No entanto como só há duas colunas referentes aos planos Surf e Ultimate, a análise estatistica acaba por ser limitada e não representa com exatidão a variabilidade dos planos.\n",
    "Os valores das colunas \"usd_per_gb usd_per_message\" e \"usd_per_minute\" variam de forma significativa, o que pode ser proposital ou alguma inconsistencia.\n",
    "A unica coluna categórica é a \"plan_name\", o que pode limitar algumas análises comparativas."
   ]
  },
  {
   "cell_type": "markdown",
   "metadata": {
    "id": "9BWuM80Buj8f"
   },
   "source": [
    "**Corrija problemas óbvios com os dados conforme as observações iniciais**:"
   ]
  },
  {
   "cell_type": "code",
   "execution_count": 699,
   "metadata": {
    "id": "Hen8bhG1uj8g",
    "trusted": false
   },
   "outputs": [
    {
     "name": "stdout",
     "output_type": "stream",
     "text": [
      "\n",
      "Valores Ausentes de plans_df:\n",
      "\n",
      "messages_included        0\n",
      "mb_per_month_included    0\n",
      "minutes_included         0\n",
      "usd_monthly_pay          0\n",
      "usd_per_gb               0\n",
      "usd_per_message          0\n",
      "usd_per_minute           0\n",
      "plan_name                0\n",
      "dtype: int64\n",
      "\n",
      "\n",
      "Resumo estatístico de plans_df:\n",
      "\n",
      "       messages_included  mb_per_month_included  minutes_included  \\\n",
      "count           2.000000               2.000000          2.000000   \n",
      "mean          525.000000           23040.000000       1750.000000   \n",
      "std           671.751442           10861.160159       1767.766953   \n",
      "min            50.000000           15360.000000        500.000000   \n",
      "25%           287.500000           19200.000000       1125.000000   \n",
      "50%           525.000000           23040.000000       1750.000000   \n",
      "75%           762.500000           26880.000000       2375.000000   \n",
      "max          1000.000000           30720.000000       3000.000000   \n",
      "\n",
      "       usd_monthly_pay  usd_per_gb  usd_per_message  usd_per_minute  \n",
      "count         2.000000     2.00000         2.000000        2.000000  \n",
      "mean         45.000000     8.50000         0.020000        0.020000  \n",
      "std          35.355339     2.12132         0.014142        0.014142  \n",
      "min          20.000000     7.00000         0.010000        0.010000  \n",
      "25%          32.500000     7.75000         0.015000        0.015000  \n",
      "50%          45.000000     8.50000         0.020000        0.020000  \n",
      "75%          57.500000     9.25000         0.025000        0.025000  \n",
      "max          70.000000    10.00000         0.030000        0.030000  \n",
      "\n",
      "\n",
      "Resumo estatístico de plans_df (sem outliers):\n",
      "\n",
      "       messages_included  mb_per_month_included  minutes_included  \\\n",
      "count           2.000000               2.000000          2.000000   \n",
      "mean          525.000000           23040.000000       1750.000000   \n",
      "std           671.751442           10861.160159       1767.766953   \n",
      "min            50.000000           15360.000000        500.000000   \n",
      "25%           287.500000           19200.000000       1125.000000   \n",
      "50%           525.000000           23040.000000       1750.000000   \n",
      "75%           762.500000           26880.000000       2375.000000   \n",
      "max          1000.000000           30720.000000       3000.000000   \n",
      "\n",
      "       usd_monthly_pay  usd_per_gb  usd_per_message  usd_per_minute  \n",
      "count         2.000000     2.00000         2.000000        2.000000  \n",
      "mean         45.000000     8.50000         0.020000        0.020000  \n",
      "std          35.355339     2.12132         0.014142        0.014142  \n",
      "min          20.000000     7.00000         0.010000        0.010000  \n",
      "25%          32.500000     7.75000         0.015000        0.015000  \n",
      "50%          45.000000     8.50000         0.020000        0.020000  \n",
      "75%          57.500000     9.25000         0.025000        0.025000  \n",
      "max          70.000000    10.00000         0.030000        0.030000  \n",
      "\n",
      "\n",
      "Informações de plans_df:\n",
      "\n",
      "<class 'pandas.core.frame.DataFrame'>\n",
      "RangeIndex: 2 entries, 0 to 1\n",
      "Data columns (total 8 columns):\n",
      " #   Column                 Non-Null Count  Dtype  \n",
      "---  ------                 --------------  -----  \n",
      " 0   messages_included      2 non-null      int64  \n",
      " 1   minutes_included       2 non-null      int64  \n",
      " 2   usd_monthly_pay        2 non-null      int64  \n",
      " 3   usd_per_gb             2 non-null      int64  \n",
      " 4   usd_per_message        2 non-null      float64\n",
      " 5   usd_per_minute         2 non-null      float64\n",
      " 6   plan_name              2 non-null      object \n",
      " 7   gb_per_month_included  2 non-null      float64\n",
      "dtypes: float64(3), int64(4), object(1)\n",
      "memory usage: 260.0+ bytes\n",
      "None\n",
      "\n",
      "\n",
      "Amostra de dados estatísticos de plans_df:\n",
      "\n",
      "   messages_included  minutes_included  usd_monthly_pay  usd_per_gb  \\\n",
      "0                 50               500               20          10   \n",
      "1               1000              3000               70           7   \n",
      "\n",
      "   usd_per_message  usd_per_minute plan_name  gb_per_month_included  \n",
      "0             0.03            0.03      surf                   15.0  \n",
      "1             0.01            0.01  ultimate                   30.0  \n"
     ]
    }
   ],
   "source": [
    "# Confirmar valores ausentes:\n",
    "print(\"\\nValores Ausentes de plans_df:\\n\")\n",
    "print(plans_df.isnull().sum())\n",
    "print()\n",
    "\n",
    "# Resumo estatístico inicial:\n",
    "print(\"\\nResumo estatístico de plans_df:\\n\")\n",
    "print(plans_df.describe())\n",
    "print()\n",
    "\n",
    "# Selecionar apenas colunas numéricas:\n",
    "numeric_cols = plans_df.select_dtypes(include='number').columns\n",
    "\n",
    "# Remover outliers com base no Intervalo Interquartil (IQR):\n",
    "Q1 = plans_df[numeric_cols].quantile(0.25)\n",
    "Q3 = plans_df[numeric_cols].quantile(0.75)\n",
    "IQR = Q3 - Q1\n",
    "\n",
    "# Máscara para valores dentro do intervalo:\n",
    "mask = ~((plans_df[numeric_cols] < (Q1 - 1.5 * IQR)) | (plans_df[numeric_cols] > (Q3 + 1.5 * IQR))).any(axis=1)\n",
    "\n",
    "# Aplicar máscara ao DataFrame completo:\n",
    "plans_df = plans_df[mask]\n",
    "\n",
    "# Resumo estatístico após remoção de outliers:\n",
    "print(\"\\nResumo estatístico de plans_df (sem outliers):\\n\")\n",
    "print(plans_df.describe())\n",
    "print()\n",
    "\n",
    "# Padronizar unidades de medida (MB para GB):\n",
    "if \"mb_per_month_included\" in plans_df.columns:\n",
    "    plans_df[\"gb_per_month_included\"] = plans_df[\"mb_per_month_included\"] / 1024\n",
    "    plans_df.drop(columns=[\"mb_per_month_included\"], inplace=True)\n",
    "\n",
    "# Informações gerais:\n",
    "print(\"\\nInformações de plans_df:\\n\")\n",
    "print(plans_df.info())\n",
    "print()\n",
    "\n",
    "# Amostra dos dados:\n",
    "print(\"\\nAmostra de dados estatísticos de plans_df:\\n\")\n",
    "print(plans_df.head(5))\n"
   ]
  },
  {
   "cell_type": "markdown",
   "metadata": {
    "id": "kLcdKu6Duj8g"
   },
   "source": [
    "**Enriqueça os dados**:"
   ]
  },
  {
   "cell_type": "markdown",
   "metadata": {
    "id": "x1L6F_gmuj8g"
   },
   "source": [
    "Inclua fatores adicionais aos dados que possam ser úteis:"
   ]
  },
  {
   "cell_type": "code",
   "execution_count": 700,
   "metadata": {
    "id": "6j4XA9_ruj8g",
    "scrolled": true,
    "trusted": false
   },
   "outputs": [
    {
     "name": "stderr",
     "output_type": "stream",
     "text": [
      "C:\\Users\\Daniel\\AppData\\Local\\Temp\\ipykernel_3220\\1670470645.py:3: FutureWarning: \n",
      "\n",
      "Passing `palette` without assigning `hue` is deprecated and will be removed in v0.14.0. Assign the `x` variable to `hue` and set `legend=False` for the same effect.\n",
      "\n",
      "  sns.countplot(data=plans_df, x=\"plan_name\", palette=\"viridis\")\n"
     ]
    },
    {
     "data": {
      "image/png": "[encoded data removed]",
      "text/plain": [
       "<Figure size 800x500 with 1 Axes>"
      ]
     },
     "metadata": {},
     "output_type": "display_data"
    },
    {
     "name": "stdout",
     "output_type": "stream",
     "text": [
      "\n"
     ]
    }
   ],
   "source": [
    "#Verificar popularidade dos planos a partir de ocorrencias:\n",
    "plt.figure(figsize=(8,5))\n",
    "sns.countplot(data=plans_df, x=\"plan_name\", palette=\"viridis\")\n",
    "plt.title(\"Distribuição dos Planos por ocorrências :\")\n",
    "plt.xlabel(\"Nome do Plano\")\n",
    "plt.ylabel(\"Número de Ocorrências\")\n",
    "plt.show()\n",
    "print()"
   ]
  },
  {
   "cell_type": "markdown",
   "metadata": {
    "id": "YJg2O9qjuj8g"
   },
   "source": [
    "### Usuários:"
   ]
  },
  {
   "cell_type": "code",
   "execution_count": 701,
   "metadata": {
    "id": "7JzxwD2juj8g",
    "trusted": false
   },
   "outputs": [
    {
     "name": "stdout",
     "output_type": "stream",
     "text": [
      "\n",
      "Informações gerais/resumo de users_df:\n",
      "\n",
      "<class 'pandas.core.frame.DataFrame'>\n",
      "RangeIndex: 500 entries, 0 to 499\n",
      "Data columns (total 8 columns):\n",
      " #   Column      Non-Null Count  Dtype \n",
      "---  ------      --------------  ----- \n",
      " 0   user_id     500 non-null    int64 \n",
      " 1   first_name  500 non-null    object\n",
      " 2   last_name   500 non-null    object\n",
      " 3   age         500 non-null    int64 \n",
      " 4   city        500 non-null    object\n",
      " 5   reg_date    500 non-null    object\n",
      " 6   plan        500 non-null    object\n",
      " 7   churn_date  34 non-null     object\n",
      "dtypes: int64(2), object(6)\n",
      "memory usage: 31.4+ KB\n"
     ]
    }
   ],
   "source": [
    "# Imprima informações gerais/resumo sobre o DataFrame dos usuários\n",
    "print(\"\\nInformações gerais/resumo de users_df:\")\n",
    "print()\n",
    "users_df.info()\n"
   ]
  },
  {
   "cell_type": "code",
   "execution_count": 702,
   "metadata": {
    "id": "5KZ8XmD8uj8g",
    "trusted": false
   },
   "outputs": [
    {
     "name": "stdout",
     "output_type": "stream",
     "text": [
      "Amostra dos dados dos usuários :\n",
      "   user_id first_name  last_name  age                                   city  \\\n",
      "0     1000   Anamaria      Bauer   45  Atlanta-Sandy Springs-Roswell, GA MSA   \n",
      "1     1001     Mickey  Wilkerson   28        Seattle-Tacoma-Bellevue, WA MSA   \n",
      "2     1002     Carlee    Hoffman   36   Las Vegas-Henderson-Paradise, NV MSA   \n",
      "3     1003   Reynaldo    Jenkins   52                          Tulsa, OK MSA   \n",
      "4     1004    Leonila   Thompson   40        Seattle-Tacoma-Bellevue, WA MSA   \n",
      "\n",
      "     reg_date      plan churn_date  \n",
      "0  2018-12-24  ultimate        NaN  \n",
      "1  2018-08-13      surf        NaN  \n",
      "2  2018-10-21      surf        NaN  \n",
      "3  2018-01-28      surf        NaN  \n",
      "4  2018-05-23      surf        NaN  \n",
      "\n",
      "Estatísticas descritivas usuários:\n",
      "           user_id         age\n",
      "count   500.000000  500.000000\n",
      "mean   1249.500000   45.486000\n",
      "std     144.481833   16.972269\n",
      "min    1000.000000   18.000000\n",
      "25%    1124.750000   30.000000\n",
      "50%    1249.500000   46.000000\n",
      "75%    1374.250000   61.000000\n",
      "max    1499.000000   75.000000\n"
     ]
    }
   ],
   "source": [
    "print(\"Amostra dos dados dos usuários :\")\n",
    "print(users_df.head())\n",
    "print()\n",
    "print(\"Estatísticas descritivas usuários:\")\n",
    "print(users_df.describe())\n"
   ]
  },
  {
   "cell_type": "markdown",
   "metadata": {
    "id": "XGCgkfLvuj8h"
   },
   "source": [
    "Descreva o que você nota sobre as informações gerais e sobre a amostra de dados impressa acima. Existem problemas (tipos de dados inadequados, dados ausentes, etc.) que precisam de mais investigação e alterações? Como isso pode ser corrigido?\n",
    "\n",
    "**user_id**: O identificador do usuário parece ser um número inteiro, o que está adequado para um identificador exclusivo.  \n",
    "**first_name** e **last_name**: Estão no formato de texto (str), que é o esperado.  \n",
    "**age**: A idade está em formato inteiro, o que é adequado.  \n",
    "**city**: A cidade é uma string, mas parece que alguns valores incluem múltiplas localidades ou MSA (Metropolitan Statistical Area). Isso pode precisar de padronização ou separação se for necessário trabalhar com dados de cidade de forma mais específica.  \n",
    "**reg_date**: A data de inscrição está em formato de string (dd-mm-aa). Ela precisaria ser convertida para um tipo de dado datetime para análise temporal.\n",
    "**plan**: O plano também é uma string, o que está adequado.  \n",
    "**churn_date**: Embora tenha valores ausentes (NaN), está no formato correto, que pode ser convertido para datetime também para análise."
   ]
  },
  {
   "cell_type": "markdown",
   "metadata": {
    "id": "ppiEfe3luj8i"
   },
   "source": [
    "**Corrija os dados**:  \n",
    "Faça a correção de problemas óbvios com os dados conforme as observações iniciais."
   ]
  },
  {
   "cell_type": "code",
   "execution_count": 703,
   "metadata": {
    "id": "Oa1XFooouj8j",
    "trusted": false
   },
   "outputs": [
    {
     "name": "stderr",
     "output_type": "stream",
     "text": [
      "C:\\Users\\Daniel\\AppData\\Local\\Temp\\ipykernel_3220\\1241870064.py:6: FutureWarning: A value is trying to be set on a copy of a DataFrame or Series through chained assignment using an inplace method.\n",
      "The behavior will change in pandas 3.0. This inplace method will never work because the intermediate object on which we are setting values always behaves as a copy.\n",
      "\n",
      "For example, when doing 'df[col].method(value, inplace=True)', try using 'df.method({col: value}, inplace=True)' or df[col] = df[col].method(value) instead, to perform the operation inplace on the original object.\n",
      "\n",
      "\n",
      "  users_df['churn_date'].fillna(pd.to_datetime('today'), inplace=True)\n"
     ]
    },
    {
     "data": {
      "text/html": [
       "<div>\n",
       "<style scoped>\n",
       "    .dataframe tbody tr th:only-of-type {\n",
       "        vertical-align: middle;\n",
       "    }\n",
       "\n",
       "    .dataframe tbody tr th {\n",
       "        vertical-align: top;\n",
       "    }\n",
       "\n",
       "    .dataframe thead th {\n",
       "        text-align: right;\n",
       "    }\n",
       "</style>\n",
       "<table border=\"1\" class=\"dataframe\">\n",
       "  <thead>\n",
       "    <tr style=\"text-align: right;\">\n",
       "      <th></th>\n",
       "      <th>user_id</th>\n",
       "      <th>first_name</th>\n",
       "      <th>last_name</th>\n",
       "      <th>age</th>\n",
       "      <th>city</th>\n",
       "      <th>reg_date</th>\n",
       "      <th>plan</th>\n",
       "      <th>churn_date</th>\n",
       "    </tr>\n",
       "  </thead>\n",
       "  <tbody>\n",
       "    <tr>\n",
       "      <th>0</th>\n",
       "      <td>1000</td>\n",
       "      <td>Anamaria</td>\n",
       "      <td>Bauer</td>\n",
       "      <td>45</td>\n",
       "      <td>Atlanta-Sandy Springs-Roswell</td>\n",
       "      <td>2018-12-24</td>\n",
       "      <td>ultimate</td>\n",
       "      <td>2025-06-28 20:35:30.036005</td>\n",
       "    </tr>\n",
       "    <tr>\n",
       "      <th>1</th>\n",
       "      <td>1001</td>\n",
       "      <td>Mickey</td>\n",
       "      <td>Wilkerson</td>\n",
       "      <td>28</td>\n",
       "      <td>Seattle-Tacoma-Bellevue</td>\n",
       "      <td>2018-08-13</td>\n",
       "      <td>surf</td>\n",
       "      <td>2025-06-28 20:35:30.036005</td>\n",
       "    </tr>\n",
       "    <tr>\n",
       "      <th>2</th>\n",
       "      <td>1002</td>\n",
       "      <td>Carlee</td>\n",
       "      <td>Hoffman</td>\n",
       "      <td>36</td>\n",
       "      <td>Las Vegas-Henderson-Paradise</td>\n",
       "      <td>2018-10-21</td>\n",
       "      <td>surf</td>\n",
       "      <td>2025-06-28 20:35:30.036005</td>\n",
       "    </tr>\n",
       "    <tr>\n",
       "      <th>3</th>\n",
       "      <td>1003</td>\n",
       "      <td>Reynaldo</td>\n",
       "      <td>Jenkins</td>\n",
       "      <td>52</td>\n",
       "      <td>Tulsa</td>\n",
       "      <td>2018-01-28</td>\n",
       "      <td>surf</td>\n",
       "      <td>2025-06-28 20:35:30.036005</td>\n",
       "    </tr>\n",
       "    <tr>\n",
       "      <th>4</th>\n",
       "      <td>1004</td>\n",
       "      <td>Leonila</td>\n",
       "      <td>Thompson</td>\n",
       "      <td>40</td>\n",
       "      <td>Seattle-Tacoma-Bellevue</td>\n",
       "      <td>2018-05-23</td>\n",
       "      <td>surf</td>\n",
       "      <td>2025-06-28 20:35:30.036005</td>\n",
       "    </tr>\n",
       "  </tbody>\n",
       "</table>\n",
       "</div>"
      ],
      "text/plain": [
       "   user_id first_name  last_name  age                           city  \\\n",
       "0     1000   Anamaria      Bauer   45  Atlanta-Sandy Springs-Roswell   \n",
       "1     1001     Mickey  Wilkerson   28        Seattle-Tacoma-Bellevue   \n",
       "2     1002     Carlee    Hoffman   36   Las Vegas-Henderson-Paradise   \n",
       "3     1003   Reynaldo    Jenkins   52                          Tulsa   \n",
       "4     1004    Leonila   Thompson   40        Seattle-Tacoma-Bellevue   \n",
       "\n",
       "    reg_date      plan                 churn_date  \n",
       "0 2018-12-24  ultimate 2025-06-28 20:35:30.036005  \n",
       "1 2018-08-13      surf 2025-06-28 20:35:30.036005  \n",
       "2 2018-10-21      surf 2025-06-28 20:35:30.036005  \n",
       "3 2018-01-28      surf 2025-06-28 20:35:30.036005  \n",
       "4 2018-05-23      surf 2025-06-28 20:35:30.036005  "
      ]
     },
     "execution_count": 703,
     "metadata": {},
     "output_type": "execute_result"
    }
   ],
   "source": [
    "# Conversão de `reg_date` e `churn_date` para datetime:\n",
    "users_df['reg_date'] = pd.to_datetime(users_df['reg_date'], format='%Y-%m-%d')\n",
    "users_df['churn_date'] = pd.to_datetime(users_df['churn_date'], errors='coerce')\n",
    "\n",
    "# Para usuários ainda ativos, podemos substituir NaT (Not a Time) por uma data como a data atual:\n",
    "users_df['churn_date'].fillna(pd.to_datetime('today'), inplace=True)\n",
    "\n",
    "# Normalizar a coluna `city` para manter apenas a cidade principal (excluindo \"MSA\" e outros elementos):\n",
    "users_df['city'] = users_df['city'].str.split(',').str[0]\n",
    "\n",
    "# Exibir o DataFrame corrigido:\n",
    "users_df.head()"
   ]
  },
  {
   "cell_type": "markdown",
   "metadata": {
    "id": "H3gpde3Juj8j"
   },
   "source": [
    "**Enriqueça os dados**:  \n",
    "Inclua fatores adicionais que podem ser úteis:  "
   ]
  },
  {
   "cell_type": "code",
   "execution_count": 704,
   "metadata": {
    "id": "4vuUjT2juj8j",
    "trusted": false
   },
   "outputs": [
    {
     "name": "stdout",
     "output_type": "stream",
     "text": [
      "Tabela de Usuários:\n",
      "   user_id first_name  last_name  age                           city  \\\n",
      "0     1000   Anamaria      Bauer   45  Atlanta-Sandy Springs-Roswell   \n",
      "1     1001     Mickey  Wilkerson   28        Seattle-Tacoma-Bellevue   \n",
      "2     1002     Carlee    Hoffman   36   Las Vegas-Henderson-Paradise   \n",
      "3     1003   Reynaldo    Jenkins   52                          Tulsa   \n",
      "4     1004    Leonila   Thompson   40        Seattle-Tacoma-Bellevue   \n",
      "\n",
      "    reg_date      plan                 churn_date  \n",
      "0 2018-12-24  ultimate 2025-06-28 20:35:30.036005  \n",
      "1 2018-08-13      surf 2025-06-28 20:35:30.036005  \n",
      "2 2018-10-21      surf 2025-06-28 20:35:30.036005  \n",
      "3 2018-01-28      surf 2025-06-28 20:35:30.036005  \n",
      "4 2018-05-23      surf 2025-06-28 20:35:30.036005  \n",
      "\n",
      "\n",
      "Tabela de Chamadas:\n",
      "         id  user_id   call_date  duration\n",
      "0   1000_93     1000  2018-12-27      8.52\n",
      "1  1000_145     1000  2018-12-27     13.66\n",
      "2  1000_247     1000  2018-12-27     14.48\n",
      "3  1000_309     1000  2018-12-28      5.76\n",
      "4  1000_380     1000  2018-12-30      4.22\n",
      "\n",
      "\n",
      "Tabela de Mensagens:\n",
      "         id  user_id message_date\n",
      "0  1000_125     1000   2018-12-27\n",
      "1  1000_160     1000   2018-12-31\n",
      "2  1000_223     1000   2018-12-31\n",
      "3  1000_251     1000   2018-12-27\n",
      "4  1000_255     1000   2018-12-26\n",
      "\n",
      "\n",
      "Tabela de Internet:\n",
      "         id  user_id session_date  mb_used\n",
      "0   1000_13     1000   2018-12-29    89.86\n",
      "1  1000_204     1000   2018-12-31     0.00\n",
      "2  1000_379     1000   2018-12-28   660.40\n",
      "3  1000_413     1000   2018-12-26   270.99\n",
      "4  1000_442     1000   2018-12-27   880.22\n",
      "\n",
      "\n",
      "Tabela de Planos:\n",
      "   messages_included  minutes_included  usd_monthly_pay  usd_per_gb  \\\n",
      "0                 50               500               20          10   \n",
      "1               1000              3000               70           7   \n",
      "\n",
      "   usd_per_message  usd_per_minute plan_name  gb_per_month_included  \n",
      "0             0.03            0.03      surf                   15.0  \n",
      "1             0.01            0.01  ultimate                   30.0  \n",
      "\n",
      "\n",
      "Usuários com informações do plano:\n",
      "   user_id first_name  last_name  age                           city  \\\n",
      "0     1000   Anamaria      Bauer   45  Atlanta-Sandy Springs-Roswell   \n",
      "1     1001     Mickey  Wilkerson   28        Seattle-Tacoma-Bellevue   \n",
      "2     1002     Carlee    Hoffman   36   Las Vegas-Henderson-Paradise   \n",
      "3     1003   Reynaldo    Jenkins   52                          Tulsa   \n",
      "4     1004    Leonila   Thompson   40        Seattle-Tacoma-Bellevue   \n",
      "\n",
      "    reg_date      plan                 churn_date plan_name  usd_monthly_pay  \n",
      "0 2018-12-24  ultimate 2025-06-28 20:35:30.036005  ultimate               70  \n",
      "1 2018-08-13      surf 2025-06-28 20:35:30.036005      surf               20  \n",
      "2 2018-10-21      surf 2025-06-28 20:35:30.036005      surf               20  \n",
      "3 2018-01-28      surf 2025-06-28 20:35:30.036005      surf               20  \n",
      "4 2018-05-23      surf 2025-06-28 20:35:30.036005      surf               20  \n"
     ]
    }
   ],
   "source": [
    "# Correção da coluna 'churn_date' para tratar valores ausentes:\n",
    "users_df['churn_date'] = pd.to_datetime(users_df['churn_date'], errors='coerce')\n",
    "\n",
    "# Verificar as primeiras linhas dos DataFrames corrigidos:\n",
    "print(\"Tabela de Usuários:\")\n",
    "print(users_df.head())\n",
    "print()\n",
    "print(\"\\nTabela de Chamadas:\")\n",
    "print(calls_df.head())\n",
    "print()\n",
    "print(\"\\nTabela de Mensagens:\")\n",
    "print(messages_df.head())\n",
    "print()\n",
    "print(\"\\nTabela de Internet:\")\n",
    "print(internet_df.head())\n",
    "print()\n",
    "print(\"\\nTabela de Planos:\")\n",
    "print(plans_df.head())\n",
    "print()\n",
    "\n",
    "# Merge entre 'users_df' e 'plans_df' para adicionar as informações de preços mensais do plano:\n",
    "users_df = users_df.merge(plans_df[['plan_name', 'usd_monthly_pay']], how='left', left_on='plan', right_on='plan_name')\n",
    "\n",
    "# Exibir o DataFrame de usuários com as informações do plano:\n",
    "print(\"\\nUsuários com informações do plano:\")\n",
    "print(users_df.head())"
   ]
  },
  {
   "cell_type": "markdown",
   "metadata": {
    "id": "f4uSIMuuuj8j"
   },
   "source": [
    "### Chamadas:  "
   ]
  },
  {
   "cell_type": "code",
   "execution_count": 705,
   "metadata": {
    "id": "hkY01fJnuj8j",
    "trusted": false
   },
   "outputs": [
    {
     "name": "stdout",
     "output_type": "stream",
     "text": [
      "Informações gerais sobre o DataFrame das Chamadas:\n",
      "<class 'pandas.core.frame.DataFrame'>\n",
      "RangeIndex: 137735 entries, 0 to 137734\n",
      "Data columns (total 4 columns):\n",
      " #   Column     Non-Null Count   Dtype  \n",
      "---  ------     --------------   -----  \n",
      " 0   id         137735 non-null  object \n",
      " 1   user_id    137735 non-null  int64  \n",
      " 2   call_date  137735 non-null  object \n",
      " 3   duration   137735 non-null  float64\n",
      "dtypes: float64(1), int64(1), object(2)\n",
      "memory usage: 4.2+ MB\n",
      "None\n"
     ]
    }
   ],
   "source": [
    "# Exibir informações gerais sobre o DataFrame das chamadas:\n",
    "print(\"Informações gerais sobre o DataFrame das Chamadas:\")\n",
    "print(calls_df.info())"
   ]
  },
  {
   "cell_type": "code",
   "execution_count": 706,
   "metadata": {
    "id": "wdBwJG5Yuj8k",
    "trusted": false
   },
   "outputs": [
    {
     "name": "stdout",
     "output_type": "stream",
     "text": [
      "Estatísticas descritivas das Chamadas:\n",
      "             user_id       duration\n",
      "count  137735.000000  137735.000000\n",
      "mean     1247.658046       6.745927\n",
      "std       139.416268       5.839241\n",
      "min      1000.000000       0.000000\n",
      "25%      1128.000000       1.290000\n",
      "50%      1247.000000       5.980000\n",
      "75%      1365.000000      10.690000\n",
      "max      1499.000000      37.600000\n",
      "\n",
      "Amostra dos dados das Chamadas:\n",
      "\n",
      "         id  user_id   call_date  duration\n",
      "0   1000_93     1000  2018-12-27      8.52\n",
      "1  1000_145     1000  2018-12-27     13.66\n",
      "2  1000_247     1000  2018-12-27     14.48\n",
      "3  1000_309     1000  2018-12-28      5.76\n",
      "4  1000_380     1000  2018-12-30      4.22\n"
     ]
    }
   ],
   "source": [
    "# Amostra de dados das chamadas:\n",
    "print(\"Estatísticas descritivas das Chamadas:\")\n",
    "print(calls_df.describe())\n",
    "print()\n",
    "print(\"Amostra dos dados das Chamadas:\")\n",
    "print()\n",
    "print(calls_df.head())\n"
   ]
  },
  {
   "cell_type": "markdown",
   "metadata": {},
   "source": [
    "Descreva o que você nota sobre as informações gerais e sobre a amostra de dados impressa acima:  \n",
    "Existem problemas (tipos de dados inadequados, dados ausentes, etc.) que precisam de mais investigação e alterações? Como isso pode ser corrigido?  \n",
    "  \n",
    "- O DataFrame das **Chamadas** contém 5 entradas com 4 colunas, sendo que a coluna  **call_date** contém tipos inadequados, o que pode dificultar a manipulação dos dados.  \n",
    "- A coluna **call_date** precisou ser convertida para o tipo datetime para facilitar a análise temporal.  \n",
    "  \n",
    "Embora não existam dados ausentes, seria interessante verificar a presença de valores discrepantes nas durações das chamadas (que variam de 10 a 30 minutos), além de otimizar os tipos de dados caso o conjunto de dados aumente.  \n",
    "Essas correções melhorariam a integridade e a eficiência do DataFrame para análises futuras."
   ]
  },
  {
   "cell_type": "markdown",
   "metadata": {
    "id": "x5a99U4xuj8k"
   },
   "source": [
    "**Corrija os dados**:  \n",
    "Corrija problemas óbvios com os dados conforme as observações iniciais:"
   ]
  },
  {
   "cell_type": "code",
   "execution_count": 707,
   "metadata": {
    "id": "lBjdw0Bnuj8l",
    "trusted": false
   },
   "outputs": [
    {
     "data": {
      "text/plain": [
       "id                   object\n",
       "user_id               int64\n",
       "call_date    datetime64[ns]\n",
       "duration            float64\n",
       "dtype: object"
      ]
     },
     "execution_count": 707,
     "metadata": {},
     "output_type": "execute_result"
    }
   ],
   "source": [
    "# Converter coluna 'call_date' para o tipo datetime:\n",
    "calls_df['call_date'] = pd.to_datetime(calls_df['call_date'], format='%Y-%m-%d')\n",
    "# Verificar os tipos de dados depois da conversão:\n",
    "calls_df.dtypes"
   ]
  },
  {
   "cell_type": "markdown",
   "metadata": {
    "id": "MFm5xyh4uj8l"
   },
   "source": [
    "**Enriqueça os dados**:  \n",
    "Acrescente fatores adicionais que possam ser úteis:"
   ]
  },
  {
   "cell_type": "code",
   "execution_count": 708,
   "metadata": {
    "id": "nwOKTgfluj8l",
    "trusted": false
   },
   "outputs": [
    {
     "name": "stdout",
     "output_type": "stream",
     "text": [
      "Amostra de chamadas com novas colunas:\n",
      "   duration call_type  call_date    month  weekday  is_weekend\n",
      "0      8.52     longa 2018-12-27  2018-12        3       False\n",
      "1     13.66     longa 2018-12-27  2018-12        3       False\n",
      "2     14.48     longa 2018-12-27  2018-12        3       False\n",
      "3      5.76     longa 2018-12-28  2018-12        4       False\n",
      "4      4.22     curta 2018-12-30  2018-12        6        True\n",
      "\n",
      "\n",
      "Contagem de chamadas por tipo:\n",
      "call_type\n",
      "longa    76586\n",
      "curta    61149\n",
      "Name: count, dtype: int64\n",
      "\n",
      "\n",
      "Distribuição de chamadas por dia da semana (0=Segunda, 6=Domingo):\n",
      "weekday\n",
      "0    20329\n",
      "1    19245\n",
      "2    19139\n",
      "3    19471\n",
      "4    19541\n",
      "5    19828\n",
      "6    20182\n",
      "Name: count, dtype: int64\n",
      "\n",
      "\n",
      "Total de chamadas feitas no fim de semana:\n",
      "40010\n"
     ]
    }
   ],
   "source": [
    "# Função simples para classificar a duração da chamada:\n",
    "def classificar_chamada(duracao):\n",
    "    if duracao < 5:\n",
    "        return 'curta'\n",
    "    else:\n",
    "        return 'longa'\n",
    "\n",
    "# Aplicar a coluna 'duration' e criar uma nova coluna 'call_type':\n",
    "calls_df['call_type'] = calls_df['duration'].apply(classificar_chamada)\n",
    "\n",
    "# Criar coluna com o mês da chamada (para análises mensais):\n",
    "calls_df['month'] = calls_df['call_date'].dt.to_period('M')\n",
    "\n",
    "# Criar coluna com o dia da semana (0 = segunda, 6 = domingo):\n",
    "calls_df['weekday'] = calls_df['call_date'].dt.dayofweek\n",
    "\n",
    "# Criar coluna booleana indicando se a chamada foi no fim de semana:\n",
    "calls_df['is_weekend'] = calls_df['weekday'].isin([5, 6])\n",
    "\n",
    "# Confirmar resultados:\n",
    "print(\"Amostra de chamadas com novas colunas:\")\n",
    "print(calls_df[['duration', 'call_type', 'call_date', 'month', 'weekday', 'is_weekend']].head())\n",
    "print()\n",
    "# Contagem de chamadas curtas e longas:\n",
    "print(\"\\nContagem de chamadas por tipo:\")\n",
    "print(calls_df['call_type'].value_counts())\n",
    "print()\n",
    "# Distribuição de chamadas por dia da semana:\n",
    "print(\"\\nDistribuição de chamadas por dia da semana (0=Segunda, 6=Domingo):\")\n",
    "print(calls_df['weekday'].value_counts().sort_index())\n",
    "print()\n",
    "# Total de chamadas feitas em fins de semana:\n",
    "print(\"\\nTotal de chamadas feitas no fim de semana:\")\n",
    "print(calls_df['is_weekend'].sum())"
   ]
  },
  {
   "cell_type": "markdown",
   "metadata": {
    "id": "qLz4FkyRuj8l"
   },
   "source": [
    "### Mensagens:"
   ]
  },
  {
   "cell_type": "code",
   "execution_count": 709,
   "metadata": {
    "id": "nFA9DFkCuj8l",
    "trusted": false
   },
   "outputs": [
    {
     "name": "stdout",
     "output_type": "stream",
     "text": [
      "         id  user_id message_date\n",
      "0  1000_125     1000   2018-12-27\n",
      "1  1000_160     1000   2018-12-31\n",
      "2  1000_223     1000   2018-12-31\n",
      "3  1000_251     1000   2018-12-27\n",
      "4  1000_255     1000   2018-12-26\n",
      "<class 'pandas.core.frame.DataFrame'>\n",
      "RangeIndex: 76051 entries, 0 to 76050\n",
      "Data columns (total 3 columns):\n",
      " #   Column        Non-Null Count  Dtype \n",
      "---  ------        --------------  ----- \n",
      " 0   id            76051 non-null  object\n",
      " 1   user_id       76051 non-null  int64 \n",
      " 2   message_date  76051 non-null  object\n",
      "dtypes: int64(1), object(2)\n",
      "memory usage: 1.7+ MB\n",
      "None\n",
      "\n",
      "Há valores ausentes?:\n",
      "id              0\n",
      "user_id         0\n",
      "message_date    0\n",
      "dtype: int64\n"
     ]
    }
   ],
   "source": [
    "# Imprima informações gerais/resumo sobre o DataFrame das mensagens:\n",
    "print(messages_df.head())\n",
    "\n",
    "# Informações gerais:\n",
    "print(messages_df.info())\n",
    "print()\n",
    "\n",
    "# Se há valores ausentes:\n",
    "print(\"Há valores ausentes?:\")\n",
    "print(messages_df.isnull().sum())\n"
   ]
  },
  {
   "cell_type": "code",
   "execution_count": 710,
   "metadata": {
    "id": "ysEFBZWxuj8m",
    "trusted": false
   },
   "outputs": [
    {
     "name": "stdout",
     "output_type": "stream",
     "text": [
      "Estatísticas descritivas de messages_df:\n",
      "\n",
      "            user_id\n",
      "count  76051.000000\n",
      "mean    1245.972768\n",
      "std      139.843635\n",
      "min     1000.000000\n",
      "25%     1123.000000\n",
      "50%     1251.000000\n",
      "75%     1362.000000\n",
      "max     1497.000000\n"
     ]
    }
   ],
   "source": [
    "# Amostra dos dados das mensagens:\n",
    "print(\"Estatísticas descritivas de messages_df:\")\n",
    "print()\n",
    "print(messages_df.describe())\n"
   ]
  },
  {
   "cell_type": "markdown",
   "metadata": {
    "id": "GUtt1TqCuj8m"
   },
   "source": [
    "Descreva o que você nota sobre as informações gerais e sobre a amostra de dados impressa acima.  \n",
    "Existem problemas (tipos de dados inadequados, dados ausentes, etc.) que precisam de mais investigação e alterações? Como isso pode ser corrigido?  \n",
    "  \n",
    "Os dados parecem bem estruturados, sem valores ausentes e com os tipos corretos para cada coluna.    \n",
    "A coluna **month** pode ter sido calculada incorretamente, já que o mês 4 não apareceu na amostra. Isso pode indicar falha na extração ou simplesmente a ausência de registros para abril.  \n",
    "Além disso, como a amostra contém apenas cinco registros, pode não ser suficiente para identificar padrões ou inconsistências mais abrangentes.  \n",
    "Para garantir que a coluna **month** esteja correta, o ideal seria recalculá-la a partir da data da mensagem.  "
   ]
  },
  {
   "cell_type": "markdown",
   "metadata": {
    "id": "tT8N_hc6uj8m"
   },
   "source": [
    "**Corrija os dados**:  \n",
    "Corrija problemas óbvios com os dados conforme as observações iniciais."
   ]
  },
  {
   "cell_type": "code",
   "execution_count": 711,
   "metadata": {
    "id": "SpBqbQHCuj8m",
    "trusted": false
   },
   "outputs": [
    {
     "name": "stdout",
     "output_type": "stream",
     "text": [
      "             id  user_id message_date  month\n",
      "0      1000_125     1000   2018-12-27     12\n",
      "1      1000_160     1000   2018-12-31     12\n",
      "2      1000_223     1000   2018-12-31     12\n",
      "3      1000_251     1000   2018-12-27     12\n",
      "4      1000_255     1000   2018-12-26     12\n",
      "...         ...      ...          ...    ...\n",
      "76046  1497_526     1497   2018-12-24     12\n",
      "76047  1497_536     1497   2018-12-24     12\n",
      "76048  1497_547     1497   2018-12-31     12\n",
      "76049  1497_558     1497   2018-12-24     12\n",
      "76050  1497_613     1497   2018-12-23     12\n",
      "\n",
      "[76051 rows x 4 columns]\n"
     ]
    }
   ],
   "source": [
    "# Converter a coluna 'message_date' para datetime:\n",
    "messages_df['message_date'] = pd.to_datetime(messages_df['message_date'])\n",
    "#remover linhas aonde a data esteja ausente:\n",
    "messages_df = messages_df.dropna(subset=['message_date'])\n",
    "# Corrigir a coluna 'month' com base na 'message_date':\n",
    "messages_df['month'] = messages_df['message_date'].dt.month.astype(int)\n",
    "\n",
    "# Exibir o dataframe corrigido\n",
    "print(messages_df)"
   ]
  },
  {
   "cell_type": "markdown",
   "metadata": {
    "id": "feV2Njo9uj8n"
   },
   "source": [
    "**Enriqueça os dados**:  \n",
    "Inclua fatores adicionais aos dados se você acredita que eles podem ser úteis."
   ]
  },
  {
   "cell_type": "code",
   "execution_count": 712,
   "metadata": {
    "id": "SkuCXcLJuj8n",
    "trusted": false
   },
   "outputs": [
    {
     "name": "stdout",
     "output_type": "stream",
     "text": [
      "  message_date  month  weekday  is_weekend  week_of_year  year\n",
      "0   2018-12-27     12        3       False            52  2018\n",
      "1   2018-12-31     12        0       False             1  2018\n",
      "2   2018-12-31     12        0       False             1  2018\n",
      "3   2018-12-27     12        3       False            52  2018\n",
      "4   2018-12-26     12        2       False            52  2018\n"
     ]
    }
   ],
   "source": [
    "# Criar coluna com o dia da semana (0 = segunda, 6 = domingo)\n",
    "messages_df['weekday'] = messages_df['message_date'].dt.dayofweek\n",
    "\n",
    "# Criar coluna booleana indicando se a mensagem foi enviada no fim de semana\n",
    "messages_df['is_weekend'] = messages_df['weekday'].isin([5, 6])\n",
    "\n",
    "# Criar coluna com a semana do ano (útil para agrupamentos semanais)\n",
    "messages_df['week_of_year'] = messages_df['message_date'].dt.isocalendar().week\n",
    "\n",
    "# Criar coluna com o ano (caso haja mais de um ano no dataset)\n",
    "messages_df['year'] = messages_df['message_date'].dt.year\n",
    "print(messages_df[['message_date', 'month', 'weekday', 'is_weekend', 'week_of_year', 'year']].head())"
   ]
  },
  {
   "cell_type": "markdown",
   "metadata": {
    "id": "ZRFaOWzGuj8n"
   },
   "source": [
    "### Internet:"
   ]
  },
  {
   "cell_type": "code",
   "execution_count": 713,
   "metadata": {
    "id": "ob3-qv4nuj8n",
    "trusted": false
   },
   "outputs": [
    {
     "name": "stdout",
     "output_type": "stream",
     "text": [
      "         id  user_id session_date  mb_used\n",
      "0   1000_13     1000   2018-12-29    89.86\n",
      "1  1000_204     1000   2018-12-31     0.00\n",
      "2  1000_379     1000   2018-12-28   660.40\n",
      "3  1000_413     1000   2018-12-26   270.99\n",
      "4  1000_442     1000   2018-12-27   880.22\n",
      "\n",
      "Há valores ausentes?:\n",
      "id              0\n",
      "user_id         0\n",
      "session_date    0\n",
      "mb_used         0\n",
      "dtype: int64\n",
      "<class 'pandas.core.frame.DataFrame'>\n",
      "RangeIndex: 104825 entries, 0 to 104824\n",
      "Data columns (total 4 columns):\n",
      " #   Column        Non-Null Count   Dtype  \n",
      "---  ------        --------------   -----  \n",
      " 0   id            104825 non-null  object \n",
      " 1   user_id       104825 non-null  int64  \n",
      " 2   session_date  104825 non-null  object \n",
      " 3   mb_used       104825 non-null  float64\n",
      "dtypes: float64(1), int64(1), object(2)\n",
      "memory usage: 3.2+ MB\n",
      "None\n"
     ]
    }
   ],
   "source": [
    "# Imprima informações gerais/resumo sobre o DataFrame da internet:\n",
    "print(internet_df.head())\n",
    "print()\n",
    "#verificar se há valores ausentes ou nulos:\n",
    "print(\"Há valores ausentes?:\")\n",
    "print(internet_df.isnull().sum())\n",
    "#Informações:\n",
    "print(internet_df.info())"
   ]
  },
  {
   "cell_type": "code",
   "execution_count": 714,
   "metadata": {
    "id": "iIHK4fZsuj8n",
    "trusted": false
   },
   "outputs": [
    {
     "name": "stdout",
     "output_type": "stream",
     "text": [
      "             user_id        mb_used\n",
      "count  104825.000000  104825.000000\n",
      "mean     1242.496361     366.713701\n",
      "std       142.053913     277.170542\n",
      "min      1000.000000       0.000000\n",
      "25%      1122.000000     136.080000\n",
      "50%      1236.000000     343.980000\n",
      "75%      1367.000000     554.610000\n",
      "max      1499.000000    1693.470000\n"
     ]
    }
   ],
   "source": [
    "# Estatísticas descritivas das colunas numéricas:\n",
    "print(internet_df.describe())\n"
   ]
  },
  {
   "cell_type": "markdown",
   "metadata": {
    "id": "6wpo7ugquj8o"
   },
   "source": [
    "Descreva o que você nota sobre as informações gerais e sobre a amostra de dados impressa acima.  \n",
    "Existem problemas (tipos de dados inadequados, dados ausentes, etc.) que precisam de mais investigação e alterações? Como isso pode ser corrigido?  \n",
    "  \n",
    "Os dados fornecidos consistem em informações sobre o uso de dados por usuários, com registros contendo o identificador de cada sessão (id), o identificador do usuário (user_id), a data da sessão (session_date) e a quantidade de megabytes utilizados na sessão (mb_used). A amostra exibida apresenta algumas variações no uso de dados, com **valores que vão de 0 a 1693.47 MB**.  \n",
    "É possível notar que o campo **session_date** está em formato texto e deve ser convertido para o tipo datetime, enquanto o **user_id** pode ser tratado como string, caso represente um identificador único, sem a necessidade de cálculos numéricos.  \n",
    "Não há valores ausentes aparentes, mas foi necessária a verificação de valores NaN.  \n",
    "  \n",
    "- O valor **mínimo** de **mb_used** sendo 0 MB pode indicar sessões sem uso de dados, o que pode ser normal ou refletir erros no registro dos dados.    \n",
    "- O valor **máximo** de 1693.47 MB parece alto, mas não é necessariamente inválido.  \n",
    "- Para investigar possíveis anomalias, pode-se aplicar o método **IQR (intervalo interquartil)** para identificar os outliers.  \n",
    "- Importante verificar se há registros de usuários com sessões de 0 MB e se precisam de algum ajuste.  "
   ]
  },
  {
   "cell_type": "markdown",
   "metadata": {
    "id": "Tly90YrTuj8o"
   },
   "source": [
    "**Corrija os dados**:  \n",
    "Corrija problemas óbvios com os dados conforme as observações iniciais."
   ]
  },
  {
   "cell_type": "code",
   "execution_count": 715,
   "metadata": {
    "id": "GCoX7kbmuj8o",
    "trusted": false
   },
   "outputs": [
    {
     "name": "stdout",
     "output_type": "stream",
     "text": [
      "<class 'pandas.core.frame.DataFrame'>\n",
      "RangeIndex: 104825 entries, 0 to 104824\n",
      "Data columns (total 4 columns):\n",
      " #   Column        Non-Null Count   Dtype  \n",
      "---  ------        --------------   -----  \n",
      " 0   id            104825 non-null  object \n",
      " 1   user_id       104825 non-null  int64  \n",
      " 2   session_date  104825 non-null  object \n",
      " 3   mb_used       104825 non-null  float64\n",
      "dtypes: float64(1), int64(1), object(2)\n",
      "memory usage: 3.2+ MB\n",
      "None\n",
      "\n",
      "         id  user_id session_date  mb_used\n",
      "0   1000_13     1000   2018-12-29    89.86\n",
      "1  1000_204     1000   2018-12-31     0.00\n",
      "2  1000_379     1000   2018-12-28   660.40\n",
      "3  1000_413     1000   2018-12-26   270.99\n",
      "4  1000_442     1000   2018-12-27   880.22\n",
      "id                      object\n",
      "user_id                  int64\n",
      "session_date    datetime64[ns]\n",
      "mb_used                float64\n",
      "dtype: object\n",
      "\n",
      "Quantidade de outliers encontrados: 424\n",
      "     user_id  mb_used\n",
      "400     1003  1222.45\n",
      "414     1003  1220.86\n",
      "950     1006  1301.96\n",
      "972     1006  1257.78\n",
      "1172    1007  1282.83\n",
      "\n",
      "Usuários com pelo menos uma sessão de 0 MB: 477\n",
      "\n",
      "Primeiras linhas dos dados limpos:\n",
      "         id user_id session_date  mb_used\n",
      "0   1000_13    1000   2018-12-29    89.86\n",
      "1  1000_204    1000   2018-12-31     0.00\n",
      "2  1000_379    1000   2018-12-28   660.40\n",
      "3  1000_413    1000   2018-12-26   270.99\n",
      "4  1000_442    1000   2018-12-27   880.22\n"
     ]
    }
   ],
   "source": [
    "# Verificar tipos de dados e primeiras linhas\n",
    "print(internet_df.info())\n",
    "print()\n",
    "print(internet_df.head())\n",
    "\n",
    "# Converter a coluna 'session_date' para o tipo datetime (importante para análises por tempo)\n",
    "internet_df['session_date'] = pd.to_datetime(internet_df['session_date'])\n",
    "\n",
    "# Verificar novamente após a conversão\n",
    "print(internet_df.dtypes)\n",
    "\n",
    "# Converter 'user_id' para string, pois é apenas um identificador e não será usado em cálculos\n",
    "internet_df['user_id'] = internet_df['user_id'].astype(str)\n",
    "\n",
    "# Verificar possíveis valores fora do padrão (outliers) em 'mb_used'\n",
    "Q1 = internet_df['mb_used'].quantile(0.25)\n",
    "Q3 = internet_df['mb_used'].quantile(0.75)\n",
    "IQR = Q3 - Q1\n",
    "\n",
    "# Limites para detectar outliers\n",
    "limite_inferior = Q1 - 1.5 * IQR\n",
    "limite_superior = Q3 + 1.5 * IQR\n",
    "\n",
    "# Verificar registros considerados outliers\n",
    "outliers = internet_df[(internet_df['mb_used'] < limite_inferior) | (internet_df['mb_used'] > limite_superior)]\n",
    "print(f\"\\nQuantidade de outliers encontrados: {outliers.shape[0]}\")\n",
    "print(outliers[['user_id', 'mb_used']].head())\n",
    "\n",
    "# Criar nova versão da base de dados sem os outliers\n",
    "internet_df_cleaned = internet_df[~internet_df.index.isin(outliers.index)].copy()\n",
    "\n",
    "# Verificar sessões com uso de dados igual a 0 MB\n",
    "usuarios_com_zero = internet_df_cleaned[internet_df_cleaned['mb_used'] == 0]['user_id'].nunique()\n",
    "print(f\"\\nUsuários com pelo menos uma sessão de 0 MB: {usuarios_com_zero}\")\n",
    "\n",
    "# Visualizar os dados ajustados\n",
    "print(\"\\nPrimeiras linhas dos dados limpos:\")\n",
    "print(internet_df_cleaned.head())"
   ]
  },
  {
   "cell_type": "markdown",
   "metadata": {},
   "source": [
    "- Foi realizada a conversão de **session_date** para **datetime**, o que é essencial para trabalhar com datas.  \n",
    "- Ajuste de **user_id** para string, pois ele é apenas um identificador.  \n",
    "- Foram identificados e removidos outliers com o método do IQR.  \n",
    "- Contagem de quantos usuários tiveram sessões com 0 MB, pode ser relevante em análises futuras.  \n",
    "- Foi criado um novo DataFrame com os dados limpos **internet_df_cleaned**."
   ]
  },
  {
   "cell_type": "markdown",
   "metadata": {
    "id": "DEDbrtFduj8o"
   },
   "source": [
    "**Enriqueça os dados**:  \n",
    "Inclua fatores adicionais aos dados se você acredita que eles podem ser úteis."
   ]
  },
  {
   "cell_type": "code",
   "execution_count": 716,
   "metadata": {
    "id": "f1PoZ3Ukuj8p",
    "trusted": false
   },
   "outputs": [
    {
     "name": "stdout",
     "output_type": "stream",
     "text": [
      "  session_date    weekday  is_weekend\n",
      "0   2018-12-29   Saturday        True\n",
      "1   2018-12-31     Monday       False\n",
      "2   2018-12-28     Friday       False\n",
      "3   2018-12-26  Wednesday       False\n",
      "4   2018-12-27   Thursday       False\n"
     ]
    }
   ],
   "source": [
    "# Criar coluna com o nome do dia da semana (ex: Segunda, Terça)\n",
    "internet_df_cleaned['weekday'] = internet_df_cleaned['session_date'].dt.day_name()\n",
    "\n",
    "# Criar coluna indicando se a sessão foi feita no fim de semana\n",
    "internet_df_cleaned['is_weekend'] = internet_df_cleaned['weekday'].isin(['Saturday', 'Sunday'])\n",
    "\n",
    "# Verificar\n",
    "print(internet_df_cleaned[['session_date', 'weekday', 'is_weekend']].head())\n"
   ]
  },
  {
   "cell_type": "markdown",
   "metadata": {
    "id": "bnOX4ARJuj8p"
   },
   "source": [
    "### Estudo sobre as condições dos planos:"
   ]
  },
  {
   "cell_type": "markdown",
   "metadata": {
    "id": "vMu9_L8quj8p"
   },
   "source": [
    "É fundamental entender como os planos funcionam, ou seja, como as cobranças dos usuários são feitas com base na assinatura.  \n",
    "Imprima as informações sobre os planos para visualizar novamente as condições.  "
   ]
  },
  {
   "cell_type": "code",
   "execution_count": 717,
   "metadata": {
    "id": "vMXVndWEuj8p",
    "scrolled": true,
    "trusted": false
   },
   "outputs": [
    {
     "name": "stdout",
     "output_type": "stream",
     "text": [
      "Plano: surf\n",
      " Valor mensal: $20.00\n",
      " Minutos incluidos: 500 minutos\n",
      " Mensagens incluidas: 50 mensagens\n",
      " Dados incluidos: 15.0 GB\n",
      " Custo por minuto excedente: $0.03 por minuto\n",
      " Custo por mensagem excedente: $0.03 por mensagem\n",
      " Custo por GB excedente: $10.00 por GB\n",
      "--------------------\n",
      "Plano: ultimate\n",
      " Valor mensal: $70.00\n",
      " Minutos incluidos: 3000 minutos\n",
      " Mensagens incluidas: 1000 mensagens\n",
      " Dados incluidos: 30.0 GB\n",
      " Custo por minuto excedente: $0.01 por minuto\n",
      " Custo por mensagem excedente: $0.01 por mensagem\n",
      " Custo por GB excedente: $7.00 por GB\n",
      "--------------------\n"
     ]
    }
   ],
   "source": [
    "# Imprima as condições dos planos e certifique-se de que elas fazem sentido para você:\n",
    "for index, row in plans_df.iterrows():\n",
    "    print(f\"Plano: {row['plan_name']}\")\n",
    "    print(f\" Valor mensal: ${row['usd_monthly_pay']:.2f}\")\n",
    "    print(f\" Minutos incluidos: {row['minutes_included']} minutos\")\n",
    "    print(f\" Mensagens incluidas: {row['messages_included']} mensagens\")\n",
    "    print(f\" Dados incluidos: {row['gb_per_month_included']} GB\")\n",
    "    print(f\" Custo por minuto excedente: ${row['usd_per_minute']:.2f} por minuto\")\n",
    "    print(f\" Custo por mensagem excedente: ${row['usd_per_message']:.2f} por mensagem\")\n",
    "    print(f\" Custo por GB excedente: ${row['usd_per_gb']:.2f} por GB\")\n",
    "    print(\"-\" * 20)"
   ]
  },
  {
   "cell_type": "markdown",
   "metadata": {
    "id": "1v1EshDmuj8q"
   },
   "source": [
    "### Agregue os dados por usuário:  \n",
    "Como os dados limpos, agregue por usuário e por período para ter apenas um registro dessas informações.  \n",
    "Calcule o número de chamadas feitas por cada usuário por mês, e salve o resultado.  "
   ]
  },
  {
   "cell_type": "code",
   "execution_count": 718,
   "metadata": {
    "id": "4hmb2pSPuj8q",
    "trusted": false
   },
   "outputs": [
    {
     "name": "stdout",
     "output_type": "stream",
     "text": [
      "      user_id    month  num_calls\n",
      "0        1000  2018-12         16\n",
      "1        1001  2018-08         27\n",
      "2        1001  2018-09         49\n",
      "3        1001  2018-10         65\n",
      "4        1001  2018-11         64\n",
      "...       ...      ...        ...\n",
      "2253     1498  2018-12         39\n",
      "2254     1499  2018-09         41\n",
      "2255     1499  2018-10         53\n",
      "2256     1499  2018-11         45\n",
      "2257     1499  2018-12         65\n",
      "\n",
      "[2258 rows x 3 columns]\n"
     ]
    }
   ],
   "source": [
    "# Certificando que a coluna call date esta em date-time:\n",
    "calls_df['call_date'] = pd.to_datetime(calls_df['call_date'])\n",
    "\n",
    "# Criar coluna 'month' com base na data:\n",
    "calls_df['month'] = calls_df['call_date'].dt.to_period('M')\n",
    "calls_per_user_per_month = calls_df.groupby(['user_id', 'month']).size().reset_index(name='num_calls')\n",
    "\n",
    "print(calls_per_user_per_month)"
   ]
  },
  {
   "cell_type": "markdown",
   "metadata": {},
   "source": [
    "Calcule a quantidade de minutos gastos por cada usuário por mês, e salve o resultado.  "
   ]
  },
  {
   "cell_type": "code",
   "execution_count": 719,
   "metadata": {
    "id": "yHgBWCJJuj8q",
    "trusted": false
   },
   "outputs": [
    {
     "name": "stdout",
     "output_type": "stream",
     "text": [
      "      user_id  month  total_minutes_spent_per_month\n",
      "0        1000     12                         116.83\n",
      "1        1001      8                         171.14\n",
      "2        1001      9                         297.69\n",
      "3        1001     10                         374.11\n",
      "4        1001     11                         404.59\n",
      "...       ...    ...                            ...\n",
      "2253     1498     12                         324.77\n",
      "2254     1499      9                         330.37\n",
      "2255     1499     10                         363.28\n",
      "2256     1499     11                         288.56\n",
      "2257     1499     12                         468.10\n",
      "\n",
      "[2258 rows x 3 columns]\n"
     ]
    }
   ],
   "source": [
    "# Adicionar coluna de mês na tabela de chamadas:\n",
    "calls_df['month'] = calls_df['call_date'].dt.month\n",
    "\n",
    "# Calcular o total de minutos por usuário por mês:\n",
    "minutes_per_user_per_month = calls_df.groupby(['user_id', 'month'])['duration'].sum().reset_index(name='total_minutes_spent_per_month')\n",
    "\n",
    "# Exibir o resultado:\n",
    "print(minutes_per_user_per_month)"
   ]
  },
  {
   "cell_type": "markdown",
   "metadata": {},
   "source": [
    "Calcule o número de mensagens enviadas por cada usuário por mês, e salve o resultado."
   ]
  },
  {
   "cell_type": "code",
   "execution_count": 720,
   "metadata": {
    "id": "MaM_cPxauj8q",
    "trusted": false
   },
   "outputs": [
    {
     "name": "stdout",
     "output_type": "stream",
     "text": [
      "      user_id  month  total_messages_sent_per_month\n",
      "0        1000     12                             11\n",
      "1        1001      8                             30\n",
      "2        1001      9                             44\n",
      "3        1001     10                             53\n",
      "4        1001     11                             36\n",
      "...       ...    ...                            ...\n",
      "1801     1496      9                             21\n",
      "1802     1496     10                             18\n",
      "1803     1496     11                             13\n",
      "1804     1496     12                             11\n",
      "1805     1497     12                             50\n",
      "\n",
      "[1806 rows x 3 columns]\n"
     ]
    }
   ],
   "source": [
    "# Adicionar coluna mês à tabela de mensagens:\n",
    "messages_df['month'] = messages_df['message_date'].dt.month\n",
    "\n",
    "# Calcular o total de mensagens enviadas por usuário por mês\n",
    "messages_per_user_per_month = messages_df.groupby(['user_id', 'month']).size().reset_index(name='total_messages_sent_per_month')\n",
    "\n",
    "# Exibir o resultado\n",
    "print(messages_per_user_per_month)\n"
   ]
  },
  {
   "cell_type": "markdown",
   "metadata": {},
   "source": [
    "Calcule o volume de tráfego de internet usado por cada usuário por mês, e salve o resultado:"
   ]
  },
  {
   "cell_type": "code",
   "execution_count": 721,
   "metadata": {
    "id": "WsCEZJ_xuj8q",
    "trusted": false
   },
   "outputs": [
    {
     "name": "stdout",
     "output_type": "stream",
     "text": [
      "     user_id  month  total_traffic_used_mb\n",
      "0       1000     12                1901.47\n",
      "1       1001      8                6919.15\n",
      "2       1001      9               13314.82\n",
      "3       1001     10               22330.49\n",
      "4       1001     11               18504.30\n",
      "...      ...    ...                    ...\n",
      "2272    1498     12               23137.69\n",
      "2273    1499      9               12984.76\n",
      "2274    1499     10               19492.43\n",
      "2275    1499     11               15580.97\n",
      "2276    1499     12               20614.24\n",
      "\n",
      "[2277 rows x 3 columns]\n"
     ]
    }
   ],
   "source": [
    "# Calcule o volume de tráfego de internet usado por cada usuário por mês. Salve o resultado.\n",
    "internet_df_cleaned['session_date'] = pd.to_datetime(internet_df_cleaned['session_date'])\n",
    "# Adicionar coluna mês à tabela internet:\n",
    "internet_df_cleaned['month'] = internet_df_cleaned['session_date'].dt.month\n",
    "# Calcular o volume total de tráfego de internet usado por usuário por mês\n",
    "internet_traffic_per_user_per_month = internet_df_cleaned.groupby(['user_id', 'month'])['mb_used'].sum().reset_index(name='total_traffic_used_mb')\n",
    "# Exibir o resultado\n",
    "print(internet_traffic_per_user_per_month)\n"
   ]
  },
  {
   "cell_type": "markdown",
   "metadata": {
    "id": "6nBsD4hduj8q"
   },
   "source": [
    "Coloque os dados agregados em um DataFrame para que cada registro nele represente o que cada usuário consumiu em um determinado mês:"
   ]
  },
  {
   "cell_type": "code",
   "execution_count": 722,
   "metadata": {
    "id": "BYDTkxOauj8r",
    "trusted": false
   },
   "outputs": [
    {
     "name": "stdout",
     "output_type": "stream",
     "text": [
      "   user_id    month  total_calls  total_duration  total_messages_sent  \\\n",
      "0     1000  2018-12           16          116.83                   11   \n",
      "1     1001  2018-08           27          171.14                   30   \n",
      "2     1001  2018-09           49          297.69                   44   \n",
      "3     1001  2018-10           65          374.11                   53   \n",
      "4     1001  2018-11           64          404.59                   36   \n",
      "\n",
      "   total_traffic_used_mb  \n",
      "0                1901.47  \n",
      "1                6919.15  \n",
      "2               13314.82  \n",
      "3               22330.49  \n",
      "4               18504.30  \n"
     ]
    }
   ],
   "source": [
    "# Junte os dados de chamadas, minutos, mensagens e internet com base em user_id e month\n",
    "# Garantir consistência dos tipos\n",
    "calls_df['user_id'] = calls_df['user_id'].astype(int)\n",
    "messages_df['user_id'] = messages_df['user_id'].astype(int)\n",
    "internet_df['user_id'] = internet_df['user_id'].astype(int)\n",
    "\n",
    "# Criar coluna 'month' com base nas datas\n",
    "calls_df['month'] = pd.to_datetime(calls_df['call_date']).dt.to_period('M')\n",
    "messages_df['month'] = pd.to_datetime(messages_df['message_date']).dt.to_period('M')\n",
    "internet_df['month'] = pd.to_datetime(internet_df['session_date']).dt.to_period('M')\n",
    "\n",
    "# Agregar por user_id e month\n",
    "calls_per_user_per_month = calls_df.groupby(['user_id', 'month']).agg(\n",
    "    total_calls=('id', 'count'),\n",
    "    total_duration=('duration', 'sum')\n",
    ").reset_index()\n",
    "\n",
    "messages_per_user_per_month = messages_df.groupby(['user_id', 'month']).agg(\n",
    "    total_messages_sent=('id', 'count')\n",
    ").reset_index()\n",
    "\n",
    "internet_per_user_per_month = internet_df.groupby(['user_id', 'month']).agg(\n",
    "    total_traffic_used_mb=('mb_used', 'sum')\n",
    ").reset_index()\n",
    "\n",
    "# Juntar os dados agregados\n",
    "monthly_user_consumption = calls_per_user_per_month.merge(\n",
    "    messages_per_user_per_month,\n",
    "    on=['user_id', 'month'],\n",
    "    how='outer'\n",
    ").merge(\n",
    "    internet_per_user_per_month,\n",
    "    on=['user_id', 'month'],\n",
    "    how='outer'\n",
    ").fillna(0)\n",
    "\n",
    "# Garantir tipos consistentes após o fillna\n",
    "monthly_user_consumption['total_calls'] = monthly_user_consumption['total_calls'].astype(int)\n",
    "monthly_user_consumption['total_messages_sent'] = monthly_user_consumption['total_messages_sent'].astype(int)\n",
    "monthly_user_consumption['total_duration'] = monthly_user_consumption['total_duration'].astype(float)\n",
    "monthly_user_consumption['total_traffic_used_mb'] = monthly_user_consumption['total_traffic_used_mb'].astype(float)\n",
    "\n",
    "print(monthly_user_consumption.head())"
   ]
  },
  {
   "cell_type": "markdown",
   "metadata": {},
   "source": [
    "Adicione as informações sobre o plano"
   ]
  },
  {
   "cell_type": "code",
   "execution_count": 723,
   "metadata": {
    "id": "SW-sgLaHuj8r",
    "trusted": false
   },
   "outputs": [
    {
     "name": "stdout",
     "output_type": "stream",
     "text": [
      "   user_id    month  total_calls  total_duration  total_messages_sent  \\\n",
      "0     1000  2018-12           16          116.83                   11   \n",
      "1     1001  2018-08           27          171.14                   30   \n",
      "2     1001  2018-09           49          297.69                   44   \n",
      "3     1001  2018-10           65          374.11                   53   \n",
      "4     1001  2018-11           64          404.59                   36   \n",
      "\n",
      "   total_traffic_used_mb      plan  messages_included  minutes_included  \\\n",
      "0                1901.47  ultimate               1000              3000   \n",
      "1                6919.15      surf                 50               500   \n",
      "2               13314.82      surf                 50               500   \n",
      "3               22330.49      surf                 50               500   \n",
      "4               18504.30      surf                 50               500   \n",
      "\n",
      "   usd_monthly_pay  usd_per_gb  usd_per_message  usd_per_minute plan_name  \\\n",
      "0               70           7             0.01            0.01  ultimate   \n",
      "1               20          10             0.03            0.03      surf   \n",
      "2               20          10             0.03            0.03      surf   \n",
      "3               20          10             0.03            0.03      surf   \n",
      "4               20          10             0.03            0.03      surf   \n",
      "\n",
      "   gb_per_month_included  \n",
      "0                   30.0  \n",
      "1                   15.0  \n",
      "2                   15.0  \n",
      "3                   15.0  \n",
      "4                   15.0  \n"
     ]
    }
   ],
   "source": [
    "# Garantir user_id como inteiro\n",
    "users_df['user_id'] = users_df['user_id'].astype(int)\n",
    "\n",
    "# Juntar os dados do plano do usuário\n",
    "monthly_user_consumption = monthly_user_consumption.merge(\n",
    "    users_df[['user_id', 'plan']],\n",
    "    on='user_id',\n",
    "    how='left'\n",
    ")\n",
    "\n",
    "# Juntar com os detalhes do plano\n",
    "monthly_user_consumption = monthly_user_consumption.merge(\n",
    "    plans_df,\n",
    "    left_on='plan',\n",
    "    right_on='plan_name',\n",
    "    how='left'\n",
    ")\n",
    "\n",
    "print(monthly_user_consumption.head())"
   ]
  },
  {
   "cell_type": "markdown",
   "metadata": {
    "id": "mU8dKHTQuj8r"
   },
   "source": [
    "Calcule a receita mensal para cada usuário:  \n",
    "Subtraia o limite gratuito do pacote do número total de chamadas, mensagens de texto e dados;  \n",
    "Multiplique o resultado pelo valor do plano; adicione o preço mensal dependendo do plano.  \n",
    "Importante: isso talvez não seja tão simples e necessite de várias linhas, considerando as condições do plano."
   ]
  },
  {
   "cell_type": "code",
   "execution_count": 724,
   "metadata": {
    "id": "JiPHXbQAuj8r",
    "trusted": false
   },
   "outputs": [
    {
     "name": "stdout",
     "output_type": "stream",
     "text": [
      "   user_id    month  excesso_chamadas  excesso_mensagens  excesso_trafego  \\\n",
      "0     1000  2018-12                 0                  0         0.000000   \n",
      "1     1001  2018-08                 0                  0         0.000000   \n",
      "2     1001  2018-09                 0                  0         0.000000   \n",
      "3     1001  2018-10                 0                  3         6.807119   \n",
      "4     1001  2018-11                 0                  0         3.070605   \n",
      "\n",
      "   receita_total_per_client  \n",
      "0                 70.000000  \n",
      "1                 20.000000  \n",
      "2                 20.000000  \n",
      "3                 88.161191  \n",
      "4                 50.706055  \n"
     ]
    }
   ],
   "source": [
    "# Calcule a receita mensal para cada usuário:\n",
    "# Calcular as quantidades excedentes:\n",
    "monthly_user_consumption['excesso_chamadas'] = monthly_user_consumption['total_calls'] - monthly_user_consumption['minutes_included']\n",
    "monthly_user_consumption['excesso_mensagens'] = monthly_user_consumption['total_messages_sent'] - monthly_user_consumption['messages_included']\n",
    "monthly_user_consumption['excesso_trafego'] = monthly_user_consumption['total_traffic_used_mb'] / 1024 - monthly_user_consumption['gb_per_month_included']  # Convertendo MB para GB\n",
    "\n",
    "# Garantir que as quantidades excedentes sejam 0 se não houver excesso:\n",
    "monthly_user_consumption['excesso_chamadas'] = monthly_user_consumption['excesso_chamadas'].apply(lambda x: max(x, 0))\n",
    "monthly_user_consumption['excesso_mensagens'] = monthly_user_consumption['excesso_mensagens'].apply(lambda x: max(x, 0))\n",
    "monthly_user_consumption['excesso_trafego'] = monthly_user_consumption['excesso_trafego'].apply(lambda x: max(x, 0))\n",
    "\n",
    "# Calcular o custo adicional para chamadas, mensagens e dados:\n",
    "monthly_user_consumption['receita_chamadas'] = monthly_user_consumption['excesso_chamadas'] * monthly_user_consumption['usd_per_minute']\n",
    "monthly_user_consumption['receita_mensagens'] = monthly_user_consumption['excesso_mensagens'] * monthly_user_consumption['usd_per_message']\n",
    "monthly_user_consumption['receita_trafego'] = monthly_user_consumption['excesso_trafego'] * monthly_user_consumption['usd_per_gb']\n",
    "\n",
    "# Calcular a receita mensal total (incluindo o valor fixo do plano):\n",
    "monthly_user_consumption['receita_total_per_client'] = monthly_user_consumption['usd_monthly_pay'] + monthly_user_consumption['receita_chamadas'] + monthly_user_consumption['receita_mensagens'] + monthly_user_consumption['receita_trafego']\n",
    "\n",
    "# Exibir o resultado com as quantidades excedentes:\n",
    "print(monthly_user_consumption[['user_id', 'month', 'excesso_chamadas', 'excesso_mensagens', 'excesso_trafego', 'receita_total_per_client']].head())"
   ]
  },
  {
   "cell_type": "markdown",
   "metadata": {},
   "source": [
    "<div class=\"alert alert-block alert-success\">\n",
    "<b>Comentário do revisor: </b> <a class=\"tocSkip\"></a>\n",
    "\n",
    "- Todas as etapas do processamento dos dados foram realizadas corretamente. \n",
    "- Os códigos estão organizados e com boa performance.\n",
    "- Foram adicionados comentários que agregam a análise de dados.\n",
    "\n",
    "</div>"
   ]
  },
  {
   "cell_type": "markdown",
   "metadata": {
    "id": "0HFWXKTQuj8r"
   },
   "source": [
    "### Estude o comportamento do usuário"
   ]
  },
  {
   "cell_type": "markdown",
   "metadata": {
    "id": "i6gGFggkuj8s"
   },
   "source": [
    "Calcule algumas estatísticas descritivas úteis para os dados agregados, o que costuma revelar uma imagem geral capturada pelos dados.  \n",
    "Desenhe gráficos úteis para ajudar na compreensão.  \n",
    "Já que a tarefa principal é comparar os planos e decidir qual é mais rentável, as estatísticas e os gráficos devem ser calculados por plano.  "
   ]
  },
  {
   "cell_type": "markdown",
   "metadata": {
    "id": "umaMfSLxuj8s"
   },
   "source": [
    "### Chamadas:  \n",
    "\n",
    "Compare a duração média das chamadas de cada plano para cada mês.  \n",
    "Crie um gráfico de barras para visualizar o resultado."
   ]
  },
  {
   "cell_type": "code",
   "execution_count": 725,
   "metadata": {
    "id": "0236-tJnuj8t",
    "trusted": false
   },
   "outputs": [
    {
     "data": {
      "image/png": "[encoded data removed]",
      "text/plain": [
       "<Figure size 1000x600 with 1 Axes>"
      ]
     },
     "metadata": {},
     "output_type": "display_data"
    }
   ],
   "source": [
    "# Ajuste para meses no eixo X:\n",
    "average_call_duration['month_abbr'] = average_call_duration['month'].apply(lambda x: calendar.month_abbr[x.month] if hasattr(x, 'month') else calendar.month_abbr[int(str(x)[-2:])])\n",
    "\n",
    "# Definir ordem cronológica\n",
    "month_order = list(calendar.month_abbr)[1:]  # Ignora o primeiro item vazio\n",
    "\n",
    "# Plotando o gráfico com nomes abreviados dos meses\n",
    "plt.figure(figsize=(10, 6))\n",
    "sns.barplot(data=average_call_duration, \n",
    "            x='month_abbr', \n",
    "            y='average_call_duration', \n",
    "            hue='plan', \n",
    "            palette='viridis',\n",
    "            order=month_order)\n",
    "\n",
    "# Configurar o gráfico\n",
    "plt.title('Average Call Duration by Plan and Month')\n",
    "plt.xlabel('Month')\n",
    "plt.ylabel('Average Call Duration (minutes)')\n",
    "plt.xticks(rotation=0)\n",
    "plt.legend(title='Plan', loc='upper right')\n",
    "\n",
    "plt.tight_layout()\n",
    "plt.show()\n"
   ]
  },
  {
   "cell_type": "markdown",
   "metadata": {},
   "source": [
    "Compare o número de minutos que os usuários de cada plano necessitam a cada mês.  \n",
    "Construa um histograma."
   ]
  },
  {
   "cell_type": "code",
   "execution_count": 726,
   "metadata": {
    "id": "9sCQ1lP8uj8u",
    "trusted": false
   },
   "outputs": [
    {
     "data": {
      "image/png": "[encoded data removed]",
      "text/plain": [
       "<Figure size 1000x600 with 1 Axes>"
      ]
     },
     "metadata": {},
     "output_type": "display_data"
    }
   ],
   "source": [
    "# Histograma:\n",
    "plt.figure(figsize=(10, 6))\n",
    "ax = sns.histplot(\n",
    "    data=monthly_user_consumption,\n",
    "    x='total_duration',\n",
    "    hue='plan',\n",
    "    bins=30,\n",
    "    kde=False,\n",
    "    palette='viridis',\n",
    "    multiple='stack'\n",
    ")\n",
    "\n",
    "# Configurar o gráfico\n",
    "handles, labels = ax.get_legend_handles_labels()\n",
    "if handles:\n",
    "    plt.legend(title='Plano', handles=handles, labels=labels)\n",
    "else:\n",
    "    plt.legend(title='Plano', labels=['surf', 'ultimate'])  # alternativa manual\n",
    "\n",
    "plt.title('Distribuição dos Minutos Usados por Usuário em Cada Mês (por Plano)')\n",
    "plt.xlabel('Minutos usados por mês (por usuário)')\n",
    "plt.ylabel('Número de usuários-mês')\n",
    "plt.tight_layout()\n",
    "plt.show()"
   ]
  },
  {
   "cell_type": "markdown",
   "metadata": {
    "id": "_x1pRDFtuj8u"
   },
   "source": [
    "Calcule a média e a variância da duração das chamadas para refletir se os usuários de cada plano possuem comportamentos diferentes sobre as chamadas:"
   ]
  },
  {
   "cell_type": "code",
   "execution_count": 727,
   "metadata": {
    "id": "cIdodPExuj8u",
    "trusted": false
   },
   "outputs": [
    {
     "name": "stdout",
     "output_type": "stream",
     "text": [
      "      Plano  Média (min/mês)     Variância  Desvio Padrão\n",
      "0      surf       404.762390  49135.104891     221.664397\n",
      "1  ultimate       406.193083  51640.971402     227.246499\n"
     ]
    }
   ],
   "source": [
    "# Agrupar por plano e calcular média e variância:\n",
    "stats_calls = monthly_user_consumption.groupby('plan')['total_duration'].agg(['mean', 'var', 'std']).reset_index()\n",
    "\n",
    "# Renomear colunas para clareza:\n",
    "stats_calls.columns = ['Plano', 'Média (min/mês)', 'Variância', 'Desvio Padrão']\n",
    "\n",
    "# Mostrar a tabela formatada:\n",
    "print(stats_calls)"
   ]
  },
  {
   "cell_type": "markdown",
   "metadata": {},
   "source": [
    "Faça um diagrama de caixa para visualizar a distribuição da duração mensal das chamadas:  "
   ]
  },
  {
   "cell_type": "code",
   "execution_count": 728,
   "metadata": {
    "id": "DW7vTypxuj8u",
    "trusted": false
   },
   "outputs": [
    {
     "data": {
      "image/png": "[encoded data removed]",
      "text/plain": [
       "<Figure size 1000x600 with 1 Axes>"
      ]
     },
     "metadata": {},
     "output_type": "display_data"
    }
   ],
   "source": [
    "plt.figure(figsize=(10, 6))\n",
    "sns.boxplot(\n",
    "    data=monthly_user_consumption,\n",
    "    x='plan',\n",
    "    y='total_duration',\n",
    "    hue='plan',          # Adicionado\n",
    "    palette='viridis',\n",
    "    legend=False         # Para não repetir legenda desnecessária\n",
    ")\n",
    "\n",
    "plt.title('Distribuição da Duração Mensal das Chamadas por Plano')\n",
    "plt.xlabel('Plano')\n",
    "plt.ylabel('Duração Total das Chamadas no Mês (minutos)')\n",
    "plt.tight_layout()\n",
    "plt.show()"
   ]
  },
  {
   "cell_type": "markdown",
   "metadata": {
    "id": "Uyt3rWn7uj8u"
   },
   "source": [
    "Formule conclusões sobre como os usuários se comportam em termos de chamadas. O comportamento é diferente dependendo do plano?\n",
    "\n",
    "**Semelhanças entre planos**:  \n",
    "Ambos os planos têm médias muito semelhantes para a duração das chamadas,  \n",
    "em termos de uso médio de minutos, os planos são parecidos.  \n",
    "  \n",
    "**Diferenças entre planos**:  \n",
    "O **Plano Ultimate** apresenta maior variabilidade no uso de minutos, com mais outliers e uma maior dispersão em torno da média,  \n",
    "o que pode indicar um comportamento mais imprevisível, com alguns usuários consumindo muito mais minutos que outros.  \n",
    "O **Plano Surf** tem um comportamento mais consistente, com menos usuários ultrapassando o limite de minutos.  \n",
    "  \n",
    "Essas observações podem ser úteis para entender o potencial de receita adicional, onde o **Plano Ultimate** tem mais espaço para cobrança extra devido ao uso variável,  \n",
    "enquanto o **Plano Surf** pode ser mais estável em termos de consumo."
   ]
  },
  {
   "cell_type": "markdown",
   "metadata": {
    "id": "2hWSPtrnuj8v"
   },
   "source": [
    "### Mensagens:"
   ]
  },
  {
   "cell_type": "code",
   "execution_count": 729,
   "metadata": {
    "id": "9kPlAhOJuj8v",
    "scrolled": true,
    "trusted": false
   },
   "outputs": [
    {
     "data": {
      "image/png": "[encoded data removed]",
      "text/plain": [
       "<Figure size 1000x600 with 1 Axes>"
      ]
     },
     "metadata": {},
     "output_type": "display_data"
    }
   ],
   "source": [
    "# Garantir que a coluna de data esteja no formato datetime\n",
    "messages_df['message_date'] = pd.to_datetime(messages_df['message_date'])\n",
    "\n",
    "# Contar o número de mensagens enviadas por usuário a cada mês\n",
    "monthly_user_messages = messages_df.groupby(['user_id', 'message_date']).size().reset_index(name='total_messages')\n",
    "\n",
    "# Adicionar a coluna do plano, unindo com a tabela de usuários\n",
    "monthly_user_messages = monthly_user_messages.merge(users_df[['user_id', 'plan']], on='user_id', how='left')\n",
    "\n",
    "# Extrair o número do mês\n",
    "monthly_user_messages['month'] = monthly_user_messages['message_date'].dt.month\n",
    "\n",
    "# Agrupar por plano e mês e calcular a média de mensagens enviadas\n",
    "average_messages_per_month = monthly_user_messages.groupby(['plan', 'month'])['total_messages'].mean().reset_index(name='average_messages')\n",
    "\n",
    "# Converter o número do mês para o nome abreviado\n",
    "average_messages_per_month['month'] = average_messages_per_month['month'].apply(lambda x: calendar.month_abbr[x])\n",
    "\n",
    "# Plotar o gráfico de barras\n",
    "plt.figure(figsize=(10, 6))\n",
    "sns.barplot(data=average_messages_per_month, x='month', y='average_messages', hue='plan', palette='viridis')\n",
    "\n",
    "# Configurar o gráfico\n",
    "plt.title('Média de Mensagens Enviadas por Plano e Mês')\n",
    "plt.xlabel('Mês')\n",
    "plt.ylabel('Média de Mensagens Enviadas')\n",
    "plt.xticks(rotation=45)\n",
    "plt.legend(title='Plano', loc='upper right')\n",
    "\n",
    "# Exibir o gráfico\n",
    "plt.tight_layout()\n",
    "plt.show()"
   ]
  },
  {
   "cell_type": "markdown",
   "metadata": {},
   "source": [
    "<div class=\"alert alert-block alert-success\">\n",
    "<b>Comentário do revisor: </b> <a class=\"tocSkip\"></a>\n",
    "\n",
    "O gráfico está ótimo!\n",
    "</div>"
   ]
  },
  {
   "cell_type": "markdown",
   "metadata": {},
   "source": [
    "Compare a quantidade de tráfego de internet consumido pelos usuários por plano:"
   ]
  },
  {
   "cell_type": "code",
   "execution_count": 730,
   "metadata": {
    "id": "fIVdRuT6uj8v",
    "trusted": false
   },
   "outputs": [
    {
     "data": {
      "image/png": "[encoded data removed]",
      "text/plain": [
       "<Figure size 1000x600 with 1 Axes>"
      ]
     },
     "metadata": {},
     "output_type": "display_data"
    }
   ],
   "source": [
    "# Agrupar o consumo de dados por usuário e mês:\n",
    "monthly_user_internet = internet_df.groupby(['user_id', 'session_date'])['mb_used'].sum().reset_index(name='total_data_usage')\n",
    "\n",
    "# Adicionar a coluna do plano, unindo com a tabela de usuários:\n",
    "monthly_user_internet = monthly_user_internet.merge(users_df[['user_id', 'plan']], on='user_id', how='left')\n",
    "\n",
    "# Extrair o mês de cada data de sessão de internet:\n",
    "monthly_user_internet['month'] = monthly_user_internet['session_date'].dt.month\n",
    "\n",
    "# Agrupar por plano e mês e calcular a média de consumo de dados:\n",
    "average_data_per_month = monthly_user_internet.groupby(['plan', 'month'])['total_data_usage'].mean().reset_index(name='average_data_usage')\n",
    "\n",
    "# Plotting the bar chart:\n",
    "plt.figure(figsize=(10, 6))\n",
    "sns.barplot(data=average_data_per_month, x='month', y='average_data_usage', hue='plan', palette='viridis')\n",
    "\n",
    "# Configurar o gráfico:\n",
    "plt.title('Média de Tráfego de Internet Consumido por Plano e Mês')\n",
    "plt.xlabel('Mês')\n",
    "plt.ylabel('Média de Tráfego de Internet (MB)')\n",
    "plt.xticks(rotation=45)\n",
    "plt.legend(title='Plano', loc='upper right')\n",
    "\n",
    "# Exibir o gráfico:\n",
    "plt.tight_layout()\n",
    "plt.show()"
   ]
  },
  {
   "cell_type": "markdown",
   "metadata": {},
   "source": [
    "Visualize a distribuição das mensagens enviadas por plano:"
   ]
  },
  {
   "cell_type": "code",
   "execution_count": 731,
   "metadata": {
    "id": "di6wucOLuj8v",
    "trusted": false
   },
   "outputs": [
    {
     "data": {
      "image/png": "[encoded data removed]",
      "text/plain": [
       "<Figure size 1000x600 with 1 Axes>"
      ]
     },
     "metadata": {},
     "output_type": "display_data"
    }
   ],
   "source": [
    "plt.figure(figsize=(10, 6))\n",
    "sns.boxplot(\n",
    "    data=monthly_user_messages,\n",
    "    x='plan',\n",
    "    y='total_messages',\n",
    "    hue='plan',\n",
    "    palette='viridis',\n",
    "    legend=False\n",
    ")\n",
    "\n",
    "plt.title('Distribuição de Mensagens Enviadas por Plano')\n",
    "plt.xlabel('Plano')\n",
    "plt.ylabel('Mensagens Enviadas por Usuário (por mês)')\n",
    "plt.tight_layout()\n",
    "plt.show()"
   ]
  },
  {
   "cell_type": "markdown",
   "metadata": {
    "id": "nHUCwAnauj8w"
   },
   "source": [
    "### Internet:"
   ]
  },
  {
   "cell_type": "markdown",
   "metadata": {},
   "source": [
    "Encontre os minutos, e volume de dados que os usuários de cada plano necessitam por mês:"
   ]
  },
  {
   "cell_type": "code",
   "execution_count": 732,
   "metadata": {
    "id": "EEm27RaRuj8w",
    "trusted": false
   },
   "outputs": [
    {
     "name": "stdout",
     "output_type": "stream",
     "text": [
      "Consumo médio mensal de internet por plano:\n",
      "       plan  average_internet_minutes  average_data_mb\n",
      "0      surf                 77.942903       779.429031\n",
      "1  ultimate                 79.371054       793.710539\n"
     ]
    }
   ],
   "source": [
    "# Taxa de conversão: 10 MB = 1 minuto de internet:\n",
    "MB_PER_MINUTE = 10\n",
    "\n",
    "# Agrupar o uso total de dados por usuário e mês:\n",
    "monthly_user_internet = internet_df.groupby(['user_id', 'session_date'])['mb_used'].sum().reset_index(name='total_data_usage')\n",
    "\n",
    "# Converter MB em minutos estimados:\n",
    "monthly_user_internet['estimated_minutes'] = monthly_user_internet['total_data_usage'] / MB_PER_MINUTE\n",
    "\n",
    "# Adicionar informação do plano de cada usuário:\n",
    "monthly_user_internet = monthly_user_internet.merge(users_df[['user_id', 'plan']], on='user_id', how='left')\n",
    "\n",
    "# Extrair o número do mês (para separar uso mensal):\n",
    "monthly_user_internet['month'] = monthly_user_internet['session_date'].dt.month\n",
    "\n",
    "# Calcular médias mensais por plano (minutos estimados e volume de dados):\n",
    "monthly_avg_by_plan = monthly_user_internet.groupby('plan')[['estimated_minutes', 'total_data_usage']].mean().reset_index()\n",
    "\n",
    "# Renomear colunas para melhor clareza:\n",
    "monthly_avg_by_plan.columns = ['plan', 'average_internet_minutes', 'average_data_mb']\n",
    "\n",
    "# Exibir resultados:\n",
    "print('Consumo médio mensal de internet por plano:')\n",
    "print(monthly_avg_by_plan)"
   ]
  },
  {
   "cell_type": "code",
   "execution_count": 733,
   "metadata": {
    "id": "Detb0wIZuj8w",
    "trusted": false
   },
   "outputs": [
    {
     "name": "stdout",
     "output_type": "stream",
     "text": [
      "\n",
      "Amostra após o merge com 'users_df':\n",
      "\n",
      "   user_id  total_data_usage  estimated_minutes      plan\n",
      "0     1000            270.99             27.099  ultimate\n",
      "1     1000            880.22             88.022  ultimate\n",
      "2     1000            660.40             66.040  ultimate\n",
      "3     1000             89.86              8.986  ultimate\n",
      "4     1000              0.00              0.000  ultimate\n",
      "\n",
      "Estatísticas descritivas do uso de internet por plano (MB e GB):\n",
      "\n",
      "       plan  mean_minutes  var_minutes  std_minutes  mean_data_mb  \\\n",
      "0      surf     77.942903  3770.396052    61.403551    779.429031   \n",
      "1  ultimate     79.371054  3822.940582    61.829933    793.710539   \n",
      "\n",
      "     var_data_mb  std_data_mb  mean_data_gb  var_data_gb  std_data_gb  \n",
      "0  377039.605239   614.035508      0.761161     0.359573     0.599644  \n",
      "1  382294.058186   618.299327      0.775108     0.364584     0.603808  \n"
     ]
    }
   ],
   "source": [
    "# Remover qualquer 'plan' existente para evitar conflitos no merge:\n",
    "monthly_user_internet = monthly_user_internet.drop(columns=['plan'], errors='ignore')\n",
    "\n",
    "# Fazer o merge correto com users_df para trazer o plano:\n",
    "monthly_user_internet = monthly_user_internet.merge(users_df[['user_id', 'plan']], on='user_id', how='left')\n",
    "\n",
    "# Verificar se a coluna 'plan' foi corretamente adicionada:\n",
    "print(\"\\nAmostra após o merge com 'users_df':\\n\")\n",
    "print(monthly_user_internet[['user_id', 'total_data_usage', 'estimated_minutes', 'plan']].head())\n",
    "\n",
    "# Calcular estatísticas descritivas por plano em MB:\n",
    "stats_by_plan = monthly_user_internet.groupby('plan').agg({\n",
    "    'estimated_minutes': ['mean', 'var', 'std'],\n",
    "    'total_data_usage': ['mean', 'var', 'std']\n",
    "}).reset_index()\n",
    "\n",
    "# Ajustar nomes das colunas:\n",
    "stats_by_plan.columns = ['plan',\n",
    "                         'mean_minutes', 'var_minutes', 'std_minutes',\n",
    "                         'mean_data_mb', 'var_data_mb', 'std_data_mb']\n",
    "\n",
    "# Adicionar colunas em GB (1 GB = 1024 MB):\n",
    "stats_by_plan['mean_data_gb'] = stats_by_plan['mean_data_mb'] / 1024\n",
    "stats_by_plan['var_data_gb'] = stats_by_plan['var_data_mb'] / (1024 ** 2)  # variância escala com o quadrado\n",
    "stats_by_plan['std_data_gb'] = stats_by_plan['std_data_mb'] / 1024\n",
    "\n",
    "# Exibir resultados:\n",
    "print()\n",
    "print('Estatísticas descritivas do uso de internet por plano (MB e GB):')\n",
    "print()\n",
    "print(stats_by_plan)\n"
   ]
  },
  {
   "cell_type": "markdown",
   "metadata": {},
   "source": [
    "Por que variância é dividida por 1024²?  \n",
    "- Variância tem unidade ao quadrado, então para converter de MB² para GB² divide por (1024²).\n",
    "- Desvio padrão é raiz da variância, por isso divide por 1024 (mesmo fator da média)."
   ]
  },
  {
   "cell_type": "markdown",
   "metadata": {},
   "source": [
    "Histograma de minutos estimados de uso de internet por plano:"
   ]
  },
  {
   "cell_type": "code",
   "execution_count": 734,
   "metadata": {
    "id": "1zsw31_cuj8w",
    "trusted": false
   },
   "outputs": [
    {
     "data": {
      "image/png": "[encoded data removed]",
      "text/plain": [
       "<Figure size 1200x600 with 1 Axes>"
      ]
     },
     "metadata": {},
     "output_type": "display_data"
    },
    {
     "data": {
      "image/png": "[encoded data removed]",
      "text/plain": [
       "<Figure size 1200x600 with 1 Axes>"
      ]
     },
     "metadata": {},
     "output_type": "display_data"
    }
   ],
   "source": [
    "plt.figure(figsize=(12, 6))\n",
    "sns.histplot(data=monthly_user_internet, x='estimated_minutes', hue='plan', kde=True, bins=20, palette='viridis', alpha=0.6)\n",
    "\n",
    "# Título e configurações do gráfico:\n",
    "plt.title('Distribuição de Minutos Estimados de Internet por Plano')\n",
    "plt.xlabel('Minutos Estimados de Uso de Internet')\n",
    "plt.ylabel('Frequência')\n",
    "\n",
    "# Criar a legenda manualmente:\n",
    "plt.legend(title='Plano', labels=['Plano Surf', 'Plano Ultimate'], loc='upper right')\n",
    "\n",
    "# Exibir gráfico:\n",
    "plt.tight_layout()\n",
    "plt.show()\n",
    "\n",
    "# Histograma de volume de dados consumidos (em GB) por plano:\n",
    "plt.figure(figsize=(12, 6))\n",
    "sns.histplot(data=monthly_user_internet, x='total_data_usage', hue='plan', kde=True, bins=20, palette='viridis', alpha=0.6)\n",
    "\n",
    "# Título e configurações do gráfico:\n",
    "plt.title('Distribuição de Dados Consumidos (em GB) por Plano')\n",
    "plt.xlabel('Volume de Dados Consumidos (em GB)')\n",
    "plt.ylabel('Frequência')\n",
    "\n",
    "# Criar a legenda manualmente:\n",
    "plt.legend(title='Plano', labels=['Plano Surf', 'Plano Ultimate'], loc='upper right')\n",
    "\n",
    "# Exibir gráfico:\n",
    "plt.tight_layout()\n",
    "plt.show()"
   ]
  },
  {
   "cell_type": "markdown",
   "metadata": {
    "id": "GsHkFpGmuj8w"
   },
   "source": [
    "Formule conclusões sobre como os usuários tendem a consumir o tráfego da internet.  \n",
    "O comportamento é diferente dependendo do plano?  \n",
    "  \n",
    "- Os usuários de ambos os planos têm um comportamento de uso de dados muito semelhante.  \n",
    "  \n",
    "- A média e o desvio padrão são quase iguais, o que indica ausência de diferença significativa no uso médio.  \n",
    "  \n",
    "- Pouquíssimos usuários extrapolam o limite do **Plano Surf**, o que pode indicar que o plano é mais que suficiente para o perfil médio do cliente Megaline em relação à internet.  \n",
    "Já o **Plano Ultimate** oferece mais do que os usuários realmente consomem, o que pode não justificar o preço mais alto para quem usa pouco internet."
   ]
  },
  {
   "cell_type": "markdown",
   "metadata": {
    "id": "g23qXaYNuj8x"
   },
   "source": [
    "### Receita:  \n",
    "Conforme as análises de comportamento dos usuários, descreva estatisticamente as receitas dos planos:"
   ]
  },
  {
   "cell_type": "code",
   "execution_count": 735,
   "metadata": {
    "id": "CGuBwYRyuj8y",
    "trusted": false
   },
   "outputs": [
    {
     "name": "stdout",
     "output_type": "stream",
     "text": [
      "0        70\n",
      "1        70\n",
      "2        70\n",
      "3        70\n",
      "4        70\n",
      "         ..\n",
      "49028    20\n",
      "49029    20\n",
      "49030    20\n",
      "49031    20\n",
      "49032    20\n",
      "Name: revenue, Length: 49033, dtype: int64\n"
     ]
    }
   ],
   "source": [
    "# Receita mensal por usuário:\n",
    "def calculate_revenue(row):\n",
    "    if row['plan'] == 'surf':\n",
    "        monthly_fee = 20\n",
    "        extra_mb_cost = 0.01\n",
    "    else:  # Ultimate\n",
    "        monthly_fee = 70\n",
    "        extra_mb_cost = 0\n",
    "\n",
    "    if row['total_data_usage'] > 15360:  # 15 GB = 15360 MB para Surf\n",
    "        extra_cost = (row['total_data_usage'] - 15360) * extra_mb_cost\n",
    "    else:\n",
    "        extra_cost = 0\n",
    "\n",
    "    return monthly_fee + extra_cost\n",
    "\n",
    "# Calcular receita com base no uso:\n",
    "monthly_user_internet['revenue'] = monthly_user_internet.apply(calculate_revenue, axis=1)\n",
    "print(monthly_user_internet['revenue'])"
   ]
  },
  {
   "cell_type": "code",
   "execution_count": 736,
   "metadata": {
    "id": "qJSyfvUguj8y",
    "trusted": false
   },
   "outputs": [
    {
     "name": "stdout",
     "output_type": "stream",
     "text": [
      "Estatísticas descritivas da receita mensal por plano:\n",
      "\n",
      "       plan  mean_revenue  var_revenue  std_revenue\n",
      "0      surf          20.0          0.0          0.0\n",
      "1  ultimate          70.0          0.0          0.0\n"
     ]
    }
   ],
   "source": [
    "# Estatísticas descritivas da receita por plano:\n",
    "revenue_stats_by_plan = monthly_user_internet.groupby('plan')['revenue'].agg(['mean', 'var', 'std']).reset_index()\n",
    "\n",
    "# Renomear colunas:\n",
    "revenue_stats_by_plan.columns = ['plan', 'mean_revenue', 'var_revenue', 'std_revenue']\n",
    "\n",
    "# Exibir tabela:\n",
    "print('Estatísticas descritivas da receita mensal por plano:')\n",
    "print()\n",
    "print(revenue_stats_by_plan)"
   ]
  },
  {
   "cell_type": "markdown",
   "metadata": {},
   "source": [
    "Histograma da receita por plano:"
   ]
  },
  {
   "cell_type": "code",
   "execution_count": 737,
   "metadata": {
    "id": "KUSxMW71uj8z",
    "trusted": false
   },
   "outputs": [
    {
     "data": {
      "image/png": "[encoded data removed]",
      "text/plain": [
       "<Figure size 1200x600 with 1 Axes>"
      ]
     },
     "metadata": {},
     "output_type": "display_data"
    }
   ],
   "source": [
    "# Histograma da receita por plano (sem kde)\n",
    "plt.figure(figsize=(12, 6))\n",
    "sns.histplot(data=monthly_user_consumption, x='receita_total_per_client', hue='plan', bins=30, palette='viridis', alpha=0.6)\n",
    "plt.title('Distribuição da Receita Mensal por Plano')\n",
    "plt.xlabel('Receita Mensal (€)')\n",
    "plt.ylabel('Frequência')\n",
    "plt.legend(title='Plano', labels=['Plano Surf', 'Plano Ultimate'])\n",
    "plt.tight_layout()\n",
    "plt.show()"
   ]
  },
  {
   "cell_type": "markdown",
   "metadata": {
    "id": "6X34EwHpuj8z"
   },
   "source": [
    "Formule conclusões sobre como a receita difere entre os planos:  \n",
    "  \n",
    "Com base na análise de uso e receita, observa-se que a **receita mensal por usuário é fixa em ambos os planos**:  \n",
    "20€ no Plano Surf e 70€ no Plano Ultimate, sem variações entre clientes.  \n",
    "  \n",
    "Isso indica que nenhum usuário do **Plano Surf** excedeu a franquia de dados (15 GB), o que impede a geração de receita adicional.  \n",
    "Já o **Plano Ultimate**, com internet ilimitada, também não permite receitas variáveis.  \n",
    "Apesar disso, o **Plano Ultimate** gera 3,5 vezes mais receita por cliente.  \n",
    "  \n",
    "Considerando que o consumo médio de internet é semelhante nos dois planos, uma estratégia recomendada para a empresa seria estimular a migração de usuários do **Plano Surf** para o **Plano Ultimate**,  \n",
    "especialmente entre aqueles com maior uso mensal, maximizando o faturamento sem necessidade de expandir a base de clientes."
   ]
  },
  {
   "cell_type": "markdown",
   "metadata": {
    "id": "xJ6Mu-KAuj8z"
   },
   "source": [
    "### Teste hipóteses estatísticas:"
   ]
  },
  {
   "cell_type": "markdown",
   "metadata": {
    "id": "lop_0j4Duj8z"
   },
   "source": [
    "- Teste a hipótese de que a receita média dos usuários dos planos Ultimate e Surf são diferentes.\n",
    "- Formule as hipóteses nula e alternativa, escolha o teste estatístico, escolha o valor alfa."
   ]
  },
  {
   "cell_type": "code",
   "execution_count": 738,
   "metadata": {
    "id": "LyGrPhpUuj80",
    "trusted": false
   },
   "outputs": [
    {
     "name": "stdout",
     "output_type": "stream",
     "text": [
      "Estatística do teste: 0.00\n",
      "Valor-p: 0.00000\n",
      "\n",
      "Resultado: Como o valor-p (0.00000) < α (0.05), rejeitamos H₀.\n",
      "Conclusão: Há evidências de que a receita média dos dois planos é diferente.\n"
     ]
    }
   ],
   "source": [
    "# Definir nível de significância:\n",
    "alpha = 0.05\n",
    "\n",
    "# Separar receitas por plano:\n",
    "revenues_surf = monthly_user_internet[monthly_user_internet['plan'] == 'surf']['revenue'].tolist()\n",
    "revenues_ultimate = monthly_user_internet[monthly_user_internet['plan'] == 'ultimate']['revenue'].tolist()\n",
    "\n",
    "# Executar o teste de Mann-Whitney U:\n",
    "stat, p_value = mannwhitneyu(revenues_surf, revenues_ultimate, alternative='two-sided')\n",
    "\n",
    "# Exibir resultados:\n",
    "print(f'Estatística do teste: {stat:.2f}')\n",
    "print(f'Valor-p: {p_value:.5f}')\n",
    "\n",
    "if p_value < alpha:\n",
    "    print(f'\\nResultado: Como o valor-p ({p_value:.5f}) < α ({alpha}), rejeitamos H₀.')\n",
    "    print('Conclusão: Há evidências de que a receita média dos dois planos é diferente.')\n",
    "else:\n",
    "    print(f'\\nResultado: Como o valor-p ({p_value:.5f}) ≥ α ({alpha}), não rejeitamos H₀.')\n",
    "    print('Conclusão: Não há evidências suficientes de que a receita média dos dois planos seja diferente.')"
   ]
  },
  {
   "cell_type": "markdown",
   "metadata": {
    "id": "Cz6rwE56uj80"
   },
   "source": [
    "- Teste a hipótese de que a receita média dos usuários da área de NY-NJ difere dos usuários das demais regiões.\n",
    "- Formule as hipóteses nula e alternativa, escolha o teste estatístico, escolha o valor alfa."
   ]
  },
  {
   "cell_type": "code",
   "execution_count": 739,
   "metadata": {
    "id": "98t8iiJyuj80",
    "trusted": false
   },
   "outputs": [
    {
     "name": "stdout",
     "output_type": "stream",
     "text": [
      "\n",
      "Frequência de valores de receita em NY-NJ:\n",
      "revenue\n",
      "25.1    1\n",
      "70.0    1\n",
      "Name: count, dtype: int64\n",
      "\n",
      "Estatística t: -0.4742540675773146\n",
      "Valor p: 0.6677007717111487\n",
      "Não rejeitamos a hipótese nula: não há diferença significativa entre as receitas médias.\n"
     ]
    }
   ],
   "source": [
    "# Função atualizada para calcular receita por usuário\n",
    "def calc_revenue_per_user(plan, messages, call_minutes, internet_gb, tipo_custo='total'):\n",
    "    if plan == 'surf':\n",
    "        fixed_cost = 20\n",
    "        cost_messages = max((messages - 50), 0) * 0.03\n",
    "        cost_calls = max((call_minutes - 500), 0) * 0.03\n",
    "        cost_internet = max((math.ceil(internet_gb) - 15), 0) * 10\n",
    "    elif plan == 'ultimate':\n",
    "        fixed_cost = 70\n",
    "        cost_messages = max((messages - 1000), 0) * 0.01\n",
    "        cost_calls = max((call_minutes - 3000), 0) * 0.01\n",
    "        cost_internet = max((math.ceil(internet_gb) - 30), 0) * 7\n",
    "\n",
    "    total_cost = fixed_cost + cost_messages + cost_calls + cost_internet\n",
    "\n",
    "    if tipo_custo.lower() == 'message':\n",
    "        return cost_messages\n",
    "    elif tipo_custo.lower() == 'calls':\n",
    "        return cost_calls\n",
    "    elif tipo_custo.lower() == 'internet':\n",
    "        return cost_internet\n",
    "    elif tipo_custo.lower() == 'additional':\n",
    "        return total_cost - fixed_cost\n",
    "    else:\n",
    "        return total_cost\n",
    "\n",
    "# Exemplo de DataFrame monthly_user_consumption\n",
    "monthly_user_consumption = pd.DataFrame({\n",
    "    'user_id': [1, 2, 3, 4, 5],\n",
    "    'plan': ['surf', 'ultimate', 'surf', 'ultimate', 'surf'],\n",
    "    'total_messages_sent': [120, 150, 200, 100, 300],\n",
    "    'total_duration': [600, 2500, 450, 3100, 900],  # minutos\n",
    "    'total_traffic_used_mb': [2000, 5000, 16000, 17000, 18000]  # MB\n",
    "})\n",
    "\n",
    "# Converter uso de dados de MB para GB\n",
    "monthly_user_consumption['internet_gb'] = monthly_user_consumption['total_traffic_used_mb'] / 1024\n",
    "\n",
    "# Calcular a receita por usuário\n",
    "monthly_user_consumption['revenue'] = monthly_user_consumption.apply(\n",
    "    lambda row: calc_revenue_per_user(\n",
    "        row['plan'],\n",
    "        row['total_messages_sent'],\n",
    "        row['total_duration'],\n",
    "        row['internet_gb']\n",
    "    ),\n",
    "    axis=1\n",
    ")\n",
    "\n",
    "# DataFrame de usuários com cidades\n",
    "users_df = pd.DataFrame({\n",
    "    'user_id': [1, 2, 3, 4, 5],\n",
    "    'city': ['New York', 'New Jersey', 'Los Angeles', 'Chicago', 'Miami']\n",
    "})\n",
    "\n",
    "# Identificar região NY-NJ\n",
    "users_df['ny_nj_region'] = users_df['city'].apply(\n",
    "    lambda x: 'NY-NJ' if 'New York' in x or 'New Jersey' in x else 'Outros'\n",
    ")\n",
    "\n",
    "# Juntar informações de região ao DataFrame de consumo\n",
    "monthly_user_consumption = monthly_user_consumption.merge(\n",
    "    users_df[['user_id', 'ny_nj_region']],\n",
    "    on='user_id',\n",
    "    how='left'\n",
    ")\n",
    "\n",
    "# Separar receitas por região\n",
    "ny_nj_revenue = monthly_user_consumption[monthly_user_consumption['ny_nj_region'] == 'NY-NJ']['revenue']\n",
    "other_revenue = monthly_user_consumption[monthly_user_consumption['ny_nj_region'] == 'Outros']['revenue']\n",
    "\n",
    "# Frequência de receitas em NY-NJ\n",
    "print(\"\\nFrequência de valores de receita em NY-NJ:\")\n",
    "print(ny_nj_revenue.value_counts().sort_index())\n",
    "\n",
    "# Teste t de médias\n",
    "t_stat, p_value = stats.ttest_ind(ny_nj_revenue, other_revenue)\n",
    "\n",
    "# Verificar hipótese\n",
    "alpha = 0.05\n",
    "print(f\"\\nEstatística t: {t_stat}\")\n",
    "print(f\"Valor p: {p_value}\")\n",
    "\n",
    "if p_value < alpha:\n",
    "    print(\"Rejeitamos a hipótese nula: há diferença significativa na receita média entre NY-NJ e as outras regiões.\")\n",
    "else:\n",
    "    print(\"Não rejeitamos a hipótese nula: não há diferença significativa entre as receitas médias.\")"
   ]
  },
  {
   "cell_type": "markdown",
   "metadata": {
    "id": "M8WycwWFuj81"
   },
   "source": [
    "### Conclusão geral:\n",
    "\n",
    "Liste suas conclusões importantes nesta seção final, certifique-se de que elas cobrem todas as decisões (suposições) importantes que você tomou e que levaram à maneira como você processou e analisou os dados."
   ]
  },
  {
   "cell_type": "markdown",
   "metadata": {},
   "source": [
    "A análise preliminar dos dados revela que o plano **Surf** é mais popular devido ao seu custo acessível de 20 USD, sendo escolhido pela maioria dos clientes.  \n",
    "No entanto, o plano **Ultimate**, com um custo mais alto de 70 USD, pode ser mais vantajoso para clientes com maior necessidade de dados e minutos extras, pois oferece melhores condições de excedentes.  \n",
    "A receita gerada por ambos os planos depende do consumo adicional de minutos, mensagens e dados, sendo que o plano **Surf** tende a gerar mais custos extras, enquanto o plano **Ultimate** tem uma estrutura de excedente mais econômica.  \n",
    "\n",
    "A estratégia ideal deve focar em ajustar os planos às necessidades dos consumidores, com promoções direcionadas e **estratégias de upsell** para clientes do plano **Surf** que frequentemente ultrapassam os limites.   \n",
    "Além disso, é importante segmentar os consumidores por perfil de consumo e demografia para otimizar a rentabilidade de ambos os planos.  \n",
    "  \n",
    "**Distribuição dos Planos:**  \n",
    "  \n",
    "- Maioria dos consumidores escolhe o plano **Surf**, com 20 USD/mês.  \n",
    "- Menor aderência ao plano Ultimate, com 70 USD/mês.  \n",
    "- O plano **Surf** é adequado para consumidores com consumo moderado.  \n",
    "  \n",
    "**Análise de Consumo de Chamadas:**  \n",
    "- Duração das chamadas varia entre 4,22 e 14,48 minutos.  \n",
    "- Menor dependência de chamadas, indicando possível adequação de planos mais baratos.  \n",
    "  \n",
    "**Uso de Mensagens e Dados:**  \n",
    "- A maioria dos consumidores envia poucas mensagens, com uso dentro do limite do plano.  \n",
    "- O consumo de dados é variado, com alguns usuários excedendo os limites do plano Surf.  \n",
    "  \n",
    "**Estratégias de Upselling e Promoções:**  \n",
    "- Usuários do **Plano Surf** que frequentemente excedem os limites podem ser incentivados a migrar para o **Plano Ultimate**.  \n",
    "- Oferecer benefícios exclusivos para adesões ao **Plano Ultimate** podem atrair consumidores com maior demanda.  "
   ]
  },
  {
   "cell_type": "markdown",
   "metadata": {},
   "source": [
    "---"
   ]
  },
  {
   "cell_type": "markdown",
   "metadata": {},
   "source": [
    "**Autor:** Daniel Amorim  \n",
    "**Análise de Dados | Marketing e Publicidade**  \n",
    "**Especialista em Branding**  \n",
    "🔗 [Linkedin: /danieloamorim](https://www.linkedin.com/in/danieloamorim)"
   ]
  }
 ],
 "metadata": {
  "ExecuteTimeLog": [
   {
    "duration": 828,
    "start_time": "2021-11-16T09:21:11.304Z"
   },
   {
    "duration": 893,
    "start_time": "2021-11-16T09:21:17.728Z"
   },
   {
    "duration": 1150,
    "start_time": "2021-11-16T09:21:29.568Z"
   },
   {
    "duration": 3,
    "start_time": "2021-11-16T09:24:14.495Z"
   },
   {
    "duration": 120,
    "start_time": "2021-11-16T09:24:46.630Z"
   },
   {
    "duration": 3,
    "start_time": "2021-11-16T09:28:27.882Z"
   },
   {
    "duration": 4,
    "start_time": "2021-11-16T09:29:54.281Z"
   },
   {
    "duration": 3,
    "start_time": "2021-11-16T09:30:45.936Z"
   },
   {
    "duration": 4,
    "start_time": "2021-11-16T09:31:06.300Z"
   },
   {
    "duration": 113,
    "start_time": "2021-11-16T09:31:37.208Z"
   },
   {
    "duration": 143,
    "start_time": "2021-11-16T09:31:48.656Z"
   },
   {
    "duration": 98,
    "start_time": "2021-11-16T09:31:55.678Z"
   },
   {
    "duration": 3,
    "start_time": "2021-11-16T09:32:08.535Z"
   },
   {
    "duration": 111,
    "start_time": "2021-11-16T09:32:10.120Z"
   },
   {
    "duration": 3,
    "start_time": "2021-11-16T09:32:15.732Z"
   },
   {
    "duration": 4,
    "start_time": "2021-11-16T09:32:29.423Z"
   },
   {
    "duration": 3,
    "start_time": "2021-11-16T10:03:03.074Z"
   },
   {
    "duration": 3,
    "start_time": "2021-11-16T10:10:01.288Z"
   },
   {
    "duration": 3,
    "start_time": "2021-11-16T10:10:46.923Z"
   },
   {
    "duration": 121,
    "start_time": "2021-11-16T10:37:46.494Z"
   },
   {
    "duration": 125,
    "start_time": "2021-11-16T10:38:20.632Z"
   },
   {
    "duration": 112,
    "start_time": "2021-11-16T10:46:53.001Z"
   },
   {
    "duration": 110,
    "start_time": "2021-11-16T10:48:25.775Z"
   },
   {
    "duration": 3,
    "start_time": "2021-11-16T10:50:18.720Z"
   },
   {
    "duration": 4,
    "start_time": "2021-11-16T10:50:37.649Z"
   },
   {
    "duration": 2,
    "start_time": "2021-11-16T10:50:51.884Z"
   },
   {
    "duration": 3,
    "start_time": "2021-11-16T10:51:56.237Z"
   },
   {
    "duration": 101,
    "start_time": "2021-11-16T10:53:13.791Z"
   },
   {
    "duration": 3,
    "start_time": "2021-11-16T10:55:59.186Z"
   },
   {
    "duration": 3,
    "start_time": "2021-11-16T10:56:10.751Z"
   },
   {
    "duration": 3,
    "start_time": "2021-11-16T10:56:49.038Z"
   },
   {
    "duration": 3,
    "start_time": "2021-11-16T10:56:49.174Z"
   },
   {
    "duration": 4,
    "start_time": "2021-11-16T10:56:49.414Z"
   },
   {
    "duration": 3,
    "start_time": "2021-11-16T10:56:49.680Z"
   },
   {
    "duration": 3,
    "start_time": "2021-11-16T10:56:50.370Z"
   },
   {
    "duration": 114,
    "start_time": "2021-11-16T10:59:34.518Z"
   },
   {
    "duration": 3,
    "start_time": "2021-11-16T11:01:41.201Z"
   },
   {
    "duration": 116,
    "start_time": "2021-11-16T11:01:48.754Z"
   },
   {
    "duration": 3,
    "start_time": "2021-11-16T11:02:16.685Z"
   },
   {
    "duration": 3,
    "start_time": "2021-11-16T11:02:19.479Z"
   },
   {
    "duration": 3,
    "start_time": "2021-11-16T11:02:47.067Z"
   },
   {
    "duration": 3,
    "start_time": "2021-11-16T11:02:49.353Z"
   },
   {
    "duration": 3,
    "start_time": "2021-11-16T11:03:07.835Z"
   },
   {
    "duration": 3,
    "start_time": "2021-11-16T11:03:07.953Z"
   },
   {
    "duration": 112,
    "start_time": "2021-11-16T11:07:52.072Z"
   },
   {
    "duration": 187,
    "start_time": "2021-11-16T11:09:23.468Z"
   },
   {
    "duration": 4,
    "start_time": "2021-11-16T11:10:01.455Z"
   },
   {
    "duration": 3,
    "start_time": "2021-11-16T11:10:05.069Z"
   },
   {
    "duration": 4,
    "start_time": "2021-11-16T11:10:13.376Z"
   },
   {
    "duration": 3,
    "start_time": "2021-11-16T11:10:14.434Z"
   },
   {
    "duration": 3,
    "start_time": "2021-11-16T11:10:22.853Z"
   },
   {
    "duration": 4,
    "start_time": "2021-11-16T11:27:29.279Z"
   },
   {
    "duration": 4,
    "start_time": "2021-11-16T11:29:08.919Z"
   },
   {
    "duration": 118,
    "start_time": "2021-11-16T11:29:46.703Z"
   },
   {
    "duration": 437,
    "start_time": "2021-11-16T11:36:02.181Z"
   },
   {
    "duration": 157,
    "start_time": "2021-11-16T11:36:14.388Z"
   },
   {
    "duration": 207,
    "start_time": "2021-11-16T11:47:15.898Z"
   },
   {
    "duration": 3,
    "start_time": "2021-11-16T11:53:52.092Z"
   },
   {
    "duration": 3,
    "start_time": "2021-11-16T11:53:52.236Z"
   },
   {
    "duration": 3,
    "start_time": "2021-11-16T11:59:12.005Z"
   },
   {
    "duration": 112,
    "start_time": "2021-11-16T12:00:33.446Z"
   },
   {
    "duration": 3,
    "start_time": "2021-11-16T12:02:14.453Z"
   },
   {
    "duration": 3,
    "start_time": "2021-11-16T12:02:39.512Z"
   },
   {
    "duration": 106,
    "start_time": "2021-11-16T12:03:03.460Z"
   },
   {
    "duration": 3,
    "start_time": "2021-11-17T20:37:21.139Z"
   },
   {
    "duration": 3,
    "start_time": "2021-11-17T20:37:22.229Z"
   },
   {
    "duration": 3,
    "start_time": "2021-11-17T20:38:38.806Z"
   },
   {
    "duration": 3,
    "start_time": "2021-11-17T20:38:41.958Z"
   },
   {
    "duration": 3,
    "start_time": "2021-11-17T20:43:46.551Z"
   },
   {
    "duration": 4,
    "start_time": "2021-11-17T20:58:21.835Z"
   },
   {
    "duration": 3,
    "start_time": "2021-11-17T20:59:21.872Z"
   },
   {
    "duration": 4,
    "start_time": "2021-11-17T20:59:45.352Z"
   },
   {
    "duration": 4,
    "start_time": "2021-11-17T20:59:49.646Z"
   },
   {
    "duration": 159,
    "start_time": "2021-11-17T21:02:26.949Z"
   },
   {
    "duration": 3,
    "start_time": "2021-11-17T21:03:53.461Z"
   },
   {
    "duration": 3,
    "start_time": "2021-11-17T21:03:53.694Z"
   },
   {
    "duration": 3,
    "start_time": "2021-11-17T21:05:28.145Z"
   },
   {
    "duration": 116,
    "start_time": "2021-11-17T21:05:57.787Z"
   },
   {
    "duration": 3,
    "start_time": "2021-11-17T21:06:37.993Z"
   },
   {
    "duration": 3,
    "start_time": "2021-11-17T21:06:38.261Z"
   },
   {
    "duration": 3,
    "start_time": "2021-11-17T21:11:54.358Z"
   },
   {
    "duration": 3,
    "start_time": "2021-11-17T21:12:43.846Z"
   },
   {
    "duration": 4,
    "start_time": "2021-11-17T21:13:08.773Z"
   },
   {
    "duration": 3,
    "start_time": "2021-11-17T21:14:44.441Z"
   },
   {
    "duration": 3,
    "start_time": "2021-11-17T21:15:42.059Z"
   },
   {
    "duration": 4,
    "start_time": "2021-11-17T21:15:51.995Z"
   },
   {
    "duration": 3,
    "start_time": "2021-11-17T21:15:53.923Z"
   },
   {
    "duration": 3,
    "start_time": "2021-11-17T21:15:55.282Z"
   },
   {
    "duration": 3,
    "start_time": "2021-11-17T21:16:28.492Z"
   },
   {
    "duration": 3,
    "start_time": "2021-11-17T21:16:32.603Z"
   },
   {
    "duration": 3,
    "start_time": "2021-11-17T21:17:06.941Z"
   },
   {
    "duration": 98,
    "start_time": "2021-11-17T21:18:05.733Z"
   },
   {
    "duration": 4,
    "start_time": "2021-11-17T21:21:35.255Z"
   },
   {
    "duration": 3,
    "start_time": "2021-11-17T21:21:37.804Z"
   },
   {
    "duration": 4,
    "start_time": "2021-11-17T21:23:06.071Z"
   },
   {
    "duration": 3,
    "start_time": "2021-11-17T21:23:24.799Z"
   },
   {
    "duration": 3,
    "start_time": "2021-11-17T21:23:32.591Z"
   },
   {
    "duration": 98,
    "start_time": "2021-11-17T21:28:31.559Z"
   },
   {
    "duration": 3,
    "start_time": "2021-11-17T21:28:45.448Z"
   },
   {
    "duration": 3,
    "start_time": "2021-11-17T21:29:17.303Z"
   },
   {
    "duration": 3,
    "start_time": "2021-11-17T21:29:29.617Z"
   },
   {
    "duration": 3,
    "start_time": "2021-11-17T21:29:32.681Z"
   },
   {
    "duration": 3,
    "start_time": "2021-11-17T21:36:11.474Z"
   },
   {
    "duration": 3,
    "start_time": "2021-11-17T21:36:14.791Z"
   },
   {
    "duration": 3,
    "start_time": "2021-11-17T21:36:53.943Z"
   },
   {
    "duration": 3,
    "start_time": "2021-11-17T21:36:56.165Z"
   },
   {
    "duration": 4,
    "start_time": "2021-11-17T21:37:16.590Z"
   },
   {
    "duration": 3,
    "start_time": "2021-11-17T21:37:22.702Z"
   },
   {
    "duration": 4,
    "start_time": "2021-11-17T21:38:03.479Z"
   },
   {
    "duration": 3,
    "start_time": "2021-11-17T21:38:08.601Z"
   },
   {
    "duration": 3,
    "start_time": "2021-11-17T21:38:12.928Z"
   },
   {
    "duration": 3,
    "start_time": "2021-11-17T21:38:48.896Z"
   },
   {
    "duration": 2,
    "start_time": "2021-11-17T21:38:49.171Z"
   },
   {
    "duration": 4,
    "start_time": "2021-11-17T21:39:57.889Z"
   },
   {
    "duration": 3,
    "start_time": "2021-11-17T21:39:58.057Z"
   },
   {
    "duration": 3,
    "start_time": "2021-11-17T21:41:20.108Z"
   },
   {
    "duration": 3,
    "start_time": "2021-11-17T21:41:20.629Z"
   },
   {
    "duration": 3,
    "start_time": "2021-11-17T21:42:49.136Z"
   },
   {
    "duration": 3,
    "start_time": "2021-11-17T21:43:15.137Z"
   },
   {
    "duration": 4,
    "start_time": "2021-11-17T21:43:16.766Z"
   },
   {
    "duration": 4,
    "start_time": "2021-11-17T21:43:31.711Z"
   },
   {
    "duration": 3,
    "start_time": "2021-11-17T21:43:36.312Z"
   },
   {
    "duration": 4,
    "start_time": "2021-11-17T21:45:08.825Z"
   },
   {
    "duration": 4,
    "start_time": "2021-11-17T21:45:10.119Z"
   },
   {
    "duration": 4,
    "start_time": "2021-11-17T21:45:13.748Z"
   },
   {
    "duration": 3,
    "start_time": "2021-11-17T21:45:22.219Z"
   },
   {
    "duration": 3,
    "start_time": "2021-11-17T21:45:33.412Z"
   },
   {
    "duration": 2,
    "start_time": "2021-11-17T21:46:01.885Z"
   },
   {
    "duration": 3,
    "start_time": "2021-11-17T21:46:03.628Z"
   },
   {
    "duration": 107,
    "start_time": "2021-11-17T21:47:32.512Z"
   },
   {
    "duration": 103,
    "start_time": "2021-11-17T21:50:36.243Z"
   },
   {
    "duration": 3,
    "start_time": "2021-11-18T06:28:31.440Z"
   },
   {
    "duration": 3,
    "start_time": "2021-11-18T06:29:00.168Z"
   },
   {
    "duration": 3,
    "start_time": "2021-11-18T06:31:27.008Z"
   },
   {
    "duration": 2,
    "start_time": "2021-11-18T06:35:34.288Z"
   },
   {
    "duration": 2,
    "start_time": "2021-11-18T06:38:04.527Z"
   },
   {
    "duration": 167,
    "start_time": "2025-04-01T19:53:57.270Z"
   },
   {
    "duration": 547,
    "start_time": "2025-04-01T19:54:18.351Z"
   },
   {
    "duration": 155,
    "start_time": "2025-04-01T19:54:21.251Z"
   },
   {
    "duration": 149,
    "start_time": "2025-04-01T19:55:21.559Z"
   },
   {
    "duration": 23,
    "start_time": "2025-04-01T19:56:24.047Z"
   },
   {
    "duration": 370,
    "start_time": "2025-04-01T19:59:50.063Z"
   },
   {
    "duration": 283,
    "start_time": "2025-04-01T20:00:05.707Z"
   },
   {
    "duration": 207,
    "start_time": "2025-04-01T20:00:51.226Z"
   },
   {
    "duration": 24,
    "start_time": "2025-04-01T20:00:57.905Z"
   },
   {
    "duration": 27,
    "start_time": "2025-04-01T20:01:01.358Z"
   },
   {
    "duration": 6,
    "start_time": "2025-04-01T20:01:54.086Z"
   },
   {
    "duration": 31,
    "start_time": "2025-04-01T20:03:08.465Z"
   },
   {
    "duration": 27,
    "start_time": "2025-04-01T20:03:24.926Z"
   },
   {
    "duration": 5,
    "start_time": "2025-04-01T20:03:30.087Z"
   },
   {
    "duration": 21,
    "start_time": "2025-04-01T20:09:46.466Z"
   },
   {
    "duration": 4,
    "start_time": "2025-04-01T20:15:29.689Z"
   },
   {
    "duration": 6,
    "start_time": "2025-04-01T20:38:05.277Z"
   },
   {
    "duration": 5,
    "start_time": "2025-04-01T20:38:22.465Z"
   },
   {
    "duration": 8,
    "start_time": "2025-04-01T20:39:18.309Z"
   },
   {
    "duration": 8,
    "start_time": "2025-04-01T20:39:25.009Z"
   },
   {
    "duration": 14,
    "start_time": "2025-04-01T20:40:37.367Z"
   },
   {
    "duration": 22,
    "start_time": "2025-04-01T20:42:55.093Z"
   },
   {
    "duration": 15,
    "start_time": "2025-04-01T20:43:10.949Z"
   },
   {
    "duration": 17,
    "start_time": "2025-04-01T20:44:34.204Z"
   },
   {
    "duration": 12,
    "start_time": "2025-04-01T20:45:10.014Z"
   },
   {
    "duration": 13,
    "start_time": "2025-04-01T20:47:53.154Z"
   },
   {
    "duration": 2,
    "start_time": "2025-04-01T20:49:13.975Z"
   },
   {
    "duration": 35,
    "start_time": "2025-04-01T20:49:31.006Z"
   },
   {
    "duration": 33,
    "start_time": "2025-04-01T20:52:59.305Z"
   },
   {
    "duration": 16,
    "start_time": "2025-04-01T20:53:43.094Z"
   },
   {
    "duration": 14,
    "start_time": "2025-04-01T20:54:50.932Z"
   },
   {
    "duration": 11,
    "start_time": "2025-04-01T20:55:01.743Z"
   },
   {
    "duration": 11,
    "start_time": "2025-04-01T20:55:55.402Z"
   },
   {
    "duration": 14,
    "start_time": "2025-04-01T20:57:30.797Z"
   },
   {
    "duration": 5,
    "start_time": "2025-04-01T21:00:25.219Z"
   },
   {
    "duration": 58,
    "start_time": "2025-04-01T21:03:29.595Z"
   },
   {
    "duration": 39,
    "start_time": "2025-04-01T21:06:33.781Z"
   },
   {
    "duration": 14,
    "start_time": "2025-04-01T21:09:48.108Z"
   },
   {
    "duration": 172,
    "start_time": "2025-04-02T18:35:24.626Z"
   },
   {
    "duration": 30,
    "start_time": "2025-04-02T18:37:03.114Z"
   },
   {
    "duration": 552,
    "start_time": "2025-04-02T18:37:12.598Z"
   },
   {
    "duration": 147,
    "start_time": "2025-04-02T18:37:13.300Z"
   },
   {
    "duration": 22,
    "start_time": "2025-04-02T18:37:14.613Z"
   },
   {
    "duration": 5,
    "start_time": "2025-04-02T18:37:14.997Z"
   },
   {
    "duration": 9,
    "start_time": "2025-04-02T18:37:16.732Z"
   },
   {
    "duration": 17,
    "start_time": "2025-04-02T18:37:17.821Z"
   },
   {
    "duration": 17,
    "start_time": "2025-04-02T18:37:18.544Z"
   },
   {
    "duration": 12,
    "start_time": "2025-04-02T18:37:18.925Z"
   },
   {
    "duration": 13,
    "start_time": "2025-04-02T18:37:20.437Z"
   },
   {
    "duration": 30,
    "start_time": "2025-04-02T18:37:21.399Z"
   },
   {
    "duration": 15,
    "start_time": "2025-04-02T18:37:26.015Z"
   },
   {
    "duration": 13,
    "start_time": "2025-04-02T18:37:26.501Z"
   },
   {
    "duration": 6,
    "start_time": "2025-04-02T18:37:29.541Z"
   },
   {
    "duration": 593,
    "start_time": "2025-04-02T18:37:31.086Z"
   },
   {
    "duration": 171,
    "start_time": "2025-04-02T18:38:22.119Z"
   },
   {
    "duration": 156,
    "start_time": "2025-04-02T18:39:04.206Z"
   },
   {
    "duration": 57,
    "start_time": "2025-04-02T18:41:08.543Z"
   },
   {
    "duration": 43,
    "start_time": "2025-04-02T18:42:00.607Z"
   },
   {
    "duration": 18,
    "start_time": "2025-04-02T18:43:20.647Z"
   },
   {
    "duration": 18,
    "start_time": "2025-04-02T18:43:38.085Z"
   },
   {
    "duration": 10,
    "start_time": "2025-04-02T18:45:42.334Z"
   },
   {
    "duration": 14,
    "start_time": "2025-04-02T18:49:32.188Z"
   },
   {
    "duration": 8,
    "start_time": "2025-04-02T18:51:02.679Z"
   },
   {
    "duration": 12,
    "start_time": "2025-04-02T20:56:35.207Z"
   },
   {
    "duration": 10,
    "start_time": "2025-04-02T21:07:28.809Z"
   },
   {
    "duration": 20,
    "start_time": "2025-04-02T21:08:28.685Z"
   },
   {
    "duration": 23,
    "start_time": "2025-04-02T21:09:23.117Z"
   },
   {
    "duration": 12,
    "start_time": "2025-04-02T21:14:03.626Z"
   },
   {
    "duration": 170,
    "start_time": "2025-04-02T21:15:20.167Z"
   },
   {
    "duration": 166,
    "start_time": "2025-04-02T21:15:20.962Z"
   },
   {
    "duration": 23,
    "start_time": "2025-04-02T21:15:21.651Z"
   },
   {
    "duration": 6,
    "start_time": "2025-04-02T21:15:21.804Z"
   },
   {
    "duration": 9,
    "start_time": "2025-04-02T21:15:22.404Z"
   },
   {
    "duration": 15,
    "start_time": "2025-04-02T21:15:22.890Z"
   },
   {
    "duration": 22,
    "start_time": "2025-04-02T21:15:23.200Z"
   },
   {
    "duration": 15,
    "start_time": "2025-04-02T21:15:23.347Z"
   },
   {
    "duration": 14,
    "start_time": "2025-04-02T21:15:24.001Z"
   },
   {
    "duration": 32,
    "start_time": "2025-04-02T21:15:24.484Z"
   },
   {
    "duration": 19,
    "start_time": "2025-04-02T21:15:24.803Z"
   },
   {
    "duration": 14,
    "start_time": "2025-04-02T21:15:24.970Z"
   },
   {
    "duration": 6,
    "start_time": "2025-04-02T21:15:25.634Z"
   },
   {
    "duration": 42,
    "start_time": "2025-04-02T21:15:26.141Z"
   },
   {
    "duration": 20,
    "start_time": "2025-04-02T21:15:26.488Z"
   },
   {
    "duration": 14,
    "start_time": "2025-04-02T21:15:26.921Z"
   },
   {
    "duration": 8,
    "start_time": "2025-04-02T21:15:28.389Z"
   },
   {
    "duration": 13,
    "start_time": "2025-04-02T21:15:29.866Z"
   },
   {
    "duration": 14,
    "start_time": "2025-04-02T21:15:30.680Z"
   },
   {
    "duration": 19,
    "start_time": "2025-04-02T21:15:31.042Z"
   },
   {
    "duration": 19,
    "start_time": "2025-04-02T21:15:38.795Z"
   },
   {
    "duration": 149,
    "start_time": "2025-04-02T21:15:54.527Z"
   },
   {
    "duration": 2,
    "start_time": "2025-04-02T21:16:55.031Z"
   },
   {
    "duration": 150,
    "start_time": "2025-04-02T21:16:56.322Z"
   },
   {
    "duration": 4,
    "start_time": "2025-04-02T21:17:29.451Z"
   },
   {
    "duration": 13,
    "start_time": "2025-04-02T21:18:15.962Z"
   },
   {
    "duration": 84,
    "start_time": "2025-04-02T21:28:14.556Z"
   },
   {
    "duration": 55,
    "start_time": "2025-04-02T21:29:57.944Z"
   },
   {
    "duration": 39,
    "start_time": "2025-04-02T21:30:30.581Z"
   },
   {
    "duration": 37,
    "start_time": "2025-04-02T21:30:55.540Z"
   },
   {
    "duration": 331,
    "start_time": "2025-04-03T17:07:14.789Z"
   },
   {
    "duration": 213,
    "start_time": "2025-04-03T17:07:16.949Z"
   },
   {
    "duration": 164,
    "start_time": "2025-04-03T17:07:45.788Z"
   },
   {
    "duration": 22,
    "start_time": "2025-04-03T17:07:49.222Z"
   },
   {
    "duration": 5,
    "start_time": "2025-04-03T17:08:00.107Z"
   },
   {
    "duration": 8,
    "start_time": "2025-04-03T17:08:08.508Z"
   },
   {
    "duration": 5,
    "start_time": "2025-04-03T17:09:26.626Z"
   },
   {
    "duration": 16,
    "start_time": "2025-04-03T17:09:43.079Z"
   },
   {
    "duration": 18,
    "start_time": "2025-04-03T17:10:54.089Z"
   },
   {
    "duration": 8,
    "start_time": "2025-04-03T17:15:58.627Z"
   },
   {
    "duration": 6,
    "start_time": "2025-04-03T17:22:39.525Z"
   },
   {
    "duration": 9,
    "start_time": "2025-04-03T17:25:44.151Z"
   },
   {
    "duration": 19,
    "start_time": "2025-04-03T17:26:00.915Z"
   },
   {
    "duration": 482,
    "start_time": "2025-04-03T17:29:39.546Z"
   },
   {
    "duration": 39,
    "start_time": "2025-04-03T17:31:05.554Z"
   },
   {
    "duration": 19,
    "start_time": "2025-04-03T17:34:06.726Z"
   },
   {
    "duration": 21,
    "start_time": "2025-04-03T17:34:18.439Z"
   },
   {
    "duration": 50,
    "start_time": "2025-04-03T18:17:53.512Z"
   },
   {
    "duration": 39,
    "start_time": "2025-04-03T18:18:33.869Z"
   },
   {
    "duration": 2415,
    "start_time": "2025-04-03T18:31:26.445Z"
   },
   {
    "duration": 176,
    "start_time": "2025-04-03T18:31:32.728Z"
   },
   {
    "duration": 10,
    "start_time": "2025-04-03T18:31:35.034Z"
   },
   {
    "duration": 19,
    "start_time": "2025-04-03T18:31:38.925Z"
   },
   {
    "duration": 43,
    "start_time": "2025-04-03T18:31:42.391Z"
   },
   {
    "duration": 156,
    "start_time": "2025-04-03T18:35:20.159Z"
   },
   {
    "duration": 95,
    "start_time": "2025-04-03T18:35:46.449Z"
   },
   {
    "duration": 185,
    "start_time": "2025-04-07T19:33:59.727Z"
   },
   {
    "duration": 2713,
    "start_time": "2025-04-07T19:34:11.525Z"
   },
   {
    "duration": 295,
    "start_time": "2025-04-07T19:34:14.240Z"
   },
   {
    "duration": 13,
    "start_time": "2025-04-07T19:34:26.011Z"
   },
   {
    "duration": 34,
    "start_time": "2025-04-07T19:34:38.424Z"
   },
   {
    "duration": 20,
    "start_time": "2025-04-07T19:34:45.412Z"
   },
   {
    "duration": 39,
    "start_time": "2025-04-07T19:35:00.891Z"
   },
   {
    "duration": 116,
    "start_time": "2025-04-07T19:35:12.806Z"
   },
   {
    "duration": 18,
    "start_time": "2025-04-07T19:35:23.871Z"
   },
   {
    "duration": 9,
    "start_time": "2025-04-07T19:35:34.069Z"
   },
   {
    "duration": 11,
    "start_time": "2025-04-07T19:36:07.703Z"
   },
   {
    "duration": 10,
    "start_time": "2025-04-07T19:36:18.693Z"
   },
   {
    "duration": 33,
    "start_time": "2025-04-07T19:36:29.237Z"
   },
   {
    "duration": 14,
    "start_time": "2025-04-07T19:36:37.517Z"
   },
   {
    "duration": 460,
    "start_time": "2025-04-07T19:36:59.926Z"
   },
   {
    "duration": 45,
    "start_time": "2025-04-07T19:37:44.687Z"
   },
   {
    "duration": 45,
    "start_time": "2025-04-07T19:38:04.181Z"
   },
   {
    "duration": 22,
    "start_time": "2025-04-07T19:39:22.910Z"
   },
   {
    "duration": 29,
    "start_time": "2025-04-07T19:40:22.092Z"
   },
   {
    "duration": 29,
    "start_time": "2025-04-07T19:40:38.674Z"
   },
   {
    "duration": 18,
    "start_time": "2025-04-07T19:40:43.598Z"
   },
   {
    "duration": 14,
    "start_time": "2025-04-07T19:40:57.423Z"
   },
   {
    "duration": 19,
    "start_time": "2025-04-07T19:41:05.289Z"
   },
   {
    "duration": 380,
    "start_time": "2025-04-07T19:42:23.642Z"
   },
   {
    "duration": 151,
    "start_time": "2025-04-07T19:46:28.119Z"
   },
   {
    "duration": 133,
    "start_time": "2025-04-07T19:47:33.563Z"
   },
   {
    "duration": 65,
    "start_time": "2025-04-07T19:48:55.387Z"
   },
   {
    "duration": 28,
    "start_time": "2025-04-07T19:51:06.702Z"
   },
   {
    "duration": 19,
    "start_time": "2025-04-07T19:51:55.887Z"
   },
   {
    "duration": 29,
    "start_time": "2025-04-07T19:52:36.942Z"
   },
   {
    "duration": 21,
    "start_time": "2025-04-07T19:52:42.555Z"
   },
   {
    "duration": 19,
    "start_time": "2025-04-07T19:52:54.980Z"
   },
   {
    "duration": 17,
    "start_time": "2025-04-07T19:53:19.896Z"
   },
   {
    "duration": 15,
    "start_time": "2025-04-07T19:53:36.474Z"
   },
   {
    "duration": 11,
    "start_time": "2025-04-07T19:53:42.480Z"
   },
   {
    "duration": 9,
    "start_time": "2025-04-07T19:54:01.271Z"
   },
   {
    "duration": 7,
    "start_time": "2025-04-07T19:54:14.796Z"
   },
   {
    "duration": 24,
    "start_time": "2025-04-07T19:55:21.050Z"
   },
   {
    "duration": 12,
    "start_time": "2025-04-07T19:56:58.567Z"
   },
   {
    "duration": 789,
    "start_time": "2025-04-07T19:58:17.828Z"
   },
   {
    "duration": 52,
    "start_time": "2025-04-07T19:58:29.568Z"
   },
   {
    "duration": 48,
    "start_time": "2025-04-07T19:58:57.175Z"
   },
   {
    "duration": 14,
    "start_time": "2025-04-07T19:59:02.867Z"
   },
   {
    "duration": 8,
    "start_time": "2025-04-07T19:59:35.220Z"
   },
   {
    "duration": 9,
    "start_time": "2025-04-07T19:59:40.067Z"
   },
   {
    "duration": 12,
    "start_time": "2025-04-07T20:00:10.210Z"
   },
   {
    "duration": 11,
    "start_time": "2025-04-07T20:01:32.282Z"
   },
   {
    "duration": 6,
    "start_time": "2025-04-07T20:01:39.043Z"
   },
   {
    "duration": 16,
    "start_time": "2025-04-07T20:02:28.838Z"
   },
   {
    "duration": 10,
    "start_time": "2025-04-07T20:03:22.737Z"
   },
   {
    "duration": 28,
    "start_time": "2025-04-07T20:03:30.634Z"
   },
   {
    "duration": 15,
    "start_time": "2025-04-07T20:04:06.626Z"
   },
   {
    "duration": 28,
    "start_time": "2025-04-07T20:04:19.534Z"
   },
   {
    "duration": 18,
    "start_time": "2025-04-07T20:04:35.563Z"
   },
   {
    "duration": 17,
    "start_time": "2025-04-07T20:06:08.914Z"
   },
   {
    "duration": 23,
    "start_time": "2025-04-07T20:06:15.742Z"
   },
   {
    "duration": 97,
    "start_time": "2025-04-07T20:10:38.363Z"
   },
   {
    "duration": 13,
    "start_time": "2025-04-07T20:11:53.187Z"
   },
   {
    "duration": 66,
    "start_time": "2025-04-07T20:11:57.818Z"
   },
   {
    "duration": 12,
    "start_time": "2025-04-07T20:12:00.914Z"
   },
   {
    "duration": 68,
    "start_time": "2025-04-07T20:13:46.618Z"
   },
   {
    "duration": 14,
    "start_time": "2025-04-07T20:13:50.426Z"
   },
   {
    "duration": 15,
    "start_time": "2025-04-07T20:14:12.771Z"
   },
   {
    "duration": 171,
    "start_time": "2025-04-07T20:17:10.517Z"
   },
   {
    "duration": 386,
    "start_time": "2025-04-07T20:18:11.804Z"
   },
   {
    "duration": 270,
    "start_time": "2025-04-07T20:18:59.313Z"
   },
   {
    "duration": 89,
    "start_time": "2025-04-07T20:19:26.299Z"
   },
   {
    "duration": 5,
    "start_time": "2025-04-07T20:19:43.490Z"
   },
   {
    "duration": 4,
    "start_time": "2025-04-07T20:20:17.132Z"
   },
   {
    "duration": 69,
    "start_time": "2025-04-07T20:24:40.809Z"
   },
   {
    "duration": 14,
    "start_time": "2025-04-07T20:24:50.402Z"
   },
   {
    "duration": 35,
    "start_time": "2025-04-07T20:26:52.999Z"
   },
   {
    "duration": 217,
    "start_time": "2025-04-07T20:28:16.391Z"
   },
   {
    "duration": 14,
    "start_time": "2025-04-07T20:29:33.008Z"
   },
   {
    "duration": 120,
    "start_time": "2025-04-07T20:30:33.066Z"
   },
   {
    "duration": 53,
    "start_time": "2025-04-07T20:32:23.125Z"
   },
   {
    "duration": 21,
    "start_time": "2025-04-07T20:32:56.815Z"
   },
   {
    "duration": 25,
    "start_time": "2025-04-07T20:33:09.629Z"
   },
   {
    "duration": 45,
    "start_time": "2025-04-07T20:34:04.060Z"
   },
   {
    "duration": 387,
    "start_time": "2025-04-07T20:36:49.806Z"
   },
   {
    "duration": 34,
    "start_time": "2025-04-07T20:47:17.906Z"
   },
   {
    "duration": 27,
    "start_time": "2025-04-07T20:48:17.512Z"
   },
   {
    "duration": 40,
    "start_time": "2025-04-07T20:48:53.459Z"
   },
   {
    "duration": 35,
    "start_time": "2025-04-07T20:52:12.879Z"
   },
   {
    "duration": 80,
    "start_time": "2025-04-07T20:53:10.337Z"
   },
   {
    "duration": 4,
    "start_time": "2025-04-07T20:53:40.190Z"
   },
   {
    "duration": 175,
    "start_time": "2025-04-07T20:56:00.450Z"
   },
   {
    "duration": 141,
    "start_time": "2025-04-07T20:56:19.478Z"
   },
   {
    "duration": 19,
    "start_time": "2025-04-07T20:59:00.443Z"
   },
   {
    "duration": 34,
    "start_time": "2025-04-07T20:59:22.632Z"
   },
   {
    "duration": 2517,
    "start_time": "2025-04-10T15:09:25.821Z"
   },
   {
    "duration": 226,
    "start_time": "2025-04-10T15:09:28.341Z"
   },
   {
    "duration": 11,
    "start_time": "2025-04-10T15:09:29.434Z"
   },
   {
    "duration": 20,
    "start_time": "2025-04-10T15:09:29.980Z"
   },
   {
    "duration": 41,
    "start_time": "2025-04-10T15:09:31.383Z"
   },
   {
    "duration": 100,
    "start_time": "2025-04-10T15:09:32.714Z"
   },
   {
    "duration": 9,
    "start_time": "2025-04-10T15:09:33.964Z"
   },
   {
    "duration": 11,
    "start_time": "2025-04-10T15:09:34.623Z"
   },
   {
    "duration": 15,
    "start_time": "2025-04-10T15:09:36.709Z"
   },
   {
    "duration": 22,
    "start_time": "2025-04-10T15:09:38.548Z"
   },
   {
    "duration": 15,
    "start_time": "2025-04-10T15:09:39.682Z"
   },
   {
    "duration": 16,
    "start_time": "2025-04-10T15:09:40.394Z"
   },
   {
    "duration": 19,
    "start_time": "2025-04-10T15:09:54.488Z"
   },
   {
    "duration": 233,
    "start_time": "2025-04-10T15:09:58.155Z"
   },
   {
    "duration": 19,
    "start_time": "2025-04-10T15:11:53.150Z"
   },
   {
    "duration": 8,
    "start_time": "2025-04-10T15:11:54.376Z"
   },
   {
    "duration": 14,
    "start_time": "2025-04-10T15:11:58.433Z"
   },
   {
    "duration": 21,
    "start_time": "2025-04-10T15:12:23.405Z"
   },
   {
    "duration": 12,
    "start_time": "2025-04-10T15:13:05.399Z"
   },
   {
    "duration": 12,
    "start_time": "2025-04-10T15:13:14.564Z"
   },
   {
    "duration": 25,
    "start_time": "2025-04-10T15:13:47.443Z"
   },
   {
    "duration": 11,
    "start_time": "2025-04-10T15:14:02.433Z"
   },
   {
    "duration": 13,
    "start_time": "2025-04-10T15:14:27.243Z"
   },
   {
    "duration": 95,
    "start_time": "2025-04-10T15:18:45.414Z"
   },
   {
    "duration": 100,
    "start_time": "2025-04-10T15:19:03.659Z"
   },
   {
    "duration": 16,
    "start_time": "2025-04-10T15:19:07.631Z"
   },
   {
    "duration": 271,
    "start_time": "2025-04-10T15:19:31.538Z"
   },
   {
    "duration": 46,
    "start_time": "2025-04-10T15:21:37.000Z"
   },
   {
    "duration": 4,
    "start_time": "2025-04-10T15:23:30.028Z"
   },
   {
    "duration": 5,
    "start_time": "2025-04-10T15:25:22.351Z"
   },
   {
    "duration": 5,
    "start_time": "2025-04-10T15:26:20.157Z"
   },
   {
    "duration": 5,
    "start_time": "2025-04-10T15:26:33.674Z"
   },
   {
    "duration": 368,
    "start_time": "2025-04-10T15:29:08.194Z"
   },
   {
    "duration": 42,
    "start_time": "2025-04-10T15:29:42.803Z"
   },
   {
    "duration": 41,
    "start_time": "2025-04-10T15:31:32.518Z"
   },
   {
    "duration": 44,
    "start_time": "2025-04-10T15:31:43.418Z"
   },
   {
    "duration": 41,
    "start_time": "2025-04-10T15:36:50.185Z"
   },
   {
    "duration": 39,
    "start_time": "2025-04-10T15:37:20.523Z"
   },
   {
    "duration": 116,
    "start_time": "2025-04-10T15:37:29.454Z"
   },
   {
    "duration": 29,
    "start_time": "2025-04-10T15:38:40.650Z"
   },
   {
    "duration": 27,
    "start_time": "2025-04-10T15:38:56.445Z"
   },
   {
    "duration": 19,
    "start_time": "2025-04-10T15:40:20.440Z"
   },
   {
    "duration": 14,
    "start_time": "2025-04-10T15:42:31.687Z"
   },
   {
    "duration": 2591,
    "start_time": "2025-04-11T10:20:12.745Z"
   },
   {
    "duration": 221,
    "start_time": "2025-04-11T10:20:15.338Z"
   },
   {
    "duration": 10,
    "start_time": "2025-04-11T10:20:15.561Z"
   },
   {
    "duration": 19,
    "start_time": "2025-04-11T10:20:16.349Z"
   },
   {
    "duration": 37,
    "start_time": "2025-04-11T10:20:18.453Z"
   },
   {
    "duration": 100,
    "start_time": "2025-04-11T10:20:20.866Z"
   },
   {
    "duration": 9,
    "start_time": "2025-04-11T10:20:21.812Z"
   },
   {
    "duration": 11,
    "start_time": "2025-04-11T10:20:22.225Z"
   },
   {
    "duration": 14,
    "start_time": "2025-04-11T10:20:23.885Z"
   },
   {
    "duration": 21,
    "start_time": "2025-04-11T10:20:25.122Z"
   },
   {
    "duration": 15,
    "start_time": "2025-04-11T10:20:25.932Z"
   },
   {
    "duration": 16,
    "start_time": "2025-04-11T10:20:26.308Z"
   },
   {
    "duration": 19,
    "start_time": "2025-04-11T10:20:27.790Z"
   },
   {
    "duration": 221,
    "start_time": "2025-04-11T10:20:28.952Z"
   },
   {
    "duration": 13,
    "start_time": "2025-04-11T10:21:10.301Z"
   },
   {
    "duration": 14,
    "start_time": "2025-04-11T10:29:56.333Z"
   },
   {
    "duration": 292,
    "start_time": "2025-04-11T10:32:33.588Z"
   },
   {
    "duration": 2,
    "start_time": "2025-04-11T10:32:48.661Z"
   },
   {
    "duration": 164,
    "start_time": "2025-04-11T10:32:49.523Z"
   },
   {
    "duration": 9,
    "start_time": "2025-04-11T10:32:51.443Z"
   },
   {
    "duration": 19,
    "start_time": "2025-04-11T10:32:51.788Z"
   },
   {
    "duration": 40,
    "start_time": "2025-04-11T10:32:53.246Z"
   },
   {
    "duration": 89,
    "start_time": "2025-04-11T10:32:54.523Z"
   },
   {
    "duration": 8,
    "start_time": "2025-04-11T10:32:55.823Z"
   },
   {
    "duration": 12,
    "start_time": "2025-04-11T10:32:56.370Z"
   },
   {
    "duration": 13,
    "start_time": "2025-04-11T10:32:59.436Z"
   },
   {
    "duration": 21,
    "start_time": "2025-04-11T10:33:01.330Z"
   },
   {
    "duration": 17,
    "start_time": "2025-04-11T10:33:02.484Z"
   },
   {
    "duration": 16,
    "start_time": "2025-04-11T10:33:03.085Z"
   },
   {
    "duration": 18,
    "start_time": "2025-04-11T10:33:05.003Z"
   },
   {
    "duration": 32,
    "start_time": "2025-04-11T10:33:09.103Z"
   },
   {
    "duration": 43,
    "start_time": "2025-04-11T10:33:36.772Z"
   },
   {
    "duration": 28,
    "start_time": "2025-04-11T10:40:32.384Z"
   },
   {
    "duration": 39,
    "start_time": "2025-04-11T10:40:52.610Z"
   },
   {
    "duration": 43,
    "start_time": "2025-04-11T10:41:02.115Z"
   },
   {
    "duration": 37,
    "start_time": "2025-04-11T10:41:21.466Z"
   },
   {
    "duration": 49,
    "start_time": "2025-04-11T10:42:40.581Z"
   },
   {
    "duration": 47,
    "start_time": "2025-04-11T10:42:58.612Z"
   },
   {
    "duration": 53,
    "start_time": "2025-04-11T10:44:53.802Z"
   },
   {
    "duration": 15,
    "start_time": "2025-04-11T10:45:50.626Z"
   },
   {
    "duration": 8,
    "start_time": "2025-04-11T10:46:11.385Z"
   },
   {
    "duration": 84,
    "start_time": "2025-04-11T10:48:17.990Z"
   },
   {
    "duration": 16,
    "start_time": "2025-04-11T10:52:32.063Z"
   },
   {
    "duration": 20,
    "start_time": "2025-04-11T10:53:26.419Z"
   },
   {
    "duration": 19,
    "start_time": "2025-04-11T10:54:09.124Z"
   },
   {
    "duration": 23,
    "start_time": "2025-04-11T10:55:11.653Z"
   },
   {
    "duration": 20,
    "start_time": "2025-04-11T10:55:31.040Z"
   },
   {
    "duration": 19,
    "start_time": "2025-04-11T10:56:08.312Z"
   },
   {
    "duration": 20,
    "start_time": "2025-04-11T10:56:31.567Z"
   },
   {
    "duration": 9,
    "start_time": "2025-04-11T10:56:45.145Z"
   },
   {
    "duration": 10,
    "start_time": "2025-04-11T10:56:54.984Z"
   },
   {
    "duration": 13,
    "start_time": "2025-04-11T11:15:45.728Z"
   },
   {
    "duration": 131,
    "start_time": "2025-04-11T11:21:51.257Z"
   },
   {
    "duration": 46,
    "start_time": "2025-04-11T11:23:21.582Z"
   },
   {
    "duration": 35,
    "start_time": "2025-04-11T11:23:50.763Z"
   },
   {
    "duration": 4,
    "start_time": "2025-04-11T11:23:58.721Z"
   },
   {
    "duration": 26,
    "start_time": "2025-04-11T11:24:10.997Z"
   },
   {
    "duration": 23,
    "start_time": "2025-04-11T11:25:12.022Z"
   },
   {
    "duration": 16,
    "start_time": "2025-04-11T11:25:48.781Z"
   },
   {
    "duration": 15,
    "start_time": "2025-04-11T11:26:31.325Z"
   },
   {
    "duration": 12,
    "start_time": "2025-04-11T11:26:52.008Z"
   },
   {
    "duration": 25,
    "start_time": "2025-04-11T11:27:01.519Z"
   },
   {
    "duration": 316,
    "start_time": "2025-04-11T11:27:28.973Z"
   },
   {
    "duration": 35,
    "start_time": "2025-04-11T11:48:21.920Z"
   },
   {
    "duration": 114,
    "start_time": "2025-04-11T11:49:19.552Z"
   },
   {
    "duration": 112,
    "start_time": "2025-04-11T11:50:06.433Z"
   },
   {
    "duration": 438,
    "start_time": "2025-04-11T11:51:24.051Z"
   },
   {
    "duration": 78,
    "start_time": "2025-04-11T11:51:37.755Z"
   },
   {
    "duration": 56,
    "start_time": "2025-04-11T11:59:28.930Z"
   },
   {
    "duration": 56,
    "start_time": "2025-04-11T11:59:57.553Z"
   },
   {
    "duration": 33,
    "start_time": "2025-04-11T12:00:18.906Z"
   },
   {
    "duration": 18,
    "start_time": "2025-04-11T12:00:33.443Z"
   },
   {
    "duration": 297,
    "start_time": "2025-04-11T12:04:49.210Z"
   },
   {
    "duration": 41,
    "start_time": "2025-04-11T12:05:35.285Z"
   },
   {
    "duration": 3,
    "start_time": "2025-04-11T12:05:50.734Z"
   },
   {
    "duration": 41,
    "start_time": "2025-04-11T12:08:25.425Z"
   },
   {
    "duration": 12,
    "start_time": "2025-04-11T12:09:11.400Z"
   },
   {
    "duration": 12,
    "start_time": "2025-04-11T12:09:17.172Z"
   },
   {
    "duration": 3,
    "start_time": "2025-04-11T12:09:21.017Z"
   },
   {
    "duration": 15,
    "start_time": "2025-04-11T12:09:47.787Z"
   },
   {
    "duration": 12,
    "start_time": "2025-04-11T12:10:09.993Z"
   },
   {
    "duration": 50,
    "start_time": "2025-04-11T12:43:03.310Z"
   },
   {
    "duration": 58,
    "start_time": "2025-04-11T12:43:38.600Z"
   },
   {
    "duration": 6,
    "start_time": "2025-04-11T12:49:59.660Z"
   },
   {
    "duration": 42,
    "start_time": "2025-04-11T12:50:51.947Z"
   },
   {
    "duration": 48,
    "start_time": "2025-04-11T12:51:03.163Z"
   },
   {
    "duration": 15,
    "start_time": "2025-04-11T12:51:25.219Z"
   },
   {
    "duration": 346,
    "start_time": "2025-04-11T12:53:57.879Z"
   },
   {
    "duration": 195,
    "start_time": "2025-04-11T12:55:52.111Z"
   },
   {
    "duration": 52,
    "start_time": "2025-04-11T12:56:06.440Z"
   },
   {
    "duration": 338,
    "start_time": "2025-04-11T12:57:02.059Z"
   },
   {
    "duration": 427,
    "start_time": "2025-04-11T12:58:11.856Z"
   },
   {
    "duration": 8,
    "start_time": "2025-04-11T13:00:43.016Z"
   },
   {
    "duration": 438,
    "start_time": "2025-04-11T13:01:08.656Z"
   },
   {
    "duration": 245,
    "start_time": "2025-04-11T13:03:07.323Z"
   },
   {
    "duration": 219,
    "start_time": "2025-04-11T13:03:25.660Z"
   },
   {
    "duration": 222,
    "start_time": "2025-04-11T13:04:10.548Z"
   },
   {
    "duration": 348,
    "start_time": "2025-04-11T13:04:17.514Z"
   },
   {
    "duration": 215,
    "start_time": "2025-04-11T13:04:37.051Z"
   },
   {
    "duration": 224,
    "start_time": "2025-04-11T13:06:55.325Z"
   },
   {
    "duration": 213,
    "start_time": "2025-04-11T13:07:39.562Z"
   },
   {
    "duration": 236,
    "start_time": "2025-04-11T13:07:53.377Z"
   },
   {
    "duration": 156,
    "start_time": "2025-04-11T13:26:00.552Z"
   },
   {
    "duration": 18,
    "start_time": "2025-04-11T13:27:37.675Z"
   },
   {
    "duration": 18,
    "start_time": "2025-04-11T13:28:00.063Z"
   },
   {
    "duration": 226,
    "start_time": "2025-04-11T13:28:21.698Z"
   },
   {
    "duration": 225,
    "start_time": "2025-04-11T13:28:58.432Z"
   },
   {
    "duration": 206,
    "start_time": "2025-04-11T13:29:16.961Z"
   },
   {
    "duration": 17,
    "start_time": "2025-04-11T13:30:23.800Z"
   },
   {
    "duration": 17,
    "start_time": "2025-04-11T13:39:59.726Z"
   },
   {
    "duration": 2628,
    "start_time": "2025-04-11T15:07:02.519Z"
   },
   {
    "duration": 211,
    "start_time": "2025-04-11T15:07:05.150Z"
   },
   {
    "duration": 9,
    "start_time": "2025-04-11T15:07:05.874Z"
   },
   {
    "duration": 21,
    "start_time": "2025-04-11T15:07:06.271Z"
   },
   {
    "duration": 43,
    "start_time": "2025-04-11T15:07:06.957Z"
   },
   {
    "duration": 102,
    "start_time": "2025-04-11T15:07:07.436Z"
   },
   {
    "duration": 9,
    "start_time": "2025-04-11T15:07:07.768Z"
   },
   {
    "duration": 12,
    "start_time": "2025-04-11T15:07:08.011Z"
   },
   {
    "duration": 14,
    "start_time": "2025-04-11T15:07:08.745Z"
   },
   {
    "duration": 20,
    "start_time": "2025-04-11T15:07:09.249Z"
   },
   {
    "duration": 15,
    "start_time": "2025-04-11T15:07:09.719Z"
   },
   {
    "duration": 16,
    "start_time": "2025-04-11T15:07:09.973Z"
   },
   {
    "duration": 19,
    "start_time": "2025-04-11T15:07:11.032Z"
   },
   {
    "duration": 55,
    "start_time": "2025-04-11T15:07:11.818Z"
   },
   {
    "duration": 18,
    "start_time": "2025-04-11T15:07:12.250Z"
   },
   {
    "duration": 8,
    "start_time": "2025-04-11T15:07:12.570Z"
   },
   {
    "duration": 20,
    "start_time": "2025-04-11T15:07:13.423Z"
   },
   {
    "duration": 25,
    "start_time": "2025-04-11T15:07:14.210Z"
   },
   {
    "duration": 13,
    "start_time": "2025-04-11T15:07:14.616Z"
   },
   {
    "duration": 13,
    "start_time": "2025-04-11T15:07:14.884Z"
   },
   {
    "duration": 92,
    "start_time": "2025-04-11T15:07:15.901Z"
   },
   {
    "duration": 37,
    "start_time": "2025-04-11T15:07:17.158Z"
   },
   {
    "duration": 5,
    "start_time": "2025-04-11T15:07:18.679Z"
   },
   {
    "duration": 25,
    "start_time": "2025-04-11T15:07:19.840Z"
   },
   {
    "duration": 19,
    "start_time": "2025-04-11T15:07:20.399Z"
   },
   {
    "duration": 11,
    "start_time": "2025-04-11T15:07:20.977Z"
   },
   {
    "duration": 25,
    "start_time": "2025-04-11T15:07:21.529Z"
   },
   {
    "duration": 881,
    "start_time": "2025-04-11T15:07:22.647Z"
   },
   {
    "duration": 0,
    "start_time": "2025-04-11T15:07:23.530Z"
   },
   {
    "duration": 139,
    "start_time": "2025-04-11T15:10:51.718Z"
   },
   {
    "duration": 102,
    "start_time": "2025-04-11T15:12:14.298Z"
   },
   {
    "duration": 18,
    "start_time": "2025-04-11T15:12:24.856Z"
   },
   {
    "duration": 178,
    "start_time": "2025-04-11T15:18:35.853Z"
   },
   {
    "duration": 13,
    "start_time": "2025-04-11T15:24:33.688Z"
   },
   {
    "duration": 13,
    "start_time": "2025-04-11T15:25:01.147Z"
   },
   {
    "duration": 335,
    "start_time": "2025-04-11T15:25:08.333Z"
   },
   {
    "duration": 442,
    "start_time": "2025-04-11T15:25:09.175Z"
   },
   {
    "duration": 7,
    "start_time": "2025-04-11T15:25:11.308Z"
   },
   {
    "duration": 231,
    "start_time": "2025-04-11T15:25:12.430Z"
   },
   {
    "duration": 16,
    "start_time": "2025-04-11T15:25:18.676Z"
   },
   {
    "duration": 126,
    "start_time": "2025-04-11T15:27:26.080Z"
   },
   {
    "duration": 233,
    "start_time": "2025-04-11T15:28:12.817Z"
   },
   {
    "duration": 215,
    "start_time": "2025-04-11T15:29:31.692Z"
   },
   {
    "duration": 15,
    "start_time": "2025-04-11T15:30:07.778Z"
   },
   {
    "duration": 201,
    "start_time": "2025-04-11T15:30:13.582Z"
   },
   {
    "duration": 344,
    "start_time": "2025-04-11T15:31:51.740Z"
   },
   {
    "duration": 18,
    "start_time": "2025-04-11T15:35:18.560Z"
   },
   {
    "duration": 21,
    "start_time": "2025-04-11T15:35:36.786Z"
   },
   {
    "duration": 202,
    "start_time": "2025-04-11T15:36:22.931Z"
   },
   {
    "duration": 486,
    "start_time": "2025-04-11T15:42:13.383Z"
   },
   {
    "duration": 122,
    "start_time": "2025-04-11T15:52:47.643Z"
   },
   {
    "duration": 40,
    "start_time": "2025-04-11T15:53:12.104Z"
   },
   {
    "duration": 44,
    "start_time": "2025-04-11T15:53:18.699Z"
   },
   {
    "duration": 17,
    "start_time": "2025-04-11T15:54:05.095Z"
   },
   {
    "duration": 15,
    "start_time": "2025-04-11T15:54:41.093Z"
   },
   {
    "duration": 6,
    "start_time": "2025-04-11T15:59:53.170Z"
   },
   {
    "duration": 5,
    "start_time": "2025-04-11T16:00:15.499Z"
   },
   {
    "duration": 211,
    "start_time": "2025-04-11T16:00:33.325Z"
   },
   {
    "duration": 222,
    "start_time": "2025-04-11T16:01:02.685Z"
   },
   {
    "duration": 211,
    "start_time": "2025-04-11T16:07:13.908Z"
   },
   {
    "duration": 15,
    "start_time": "2025-04-11T16:14:26.750Z"
   },
   {
    "duration": 196,
    "start_time": "2025-04-11T16:14:58.590Z"
   },
   {
    "duration": 40,
    "start_time": "2025-04-11T16:15:28.213Z"
   },
   {
    "duration": 38,
    "start_time": "2025-04-11T16:18:48.615Z"
   },
   {
    "duration": 17,
    "start_time": "2025-04-11T16:19:42.793Z"
   },
   {
    "duration": 15,
    "start_time": "2025-04-11T16:25:56.738Z"
   },
   {
    "duration": 204,
    "start_time": "2025-04-11T16:26:11.796Z"
   },
   {
    "duration": 2531,
    "start_time": "2025-04-12T11:21:39.610Z"
   },
   {
    "duration": 207,
    "start_time": "2025-04-12T11:21:42.144Z"
   },
   {
    "duration": 11,
    "start_time": "2025-04-12T11:21:42.352Z"
   },
   {
    "duration": 21,
    "start_time": "2025-04-12T11:21:42.365Z"
   },
   {
    "duration": 39,
    "start_time": "2025-04-12T11:21:43.832Z"
   },
   {
    "duration": 99,
    "start_time": "2025-04-12T11:21:45.235Z"
   },
   {
    "duration": 9,
    "start_time": "2025-04-12T11:21:46.257Z"
   },
   {
    "duration": 12,
    "start_time": "2025-04-12T11:21:46.826Z"
   },
   {
    "duration": 15,
    "start_time": "2025-04-12T11:21:48.489Z"
   },
   {
    "duration": 21,
    "start_time": "2025-04-12T11:21:50.355Z"
   },
   {
    "duration": 15,
    "start_time": "2025-04-12T11:21:51.558Z"
   },
   {
    "duration": 17,
    "start_time": "2025-04-12T11:21:52.050Z"
   },
   {
    "duration": 21,
    "start_time": "2025-04-12T11:21:53.689Z"
   },
   {
    "duration": 60,
    "start_time": "2025-04-12T11:21:54.803Z"
   },
   {
    "duration": 19,
    "start_time": "2025-04-12T11:21:55.560Z"
   },
   {
    "duration": 9,
    "start_time": "2025-04-12T11:21:55.954Z"
   },
   {
    "duration": 21,
    "start_time": "2025-04-12T11:21:57.519Z"
   },
   {
    "duration": 22,
    "start_time": "2025-04-12T11:21:58.696Z"
   },
   {
    "duration": 12,
    "start_time": "2025-04-12T11:21:59.547Z"
   },
   {
    "duration": 13,
    "start_time": "2025-04-12T11:21:59.934Z"
   },
   {
    "duration": 95,
    "start_time": "2025-04-12T11:22:01.688Z"
   },
   {
    "duration": 38,
    "start_time": "2025-04-12T11:22:03.368Z"
   },
   {
    "duration": 4,
    "start_time": "2025-04-12T11:22:04.769Z"
   },
   {
    "duration": 26,
    "start_time": "2025-04-12T11:22:05.608Z"
   },
   {
    "duration": 20,
    "start_time": "2025-04-12T11:22:05.995Z"
   },
   {
    "duration": 12,
    "start_time": "2025-04-12T11:22:06.422Z"
   },
   {
    "duration": 26,
    "start_time": "2025-04-12T11:22:06.896Z"
   },
   {
    "duration": 129,
    "start_time": "2025-04-12T11:22:07.699Z"
   },
   {
    "duration": 17,
    "start_time": "2025-04-12T11:22:08.084Z"
   },
   {
    "duration": 214,
    "start_time": "2025-04-12T11:22:09.128Z"
   },
   {
    "duration": 16,
    "start_time": "2025-04-12T11:23:28.939Z"
   },
   {
    "duration": 28,
    "start_time": "2025-04-12T11:36:59.207Z"
   },
   {
    "duration": 18,
    "start_time": "2025-04-12T11:37:06.154Z"
   },
   {
    "duration": 16,
    "start_time": "2025-04-12T11:44:55.680Z"
   },
   {
    "duration": 15,
    "start_time": "2025-04-12T11:45:52.038Z"
   },
   {
    "duration": 14,
    "start_time": "2025-04-12T11:47:04.190Z"
   },
   {
    "duration": 14,
    "start_time": "2025-04-12T11:47:53.408Z"
   },
   {
    "duration": 14,
    "start_time": "2025-04-12T11:48:12.829Z"
   },
   {
    "duration": 16,
    "start_time": "2025-04-12T11:48:25.693Z"
   },
   {
    "duration": 332,
    "start_time": "2025-04-12T11:49:58.278Z"
   },
   {
    "duration": 17,
    "start_time": "2025-04-12T12:01:35.503Z"
   },
   {
    "duration": 336,
    "start_time": "2025-04-12T12:02:19.753Z"
   },
   {
    "duration": 287,
    "start_time": "2025-04-12T12:02:47.406Z"
   },
   {
    "duration": 404,
    "start_time": "2025-04-12T12:04:57.069Z"
   },
   {
    "duration": 18,
    "start_time": "2025-04-12T12:06:42.966Z"
   },
   {
    "duration": 494,
    "start_time": "2025-04-12T12:06:50.894Z"
   },
   {
    "duration": 143,
    "start_time": "2025-04-12T12:07:35.852Z"
   },
   {
    "duration": 343,
    "start_time": "2025-04-12T12:08:45.062Z"
   },
   {
    "duration": 197,
    "start_time": "2025-04-12T12:09:40.441Z"
   },
   {
    "duration": 60,
    "start_time": "2025-04-12T12:10:55.396Z"
   },
   {
    "duration": 5,
    "start_time": "2025-04-12T12:11:55.055Z"
   },
   {
    "duration": 12,
    "start_time": "2025-04-12T12:12:25.026Z"
   },
   {
    "duration": 63,
    "start_time": "2025-04-12T12:14:19.941Z"
   },
   {
    "duration": 44,
    "start_time": "2025-04-12T12:18:49.673Z"
   },
   {
    "duration": 4,
    "start_time": "2025-04-12T12:19:32.853Z"
   },
   {
    "duration": 42,
    "start_time": "2025-04-12T12:20:02.972Z"
   },
   {
    "duration": 53,
    "start_time": "2025-04-12T12:21:13.114Z"
   },
   {
    "duration": 11,
    "start_time": "2025-04-12T12:22:08.851Z"
   },
   {
    "duration": 52,
    "start_time": "2025-04-12T12:22:51.122Z"
   },
   {
    "duration": 14,
    "start_time": "2025-04-12T12:23:37.410Z"
   },
   {
    "duration": 14,
    "start_time": "2025-04-12T12:24:03.377Z"
   },
   {
    "duration": 12,
    "start_time": "2025-04-12T12:24:35.721Z"
   },
   {
    "duration": 3,
    "start_time": "2025-04-12T12:24:59.138Z"
   },
   {
    "duration": 46,
    "start_time": "2025-04-12T12:25:32.113Z"
   },
   {
    "duration": 47,
    "start_time": "2025-04-12T12:26:03.396Z"
   },
   {
    "duration": 15,
    "start_time": "2025-04-12T12:27:20.534Z"
   },
   {
    "duration": 15,
    "start_time": "2025-04-12T12:28:09.555Z"
   },
   {
    "duration": 5,
    "start_time": "2025-04-12T12:29:22.808Z"
   },
   {
    "duration": 497,
    "start_time": "2025-04-12T12:31:14.617Z"
   },
   {
    "duration": 14,
    "start_time": "2025-04-12T12:31:55.563Z"
   },
   {
    "duration": 15,
    "start_time": "2025-04-12T12:32:08.360Z"
   },
   {
    "duration": 14,
    "start_time": "2025-04-12T12:32:17.704Z"
   },
   {
    "duration": 27,
    "start_time": "2025-04-12T12:37:21.015Z"
   },
   {
    "duration": 28,
    "start_time": "2025-04-12T12:38:03.440Z"
   },
   {
    "duration": 34,
    "start_time": "2025-04-12T12:38:39.641Z"
   },
   {
    "duration": 25,
    "start_time": "2025-04-12T12:46:51.543Z"
   },
   {
    "duration": 2,
    "start_time": "2025-04-12T12:48:21.344Z"
   },
   {
    "duration": 4,
    "start_time": "2025-04-12T12:49:33.150Z"
   },
   {
    "duration": 4,
    "start_time": "2025-04-12T12:50:04.775Z"
   },
   {
    "duration": 14,
    "start_time": "2025-04-12T12:50:33.199Z"
   },
   {
    "duration": 16,
    "start_time": "2025-04-12T12:51:33.724Z"
   },
   {
    "duration": 13,
    "start_time": "2025-04-12T12:52:21.489Z"
   },
   {
    "duration": 16,
    "start_time": "2025-04-12T12:52:52.710Z"
   },
   {
    "duration": 7,
    "start_time": "2025-04-12T12:53:05.650Z"
   },
   {
    "duration": 5,
    "start_time": "2025-04-12T12:54:37.279Z"
   },
   {
    "duration": 24,
    "start_time": "2025-04-12T12:55:09.534Z"
   },
   {
    "duration": 28,
    "start_time": "2025-04-12T12:55:46.424Z"
   },
   {
    "duration": 30,
    "start_time": "2025-04-12T12:55:49.614Z"
   },
   {
    "duration": 35,
    "start_time": "2025-04-12T12:56:24.174Z"
   },
   {
    "duration": 31,
    "start_time": "2025-04-12T12:58:30.383Z"
   },
   {
    "duration": 2,
    "start_time": "2025-04-12T12:58:37.207Z"
   },
   {
    "duration": 166,
    "start_time": "2025-04-12T12:58:38.111Z"
   },
   {
    "duration": 8,
    "start_time": "2025-04-12T12:58:39.294Z"
   },
   {
    "duration": 18,
    "start_time": "2025-04-12T12:58:39.540Z"
   },
   {
    "duration": 37,
    "start_time": "2025-04-12T12:58:40.252Z"
   },
   {
    "duration": 90,
    "start_time": "2025-04-12T12:58:40.780Z"
   },
   {
    "duration": 9,
    "start_time": "2025-04-12T12:58:41.169Z"
   },
   {
    "duration": 12,
    "start_time": "2025-04-12T12:58:41.373Z"
   },
   {
    "duration": 13,
    "start_time": "2025-04-12T12:58:42.213Z"
   },
   {
    "duration": 21,
    "start_time": "2025-04-12T12:58:42.886Z"
   },
   {
    "duration": 15,
    "start_time": "2025-04-12T12:58:43.301Z"
   },
   {
    "duration": 14,
    "start_time": "2025-04-12T12:58:43.548Z"
   },
   {
    "duration": 17,
    "start_time": "2025-04-12T12:58:44.261Z"
   },
   {
    "duration": 54,
    "start_time": "2025-04-12T12:58:44.805Z"
   },
   {
    "duration": 18,
    "start_time": "2025-04-12T12:58:45.250Z"
   },
   {
    "duration": 8,
    "start_time": "2025-04-12T12:58:45.456Z"
   },
   {
    "duration": 20,
    "start_time": "2025-04-12T12:58:46.244Z"
   },
   {
    "duration": 20,
    "start_time": "2025-04-12T12:58:46.852Z"
   },
   {
    "duration": 13,
    "start_time": "2025-04-12T12:58:47.300Z"
   },
   {
    "duration": 13,
    "start_time": "2025-04-12T12:58:47.508Z"
   },
   {
    "duration": 96,
    "start_time": "2025-04-12T12:58:48.305Z"
   },
   {
    "duration": 34,
    "start_time": "2025-04-12T12:58:49.052Z"
   },
   {
    "duration": 4,
    "start_time": "2025-04-12T12:58:49.625Z"
   },
   {
    "duration": 24,
    "start_time": "2025-04-12T12:58:49.978Z"
   },
   {
    "duration": 18,
    "start_time": "2025-04-12T12:58:50.142Z"
   },
   {
    "duration": 12,
    "start_time": "2025-04-12T12:58:50.335Z"
   },
   {
    "duration": 26,
    "start_time": "2025-04-12T12:58:50.534Z"
   },
   {
    "duration": 86,
    "start_time": "2025-04-12T12:58:50.898Z"
   },
   {
    "duration": 14,
    "start_time": "2025-04-12T12:58:51.114Z"
   },
   {
    "duration": 45,
    "start_time": "2025-04-12T12:58:51.846Z"
   },
   {
    "duration": 49,
    "start_time": "2025-04-12T13:00:43.340Z"
   },
   {
    "duration": 46,
    "start_time": "2025-04-12T13:01:23.279Z"
   },
   {
    "duration": 49,
    "start_time": "2025-04-12T13:01:50.389Z"
   },
   {
    "duration": 46,
    "start_time": "2025-04-12T13:02:16.716Z"
   },
   {
    "duration": 49,
    "start_time": "2025-04-12T13:03:21.022Z"
   },
   {
    "duration": 56,
    "start_time": "2025-04-12T13:04:36.621Z"
   },
   {
    "duration": 50,
    "start_time": "2025-04-12T13:04:53.189Z"
   },
   {
    "duration": 53,
    "start_time": "2025-04-12T13:05:08.284Z"
   },
   {
    "duration": 51,
    "start_time": "2025-04-12T13:05:23.508Z"
   },
   {
    "duration": 51,
    "start_time": "2025-04-12T13:05:37.829Z"
   },
   {
    "duration": 16,
    "start_time": "2025-04-12T13:06:24.116Z"
   },
   {
    "duration": 21,
    "start_time": "2025-04-12T13:09:16.860Z"
   },
   {
    "duration": 21,
    "start_time": "2025-04-12T13:09:34.292Z"
   },
   {
    "duration": 23,
    "start_time": "2025-04-12T13:09:41.187Z"
   },
   {
    "duration": 21,
    "start_time": "2025-04-12T13:10:03.749Z"
   },
   {
    "duration": 23,
    "start_time": "2025-04-12T13:10:11.004Z"
   },
   {
    "duration": 43,
    "start_time": "2025-04-12T13:10:18.244Z"
   },
   {
    "duration": 322,
    "start_time": "2025-04-12T13:10:44.988Z"
   },
   {
    "duration": 160,
    "start_time": "2025-04-12T13:11:07.204Z"
   },
   {
    "duration": 163,
    "start_time": "2025-04-12T13:11:58.416Z"
   },
   {
    "duration": 50,
    "start_time": "2025-04-12T13:12:23.597Z"
   },
   {
    "duration": 435,
    "start_time": "2025-04-12T13:14:02.851Z"
   },
   {
    "duration": 52,
    "start_time": "2025-04-12T13:14:22.797Z"
   },
   {
    "duration": 50,
    "start_time": "2025-04-12T13:35:36.510Z"
   },
   {
    "duration": 50,
    "start_time": "2025-04-12T13:36:04.792Z"
   },
   {
    "duration": 2624,
    "start_time": "2025-04-12T15:59:39.505Z"
   },
   {
    "duration": 216,
    "start_time": "2025-04-12T15:59:42.131Z"
   },
   {
    "duration": 9,
    "start_time": "2025-04-12T15:59:45.747Z"
   },
   {
    "duration": 21,
    "start_time": "2025-04-12T15:59:46.509Z"
   },
   {
    "duration": 40,
    "start_time": "2025-04-12T15:59:48.989Z"
   },
   {
    "duration": 100,
    "start_time": "2025-04-12T15:59:50.464Z"
   },
   {
    "duration": 9,
    "start_time": "2025-04-12T15:59:51.982Z"
   },
   {
    "duration": 12,
    "start_time": "2025-04-12T15:59:52.976Z"
   },
   {
    "duration": 15,
    "start_time": "2025-04-12T15:59:55.471Z"
   },
   {
    "duration": 20,
    "start_time": "2025-04-12T15:59:57.891Z"
   },
   {
    "duration": 15,
    "start_time": "2025-04-12T15:59:59.295Z"
   },
   {
    "duration": 16,
    "start_time": "2025-04-12T16:00:00.062Z"
   },
   {
    "duration": 19,
    "start_time": "2025-04-12T16:00:02.336Z"
   },
   {
    "duration": 85,
    "start_time": "2025-04-12T16:00:04.306Z"
   },
   {
    "duration": 18,
    "start_time": "2025-04-12T16:00:05.678Z"
   },
   {
    "duration": 8,
    "start_time": "2025-04-12T16:00:06.381Z"
   },
   {
    "duration": 20,
    "start_time": "2025-04-12T16:00:08.976Z"
   },
   {
    "duration": 22,
    "start_time": "2025-04-12T16:00:11.017Z"
   },
   {
    "duration": 12,
    "start_time": "2025-04-12T16:00:13.203Z"
   },
   {
    "duration": 13,
    "start_time": "2025-04-12T16:00:13.963Z"
   },
   {
    "duration": 90,
    "start_time": "2025-04-12T16:00:16.387Z"
   },
   {
    "duration": 41,
    "start_time": "2025-04-12T16:00:19.594Z"
   },
   {
    "duration": 4,
    "start_time": "2025-04-12T16:00:22.155Z"
   },
   {
    "duration": 25,
    "start_time": "2025-04-12T16:00:23.658Z"
   },
   {
    "duration": 18,
    "start_time": "2025-04-12T16:00:24.848Z"
   },
   {
    "duration": 12,
    "start_time": "2025-04-12T16:00:25.509Z"
   },
   {
    "duration": 26,
    "start_time": "2025-04-12T16:00:26.315Z"
   },
   {
    "duration": 136,
    "start_time": "2025-04-12T16:00:28.539Z"
   },
   {
    "duration": 14,
    "start_time": "2025-04-12T16:00:29.542Z"
   },
   {
    "duration": 17,
    "start_time": "2025-04-12T16:00:31.995Z"
   },
   {
    "duration": 13,
    "start_time": "2025-04-12T16:01:21.833Z"
   },
   {
    "duration": 14,
    "start_time": "2025-04-12T16:01:36.575Z"
   },
   {
    "duration": 364,
    "start_time": "2025-04-12T16:01:44.352Z"
   },
   {
    "duration": 657,
    "start_time": "2025-04-12T16:01:48.680Z"
   },
   {
    "duration": 16,
    "start_time": "2025-04-12T16:04:05.045Z"
   },
   {
    "duration": 15,
    "start_time": "2025-04-12T16:04:16.605Z"
   },
   {
    "duration": 15,
    "start_time": "2025-04-12T16:05:14.887Z"
   },
   {
    "duration": 328,
    "start_time": "2025-04-12T16:05:27.134Z"
   },
   {
    "duration": 703,
    "start_time": "2025-04-12T16:06:25.920Z"
   },
   {
    "duration": 79,
    "start_time": "2025-04-12T16:07:33.305Z"
   },
   {
    "duration": 77,
    "start_time": "2025-04-12T16:08:06.838Z"
   },
   {
    "duration": 316,
    "start_time": "2025-04-12T16:08:52.243Z"
   },
   {
    "duration": 323,
    "start_time": "2025-04-12T16:11:36.042Z"
   },
   {
    "duration": 5574,
    "start_time": "2025-04-12T16:13:11.742Z"
   },
   {
    "duration": 352,
    "start_time": "2025-04-12T16:19:18.866Z"
   },
   {
    "duration": 340,
    "start_time": "2025-04-12T16:20:09.289Z"
   },
   {
    "duration": 482,
    "start_time": "2025-04-12T16:20:34.353Z"
   },
   {
    "duration": 346,
    "start_time": "2025-04-12T16:24:32.367Z"
   },
   {
    "duration": 8,
    "start_time": "2025-04-12T16:27:04.875Z"
   },
   {
    "duration": 245,
    "start_time": "2025-04-12T16:27:56.806Z"
   },
   {
    "duration": 20,
    "start_time": "2025-04-12T16:32:14.318Z"
   },
   {
    "duration": 17,
    "start_time": "2025-04-12T16:37:12.253Z"
   },
   {
    "duration": 23,
    "start_time": "2025-04-12T16:37:29.131Z"
   },
   {
    "duration": 317,
    "start_time": "2025-04-12T16:38:03.712Z"
   },
   {
    "duration": 335,
    "start_time": "2025-04-12T16:39:23.373Z"
   },
   {
    "duration": 2489,
    "start_time": "2025-04-13T20:19:22.244Z"
   },
   {
    "duration": 203,
    "start_time": "2025-04-13T20:19:24.735Z"
   },
   {
    "duration": 10,
    "start_time": "2025-04-13T20:19:25.008Z"
   },
   {
    "duration": 19,
    "start_time": "2025-04-13T20:19:26.178Z"
   },
   {
    "duration": 46,
    "start_time": "2025-04-13T20:19:28.604Z"
   },
   {
    "duration": 97,
    "start_time": "2025-04-13T20:19:30.977Z"
   },
   {
    "duration": 10,
    "start_time": "2025-04-13T20:19:32.879Z"
   },
   {
    "duration": 11,
    "start_time": "2025-04-13T20:19:33.719Z"
   },
   {
    "duration": 14,
    "start_time": "2025-04-13T20:19:36.232Z"
   },
   {
    "duration": 24,
    "start_time": "2025-04-13T20:19:38.210Z"
   },
   {
    "duration": 17,
    "start_time": "2025-04-13T20:19:39.363Z"
   },
   {
    "duration": 16,
    "start_time": "2025-04-13T20:19:40.163Z"
   },
   {
    "duration": 19,
    "start_time": "2025-04-13T20:19:42.429Z"
   },
   {
    "duration": 57,
    "start_time": "2025-04-13T20:19:44.326Z"
   },
   {
    "duration": 17,
    "start_time": "2025-04-13T20:19:45.779Z"
   },
   {
    "duration": 8,
    "start_time": "2025-04-13T20:19:46.565Z"
   },
   {
    "duration": 21,
    "start_time": "2025-04-13T20:19:48.913Z"
   },
   {
    "duration": 22,
    "start_time": "2025-04-13T20:19:50.877Z"
   },
   {
    "duration": 12,
    "start_time": "2025-04-13T20:19:52.309Z"
   },
   {
    "duration": 12,
    "start_time": "2025-04-13T20:19:52.906Z"
   },
   {
    "duration": 89,
    "start_time": "2025-04-13T20:19:55.292Z"
   },
   {
    "duration": 36,
    "start_time": "2025-04-13T20:19:57.815Z"
   },
   {
    "duration": 4,
    "start_time": "2025-04-13T20:19:59.672Z"
   },
   {
    "duration": 28,
    "start_time": "2025-04-13T20:20:01.107Z"
   },
   {
    "duration": 19,
    "start_time": "2025-04-13T20:20:02.044Z"
   },
   {
    "duration": 12,
    "start_time": "2025-04-13T20:20:02.775Z"
   },
   {
    "duration": 29,
    "start_time": "2025-04-13T20:20:03.695Z"
   },
   {
    "duration": 131,
    "start_time": "2025-04-13T20:20:05.254Z"
   },
   {
    "duration": 15,
    "start_time": "2025-04-13T20:20:05.841Z"
   },
   {
    "duration": 16,
    "start_time": "2025-04-13T20:20:07.250Z"
   },
   {
    "duration": 314,
    "start_time": "2025-04-13T20:20:09.730Z"
   },
   {
    "duration": 340,
    "start_time": "2025-04-13T20:20:10.906Z"
   },
   {
    "duration": 8,
    "start_time": "2025-04-13T20:20:12.456Z"
   },
   {
    "duration": 218,
    "start_time": "2025-04-13T20:20:13.336Z"
   },
   {
    "duration": 325,
    "start_time": "2025-04-13T20:20:15.568Z"
   },
   {
    "duration": 299,
    "start_time": "2025-04-13T20:20:16.415Z"
   },
   {
    "duration": 271,
    "start_time": "2025-04-13T20:20:17.309Z"
   },
   {
    "duration": 260,
    "start_time": "2025-04-13T21:07:22.801Z"
   },
   {
    "duration": 691,
    "start_time": "2025-04-13T21:07:39.729Z"
   },
   {
    "duration": 249,
    "start_time": "2025-04-13T21:07:58.330Z"
   },
   {
    "duration": 46,
    "start_time": "2025-04-13T21:30:35.942Z"
   },
   {
    "duration": 50,
    "start_time": "2025-04-13T21:32:07.468Z"
   },
   {
    "duration": 28,
    "start_time": "2025-04-13T21:36:53.269Z"
   },
   {
    "duration": 506,
    "start_time": "2025-04-13T21:43:17.117Z"
   },
   {
    "duration": 52,
    "start_time": "2025-04-13T21:43:48.262Z"
   },
   {
    "duration": 98,
    "start_time": "2025-04-13T21:44:04.039Z"
   },
   {
    "duration": 32,
    "start_time": "2025-04-13T21:44:37.893Z"
   },
   {
    "duration": 44,
    "start_time": "2025-04-13T21:47:23.328Z"
   },
   {
    "duration": 33,
    "start_time": "2025-04-13T21:47:29.486Z"
   },
   {
    "duration": 32,
    "start_time": "2025-04-13T21:47:37.636Z"
   },
   {
    "duration": 1552,
    "start_time": "2025-04-13T21:51:12.053Z"
   },
   {
    "duration": 1611,
    "start_time": "2025-04-13T21:52:10.884Z"
   },
   {
    "duration": 1612,
    "start_time": "2025-04-13T21:53:03.391Z"
   },
   {
    "duration": 1654,
    "start_time": "2025-04-13T21:53:55.660Z"
   },
   {
    "duration": 2417,
    "start_time": "2025-04-14T12:13:14.414Z"
   },
   {
    "duration": 222,
    "start_time": "2025-04-14T12:13:16.833Z"
   },
   {
    "duration": 10,
    "start_time": "2025-04-14T12:13:17.056Z"
   },
   {
    "duration": 19,
    "start_time": "2025-04-14T12:13:17.069Z"
   },
   {
    "duration": 36,
    "start_time": "2025-04-14T12:13:17.090Z"
   },
   {
    "duration": 105,
    "start_time": "2025-04-14T12:13:17.128Z"
   },
   {
    "duration": 9,
    "start_time": "2025-04-14T12:13:17.235Z"
   },
   {
    "duration": 10,
    "start_time": "2025-04-14T12:13:17.311Z"
   },
   {
    "duration": 18,
    "start_time": "2025-04-14T12:13:18.021Z"
   },
   {
    "duration": 21,
    "start_time": "2025-04-14T12:13:18.573Z"
   },
   {
    "duration": 16,
    "start_time": "2025-04-14T12:13:18.928Z"
   },
   {
    "duration": 17,
    "start_time": "2025-04-14T12:13:19.134Z"
   },
   {
    "duration": 19,
    "start_time": "2025-04-14T12:13:19.909Z"
   },
   {
    "duration": 55,
    "start_time": "2025-04-14T12:13:20.610Z"
   },
   {
    "duration": 18,
    "start_time": "2025-04-14T12:13:21.116Z"
   },
   {
    "duration": 7,
    "start_time": "2025-04-14T12:13:21.373Z"
   },
   {
    "duration": 19,
    "start_time": "2025-04-14T12:13:22.302Z"
   },
   {
    "duration": 21,
    "start_time": "2025-04-14T12:13:22.893Z"
   },
   {
    "duration": 13,
    "start_time": "2025-04-14T12:13:23.471Z"
   },
   {
    "duration": 13,
    "start_time": "2025-04-14T12:13:23.685Z"
   },
   {
    "duration": 90,
    "start_time": "2025-04-14T12:13:24.470Z"
   },
   {
    "duration": 38,
    "start_time": "2025-04-14T12:13:25.265Z"
   },
   {
    "duration": 4,
    "start_time": "2025-04-14T12:13:25.820Z"
   },
   {
    "duration": 26,
    "start_time": "2025-04-14T12:13:26.172Z"
   },
   {
    "duration": 18,
    "start_time": "2025-04-14T12:13:26.373Z"
   },
   {
    "duration": 11,
    "start_time": "2025-04-14T12:13:26.558Z"
   },
   {
    "duration": 25,
    "start_time": "2025-04-14T12:13:26.777Z"
   },
   {
    "duration": 130,
    "start_time": "2025-04-14T12:13:27.157Z"
   },
   {
    "duration": 15,
    "start_time": "2025-04-14T12:13:27.348Z"
   },
   {
    "duration": 14,
    "start_time": "2025-04-14T12:13:27.814Z"
   },
   {
    "duration": 310,
    "start_time": "2025-04-14T12:13:29.238Z"
   },
   {
    "duration": 342,
    "start_time": "2025-04-14T12:13:29.590Z"
   },
   {
    "duration": 8,
    "start_time": "2025-04-14T12:13:30.357Z"
   },
   {
    "duration": 251,
    "start_time": "2025-04-14T12:13:30.708Z"
   },
   {
    "duration": 322,
    "start_time": "2025-04-14T12:13:31.833Z"
   },
   {
    "duration": 296,
    "start_time": "2025-04-14T12:13:32.206Z"
   },
   {
    "duration": 290,
    "start_time": "2025-04-14T12:13:32.557Z"
   },
   {
    "duration": 26,
    "start_time": "2025-04-14T12:13:34.325Z"
   },
   {
    "duration": 32,
    "start_time": "2025-04-14T12:13:35.697Z"
   },
   {
    "duration": 1631,
    "start_time": "2025-04-14T12:13:36.681Z"
   },
   {
    "duration": 32,
    "start_time": "2025-04-14T12:21:41.961Z"
   },
   {
    "duration": 395,
    "start_time": "2025-04-14T12:26:11.797Z"
   },
   {
    "duration": 439,
    "start_time": "2025-04-14T12:26:20.406Z"
   },
   {
    "duration": 521,
    "start_time": "2025-04-14T12:26:49.310Z"
   },
   {
    "duration": 448,
    "start_time": "2025-04-14T12:27:43.309Z"
   },
   {
    "duration": 11,
    "start_time": "2025-04-14T12:27:48.292Z"
   },
   {
    "duration": 521,
    "start_time": "2025-04-14T12:29:02.987Z"
   },
   {
    "duration": 378,
    "start_time": "2025-04-14T12:29:47.725Z"
   },
   {
    "duration": 223,
    "start_time": "2025-04-14T12:35:41.148Z"
   },
   {
    "duration": 3,
    "start_time": "2025-04-14T12:36:06.276Z"
   },
   {
    "duration": 12,
    "start_time": "2025-04-14T12:36:21.818Z"
   },
   {
    "duration": 5,
    "start_time": "2025-04-14T12:37:32.626Z"
   },
   {
    "duration": 13,
    "start_time": "2025-04-14T12:38:33.148Z"
   },
   {
    "duration": 11,
    "start_time": "2025-04-14T12:41:52.189Z"
   },
   {
    "duration": 17,
    "start_time": "2025-04-14T12:42:46.883Z"
   },
   {
    "duration": 13,
    "start_time": "2025-04-14T12:47:45.908Z"
   },
   {
    "duration": 2663,
    "start_time": "2025-04-14T18:14:24.825Z"
   },
   {
    "duration": 214,
    "start_time": "2025-04-14T18:14:27.490Z"
   },
   {
    "duration": 9,
    "start_time": "2025-04-14T18:14:27.706Z"
   },
   {
    "duration": 19,
    "start_time": "2025-04-14T18:14:27.718Z"
   },
   {
    "duration": 39,
    "start_time": "2025-04-14T18:14:27.738Z"
   },
   {
    "duration": 122,
    "start_time": "2025-04-14T18:14:27.778Z"
   },
   {
    "duration": 8,
    "start_time": "2025-04-14T18:14:27.902Z"
   },
   {
    "duration": 12,
    "start_time": "2025-04-14T18:14:27.912Z"
   },
   {
    "duration": 13,
    "start_time": "2025-04-14T18:14:27.926Z"
   },
   {
    "duration": 21,
    "start_time": "2025-04-14T18:14:27.943Z"
   },
   {
    "duration": 48,
    "start_time": "2025-04-14T18:14:27.965Z"
   },
   {
    "duration": 15,
    "start_time": "2025-04-14T18:14:28.015Z"
   },
   {
    "duration": 18,
    "start_time": "2025-04-14T18:14:28.031Z"
   },
   {
    "duration": 72,
    "start_time": "2025-04-14T18:14:28.051Z"
   },
   {
    "duration": 17,
    "start_time": "2025-04-14T18:14:28.126Z"
   },
   {
    "duration": 7,
    "start_time": "2025-04-14T18:14:28.145Z"
   },
   {
    "duration": 18,
    "start_time": "2025-04-14T18:14:28.154Z"
   },
   {
    "duration": 45,
    "start_time": "2025-04-14T18:14:28.174Z"
   },
   {
    "duration": 11,
    "start_time": "2025-04-14T18:14:28.221Z"
   },
   {
    "duration": 13,
    "start_time": "2025-04-14T18:14:28.233Z"
   },
   {
    "duration": 112,
    "start_time": "2025-04-14T18:14:28.247Z"
   },
   {
    "duration": 51,
    "start_time": "2025-04-14T18:14:28.361Z"
   },
   {
    "duration": 4,
    "start_time": "2025-04-14T18:14:28.416Z"
   },
   {
    "duration": 28,
    "start_time": "2025-04-14T18:14:28.422Z"
   },
   {
    "duration": 18,
    "start_time": "2025-04-14T18:14:28.452Z"
   },
   {
    "duration": 14,
    "start_time": "2025-04-14T18:14:28.472Z"
   },
   {
    "duration": 32,
    "start_time": "2025-04-14T18:14:28.510Z"
   },
   {
    "duration": 139,
    "start_time": "2025-04-14T18:14:28.546Z"
   },
   {
    "duration": 22,
    "start_time": "2025-04-14T18:14:28.687Z"
   },
   {
    "duration": 18,
    "start_time": "2025-04-14T18:14:28.711Z"
   },
   {
    "duration": 360,
    "start_time": "2025-04-14T18:14:28.731Z"
   },
   {
    "duration": 333,
    "start_time": "2025-04-14T18:14:29.093Z"
   },
   {
    "duration": 8,
    "start_time": "2025-04-14T18:14:29.428Z"
   },
   {
    "duration": 234,
    "start_time": "2025-04-14T18:14:29.438Z"
   },
   {
    "duration": 330,
    "start_time": "2025-04-14T18:14:29.674Z"
   },
   {
    "duration": 312,
    "start_time": "2025-04-14T18:14:30.009Z"
   },
   {
    "duration": 330,
    "start_time": "2025-04-14T18:14:30.323Z"
   },
   {
    "duration": 25,
    "start_time": "2025-04-14T18:14:30.655Z"
   },
   {
    "duration": 45,
    "start_time": "2025-04-14T18:14:30.682Z"
   },
   {
    "duration": 1587,
    "start_time": "2025-04-14T18:14:30.728Z"
   },
   {
    "duration": 407,
    "start_time": "2025-04-14T18:14:32.317Z"
   },
   {
    "duration": 10,
    "start_time": "2025-04-14T18:14:32.726Z"
   },
   {
    "duration": 399,
    "start_time": "2025-04-14T18:14:32.738Z"
   },
   {
    "duration": 284,
    "start_time": "2025-04-14T18:14:33.139Z"
   },
   {
    "duration": 0,
    "start_time": "2025-04-14T18:14:33.425Z"
   },
   {
    "duration": 13,
    "start_time": "2025-04-14T18:15:03.957Z"
   },
   {
    "duration": 4,
    "start_time": "2025-04-14T18:18:15.316Z"
   },
   {
    "duration": 5,
    "start_time": "2025-04-14T18:19:53.592Z"
   },
   {
    "duration": 25,
    "start_time": "2025-04-14T18:19:59.432Z"
   },
   {
    "duration": 6,
    "start_time": "2025-04-14T18:20:20.233Z"
   },
   {
    "duration": 108,
    "start_time": "2025-04-14T18:20:35.351Z"
   },
   {
    "duration": 104,
    "start_time": "2025-04-14T18:26:52.635Z"
   },
   {
    "duration": 344,
    "start_time": "2025-04-14T18:28:10.980Z"
   },
   {
    "duration": 14,
    "start_time": "2025-04-14T18:29:29.184Z"
   },
   {
    "duration": 15,
    "start_time": "2025-04-14T18:34:52.026Z"
   },
   {
    "duration": 6,
    "start_time": "2025-04-14T18:35:11.410Z"
   },
   {
    "duration": 5,
    "start_time": "2025-04-14T18:35:18.342Z"
   },
   {
    "duration": 5,
    "start_time": "2025-04-14T18:35:37.506Z"
   },
   {
    "duration": 2614,
    "start_time": "2025-04-19T09:06:52.007Z"
   },
   {
    "duration": 217,
    "start_time": "2025-04-19T09:06:54.624Z"
   },
   {
    "duration": 10,
    "start_time": "2025-04-19T09:06:56.003Z"
   },
   {
    "duration": 21,
    "start_time": "2025-04-19T09:06:56.887Z"
   },
   {
    "duration": 39,
    "start_time": "2025-04-19T09:06:58.768Z"
   },
   {
    "duration": 101,
    "start_time": "2025-04-19T09:07:00.903Z"
   },
   {
    "duration": 8,
    "start_time": "2025-04-19T09:07:02.320Z"
   },
   {
    "duration": 12,
    "start_time": "2025-04-19T09:07:03.127Z"
   },
   {
    "duration": 16,
    "start_time": "2025-04-19T09:07:04.954Z"
   },
   {
    "duration": 22,
    "start_time": "2025-04-19T09:07:06.384Z"
   },
   {
    "duration": 16,
    "start_time": "2025-04-19T09:07:07.231Z"
   },
   {
    "duration": 17,
    "start_time": "2025-04-19T09:07:07.592Z"
   },
   {
    "duration": 20,
    "start_time": "2025-04-19T09:07:09.192Z"
   },
   {
    "duration": 58,
    "start_time": "2025-04-19T09:07:10.512Z"
   },
   {
    "duration": 18,
    "start_time": "2025-04-19T09:07:11.399Z"
   },
   {
    "duration": 7,
    "start_time": "2025-04-19T09:07:11.936Z"
   },
   {
    "duration": 20,
    "start_time": "2025-04-19T09:07:14.207Z"
   },
   {
    "duration": 21,
    "start_time": "2025-04-19T09:07:15.439Z"
   },
   {
    "duration": 12,
    "start_time": "2025-04-19T09:07:16.304Z"
   },
   {
    "duration": 13,
    "start_time": "2025-04-19T09:07:16.752Z"
   },
   {
    "duration": 90,
    "start_time": "2025-04-19T09:07:18.623Z"
   },
   {
    "duration": 38,
    "start_time": "2025-04-19T09:07:20.594Z"
   },
   {
    "duration": 4,
    "start_time": "2025-04-19T09:07:22.015Z"
   },
   {
    "duration": 27,
    "start_time": "2025-04-19T09:07:23.001Z"
   },
   {
    "duration": 20,
    "start_time": "2025-04-19T09:07:23.511Z"
   },
   {
    "duration": 12,
    "start_time": "2025-04-19T09:07:24.127Z"
   },
   {
    "duration": 26,
    "start_time": "2025-04-19T09:07:24.687Z"
   },
   {
    "duration": 141,
    "start_time": "2025-04-19T09:07:25.519Z"
   },
   {
    "duration": 15,
    "start_time": "2025-04-19T09:07:25.888Z"
   },
   {
    "duration": 17,
    "start_time": "2025-04-19T09:07:26.623Z"
   },
   {
    "duration": 294,
    "start_time": "2025-04-19T09:08:07.303Z"
   },
   {
    "duration": 350,
    "start_time": "2025-04-19T09:08:08.215Z"
   },
   {
    "duration": 8,
    "start_time": "2025-04-19T09:08:10.295Z"
   },
   {
    "duration": 237,
    "start_time": "2025-04-19T09:08:11.151Z"
   },
   {
    "duration": 308,
    "start_time": "2025-04-19T09:08:14.103Z"
   },
   {
    "duration": 3,
    "start_time": "2025-04-19T09:08:41.856Z"
   },
   {
    "duration": 287,
    "start_time": "2025-04-19T09:09:33.192Z"
   },
   {
    "duration": 426,
    "start_time": "2025-04-19T09:10:06.432Z"
   },
   {
    "duration": 473,
    "start_time": "2025-04-19T09:10:24.408Z"
   },
   {
    "duration": 290,
    "start_time": "2025-04-19T09:10:57.616Z"
   },
   {
    "duration": 344,
    "start_time": "2025-04-19T09:11:14.216Z"
   },
   {
    "duration": 308,
    "start_time": "2025-04-19T09:12:31.065Z"
   },
   {
    "duration": 316,
    "start_time": "2025-04-19T09:32:53.573Z"
   },
   {
    "duration": 248,
    "start_time": "2025-04-19T09:32:58.094Z"
   },
   {
    "duration": 357,
    "start_time": "2025-04-19T09:33:51.557Z"
   },
   {
    "duration": 40,
    "start_time": "2025-04-19T09:35:52.596Z"
   },
   {
    "duration": 40,
    "start_time": "2025-04-19T09:36:33.541Z"
   },
   {
    "duration": 21,
    "start_time": "2025-04-19T10:24:50.777Z"
   },
   {
    "duration": 16,
    "start_time": "2025-04-19T10:30:57.078Z"
   },
   {
    "duration": 2,
    "start_time": "2025-04-19T10:31:15.182Z"
   },
   {
    "duration": 163,
    "start_time": "2025-04-19T10:31:15.936Z"
   },
   {
    "duration": 9,
    "start_time": "2025-04-19T10:31:16.775Z"
   },
   {
    "duration": 18,
    "start_time": "2025-04-19T10:31:16.939Z"
   },
   {
    "duration": 38,
    "start_time": "2025-04-19T10:31:17.606Z"
   },
   {
    "duration": 96,
    "start_time": "2025-04-19T10:31:18.102Z"
   },
   {
    "duration": 8,
    "start_time": "2025-04-19T10:31:18.429Z"
   },
   {
    "duration": 11,
    "start_time": "2025-04-19T10:31:18.599Z"
   },
   {
    "duration": 13,
    "start_time": "2025-04-19T10:31:19.275Z"
   },
   {
    "duration": 22,
    "start_time": "2025-04-19T10:31:19.791Z"
   },
   {
    "duration": 16,
    "start_time": "2025-04-19T10:31:20.133Z"
   },
   {
    "duration": 16,
    "start_time": "2025-04-19T10:31:20.328Z"
   },
   {
    "duration": 19,
    "start_time": "2025-04-19T10:31:20.974Z"
   },
   {
    "duration": 52,
    "start_time": "2025-04-19T10:31:22.301Z"
   },
   {
    "duration": 19,
    "start_time": "2025-04-19T10:31:22.648Z"
   },
   {
    "duration": 8,
    "start_time": "2025-04-19T10:31:22.814Z"
   },
   {
    "duration": 20,
    "start_time": "2025-04-19T10:31:23.669Z"
   },
   {
    "duration": 22,
    "start_time": "2025-04-19T10:31:24.181Z"
   },
   {
    "duration": 11,
    "start_time": "2025-04-19T10:31:24.533Z"
   },
   {
    "duration": 13,
    "start_time": "2025-04-19T10:31:24.693Z"
   },
   {
    "duration": 95,
    "start_time": "2025-04-19T10:31:25.374Z"
   },
   {
    "duration": 36,
    "start_time": "2025-04-19T10:31:26.070Z"
   },
   {
    "duration": 5,
    "start_time": "2025-04-19T10:31:26.605Z"
   },
   {
    "duration": 25,
    "start_time": "2025-04-19T10:31:26.957Z"
   },
   {
    "duration": 16,
    "start_time": "2025-04-19T10:31:27.127Z"
   },
   {
    "duration": 12,
    "start_time": "2025-04-19T10:31:27.295Z"
   },
   {
    "duration": 25,
    "start_time": "2025-04-19T10:31:27.469Z"
   },
   {
    "duration": 90,
    "start_time": "2025-04-19T10:31:27.813Z"
   },
   {
    "duration": 15,
    "start_time": "2025-04-19T10:31:27.997Z"
   },
   {
    "duration": 16,
    "start_time": "2025-04-19T10:31:28.348Z"
   },
   {
    "duration": 326,
    "start_time": "2025-04-19T10:31:30.046Z"
   },
   {
    "duration": 380,
    "start_time": "2025-04-19T10:31:30.625Z"
   },
   {
    "duration": 8,
    "start_time": "2025-04-19T10:31:32.311Z"
   },
   {
    "duration": 254,
    "start_time": "2025-04-19T10:31:32.878Z"
   },
   {
    "duration": 471,
    "start_time": "2025-04-19T10:31:34.203Z"
   },
   {
    "duration": 307,
    "start_time": "2025-04-19T10:31:36.359Z"
   },
   {
    "duration": 246,
    "start_time": "2025-04-19T10:31:37.175Z"
   },
   {
    "duration": 24,
    "start_time": "2025-04-19T10:31:39.118Z"
   },
   {
    "duration": 29,
    "start_time": "2025-04-19T10:31:39.913Z"
   },
   {
    "duration": 1599,
    "start_time": "2025-04-19T10:31:40.382Z"
   },
   {
    "duration": 406,
    "start_time": "2025-04-19T10:31:42.766Z"
   },
   {
    "duration": 11,
    "start_time": "2025-04-19T10:31:43.800Z"
   },
   {
    "duration": 340,
    "start_time": "2025-04-19T10:31:44.374Z"
   },
   {
    "duration": 325,
    "start_time": "2025-04-19T10:31:47.302Z"
   },
   {
    "duration": 6,
    "start_time": "2025-04-19T10:31:48.458Z"
   },
   {
    "duration": 4,
    "start_time": "2025-04-19T10:31:48.982Z"
   },
   {
    "duration": 4,
    "start_time": "2025-04-19T10:32:06.974Z"
   },
   {
    "duration": 17,
    "start_time": "2025-04-19T10:32:15.743Z"
   },
   {
    "duration": 524,
    "start_time": "2025-04-19T13:00:37.796Z"
   },
   {
    "duration": 12,
    "start_time": "2025-04-19T13:00:41.530Z"
   },
   {
    "duration": 17,
    "start_time": "2025-04-19T13:01:12.907Z"
   },
   {
    "duration": 50,
    "start_time": "2025-04-19T13:01:23.285Z"
   },
   {
    "duration": 127,
    "start_time": "2025-04-19T13:01:39.869Z"
   },
   {
    "duration": 35,
    "start_time": "2025-04-19T13:01:50.372Z"
   },
   {
    "duration": 400,
    "start_time": "2025-04-19T13:02:36.731Z"
   },
   {
    "duration": 12,
    "start_time": "2025-04-19T13:02:42.929Z"
   },
   {
    "duration": 330,
    "start_time": "2025-04-19T13:02:43.387Z"
   },
   {
    "duration": 39,
    "start_time": "2025-04-19T13:03:59.458Z"
   },
   {
    "duration": 43,
    "start_time": "2025-04-19T13:04:14.163Z"
   },
   {
    "duration": 3,
    "start_time": "2025-04-19T13:22:11.161Z"
   },
   {
    "duration": 3,
    "start_time": "2025-04-19T13:22:28.549Z"
   },
   {
    "duration": 25,
    "start_time": "2025-04-19T13:22:34.073Z"
   },
   {
    "duration": 4,
    "start_time": "2025-04-19T13:24:37.248Z"
   },
   {
    "duration": 4,
    "start_time": "2025-04-19T13:25:03.459Z"
   },
   {
    "duration": 135,
    "start_time": "2025-04-19T13:25:09.254Z"
   },
   {
    "duration": 23,
    "start_time": "2025-04-19T13:27:28.249Z"
   },
   {
    "duration": 140,
    "start_time": "2025-04-19T13:29:33.911Z"
   },
   {
    "duration": 79,
    "start_time": "2025-04-19T13:29:57.704Z"
   },
   {
    "duration": 98,
    "start_time": "2025-04-19T13:30:40.462Z"
   },
   {
    "duration": 80,
    "start_time": "2025-04-19T13:32:16.423Z"
   },
   {
    "duration": 3,
    "start_time": "2025-04-19T13:32:58.465Z"
   },
   {
    "duration": 8,
    "start_time": "2025-04-19T13:33:51.057Z"
   },
   {
    "duration": 15,
    "start_time": "2025-04-19T13:33:59.609Z"
   },
   {
    "duration": 3116,
    "start_time": "2025-04-20T13:55:06.753Z"
   },
   {
    "duration": 255,
    "start_time": "2025-04-20T13:55:09.871Z"
   },
   {
    "duration": 19,
    "start_time": "2025-04-20T13:55:10.129Z"
   },
   {
    "duration": 26,
    "start_time": "2025-04-20T13:55:10.150Z"
   },
   {
    "duration": 39,
    "start_time": "2025-04-20T13:55:10.179Z"
   },
   {
    "duration": 134,
    "start_time": "2025-04-20T13:55:10.232Z"
   },
   {
    "duration": 14,
    "start_time": "2025-04-20T13:55:10.368Z"
   },
   {
    "duration": 12,
    "start_time": "2025-04-20T13:55:10.384Z"
   },
   {
    "duration": 43,
    "start_time": "2025-04-20T13:55:10.398Z"
   },
   {
    "duration": 29,
    "start_time": "2025-04-20T13:55:10.443Z"
   },
   {
    "duration": 17,
    "start_time": "2025-04-20T13:55:10.473Z"
   },
   {
    "duration": 44,
    "start_time": "2025-04-20T13:55:10.492Z"
   },
   {
    "duration": 32,
    "start_time": "2025-04-20T13:55:10.538Z"
   },
   {
    "duration": 72,
    "start_time": "2025-04-20T13:55:10.577Z"
   },
   {
    "duration": 26,
    "start_time": "2025-04-20T13:55:10.652Z"
   },
   {
    "duration": 8,
    "start_time": "2025-04-20T13:55:10.680Z"
   },
   {
    "duration": 46,
    "start_time": "2025-04-20T13:55:10.689Z"
   },
   {
    "duration": 30,
    "start_time": "2025-04-20T13:55:10.737Z"
   },
   {
    "duration": 15,
    "start_time": "2025-04-20T13:55:10.769Z"
   },
   {
    "duration": 13,
    "start_time": "2025-04-20T13:55:10.786Z"
   },
   {
    "duration": 147,
    "start_time": "2025-04-20T13:55:10.801Z"
   },
   {
    "duration": 48,
    "start_time": "2025-04-20T13:55:10.950Z"
   },
   {
    "duration": 5,
    "start_time": "2025-04-20T13:55:11.000Z"
   },
   {
    "duration": 61,
    "start_time": "2025-04-20T13:55:11.007Z"
   },
   {
    "duration": 20,
    "start_time": "2025-04-20T13:55:11.071Z"
   },
   {
    "duration": 11,
    "start_time": "2025-04-20T13:55:11.092Z"
   },
   {
    "duration": 61,
    "start_time": "2025-04-20T13:55:11.105Z"
   },
   {
    "duration": 179,
    "start_time": "2025-04-20T13:55:11.168Z"
   },
   {
    "duration": 21,
    "start_time": "2025-04-20T13:55:11.366Z"
   },
   {
    "duration": 14,
    "start_time": "2025-04-20T13:55:11.389Z"
   },
   {
    "duration": 338,
    "start_time": "2025-04-20T13:55:11.406Z"
   },
   {
    "duration": 363,
    "start_time": "2025-04-20T13:55:11.746Z"
   },
   {
    "duration": 9,
    "start_time": "2025-04-20T13:55:12.111Z"
   },
   {
    "duration": 275,
    "start_time": "2025-04-20T13:55:12.121Z"
   },
   {
    "duration": 356,
    "start_time": "2025-04-20T13:55:12.398Z"
   },
   {
    "duration": 369,
    "start_time": "2025-04-20T13:55:12.756Z"
   },
   {
    "duration": 362,
    "start_time": "2025-04-20T13:55:13.127Z"
   },
   {
    "duration": 26,
    "start_time": "2025-04-20T13:55:13.491Z"
   },
   {
    "duration": 42,
    "start_time": "2025-04-20T13:55:13.531Z"
   },
   {
    "duration": 1660,
    "start_time": "2025-04-20T13:55:13.575Z"
   },
   {
    "duration": 520,
    "start_time": "2025-04-20T13:55:15.240Z"
   },
   {
    "duration": 13,
    "start_time": "2025-04-20T13:55:15.762Z"
   },
   {
    "duration": 415,
    "start_time": "2025-04-20T13:55:15.777Z"
   },
   {
    "duration": 492,
    "start_time": "2025-04-20T13:55:16.194Z"
   },
   {
    "duration": 6,
    "start_time": "2025-04-20T13:55:16.688Z"
   },
   {
    "duration": 0,
    "start_time": "2025-04-20T13:55:16.695Z"
   },
   {
    "duration": 0,
    "start_time": "2025-04-20T13:55:16.697Z"
   },
   {
    "duration": 0,
    "start_time": "2025-04-20T13:55:16.699Z"
   },
   {
    "duration": 0,
    "start_time": "2025-04-20T13:55:16.700Z"
   },
   {
    "duration": 6,
    "start_time": "2025-04-20T13:55:24.854Z"
   },
   {
    "duration": 160,
    "start_time": "2025-05-09T13:25:51.083Z"
   },
   {
    "duration": 13,
    "start_time": "2025-05-09T13:26:18.386Z"
   },
   {
    "duration": 2462,
    "start_time": "2025-05-09T13:26:22.862Z"
   },
   {
    "duration": 212,
    "start_time": "2025-05-09T13:26:25.325Z"
   },
   {
    "duration": 10,
    "start_time": "2025-05-09T13:26:27.202Z"
   },
   {
    "duration": 21,
    "start_time": "2025-05-09T13:26:27.577Z"
   },
   {
    "duration": 38,
    "start_time": "2025-05-09T13:26:28.267Z"
   },
   {
    "duration": 99,
    "start_time": "2025-05-09T13:26:28.770Z"
   },
   {
    "duration": 8,
    "start_time": "2025-05-09T13:26:29.113Z"
   },
   {
    "duration": 12,
    "start_time": "2025-05-09T13:26:29.283Z"
   },
   {
    "duration": 66,
    "start_time": "2025-05-09T13:26:29.987Z"
   },
   {
    "duration": 22,
    "start_time": "2025-05-09T13:26:30.521Z"
   },
   {
    "duration": 15,
    "start_time": "2025-05-09T13:26:30.891Z"
   },
   {
    "duration": 16,
    "start_time": "2025-05-09T13:26:31.077Z"
   },
   {
    "duration": 19,
    "start_time": "2025-05-09T13:26:31.777Z"
   },
   {
    "duration": 56,
    "start_time": "2025-05-09T13:26:32.321Z"
   },
   {
    "duration": 19,
    "start_time": "2025-05-09T13:26:32.691Z"
   },
   {
    "duration": 7,
    "start_time": "2025-05-09T13:26:32.865Z"
   },
   {
    "duration": 21,
    "start_time": "2025-05-09T13:26:33.689Z"
   },
   {
    "duration": 22,
    "start_time": "2025-05-09T13:26:34.521Z"
   },
   {
    "duration": 13,
    "start_time": "2025-05-09T13:26:35.456Z"
   },
   {
    "duration": 13,
    "start_time": "2025-05-09T13:26:35.957Z"
   },
   {
    "duration": 91,
    "start_time": "2025-05-09T13:26:38.018Z"
   },
   {
    "duration": 36,
    "start_time": "2025-05-09T13:26:39.985Z"
   },
   {
    "duration": 5,
    "start_time": "2025-05-09T13:26:41.604Z"
   },
   {
    "duration": 27,
    "start_time": "2025-05-09T13:26:42.980Z"
   },
   {
    "duration": 17,
    "start_time": "2025-05-09T13:26:43.711Z"
   },
   {
    "duration": 12,
    "start_time": "2025-05-09T13:26:44.233Z"
   },
   {
    "duration": 33,
    "start_time": "2025-05-09T13:26:44.882Z"
   },
   {
    "duration": 92,
    "start_time": "2025-05-09T13:26:48.914Z"
   },
   {
    "duration": 19,
    "start_time": "2025-05-09T13:26:49.762Z"
   },
   {
    "duration": 2446,
    "start_time": "2025-05-10T12:42:04.186Z"
   },
   {
    "duration": 208,
    "start_time": "2025-05-10T12:42:06.633Z"
   },
   {
    "duration": 9,
    "start_time": "2025-05-10T12:42:08.425Z"
   },
   {
    "duration": 20,
    "start_time": "2025-05-10T12:42:09.521Z"
   },
   {
    "duration": 39,
    "start_time": "2025-05-10T12:42:11.742Z"
   },
   {
    "duration": 100,
    "start_time": "2025-05-10T12:42:13.449Z"
   },
   {
    "duration": 9,
    "start_time": "2025-05-10T12:42:15.809Z"
   },
   {
    "duration": 11,
    "start_time": "2025-05-10T12:42:16.577Z"
   },
   {
    "duration": 14,
    "start_time": "2025-05-10T12:42:18.922Z"
   },
   {
    "duration": 21,
    "start_time": "2025-05-10T12:42:22.041Z"
   },
   {
    "duration": 15,
    "start_time": "2025-05-10T12:42:23.057Z"
   },
   {
    "duration": 17,
    "start_time": "2025-05-10T12:42:26.793Z"
   },
   {
    "duration": 19,
    "start_time": "2025-05-10T12:42:31.947Z"
   },
   {
    "duration": 55,
    "start_time": "2025-05-10T12:42:35.489Z"
   },
   {
    "duration": 18,
    "start_time": "2025-05-10T12:42:37.528Z"
   },
   {
    "duration": 9,
    "start_time": "2025-05-10T12:42:38.036Z"
   },
   {
    "duration": 20,
    "start_time": "2025-05-10T12:42:41.252Z"
   },
   {
    "duration": 22,
    "start_time": "2025-05-10T12:42:43.752Z"
   },
   {
    "duration": 12,
    "start_time": "2025-05-10T12:42:44.848Z"
   },
   {
    "duration": 13,
    "start_time": "2025-05-10T12:42:46.681Z"
   },
   {
    "duration": 91,
    "start_time": "2025-05-10T12:42:54.673Z"
   },
   {
    "duration": 37,
    "start_time": "2025-05-10T12:42:57.168Z"
   },
   {
    "duration": 4,
    "start_time": "2025-05-10T12:43:00.489Z"
   },
   {
    "duration": 28,
    "start_time": "2025-05-10T12:43:02.072Z"
   },
   {
    "duration": 19,
    "start_time": "2025-05-10T12:43:03.913Z"
   },
   {
    "duration": 11,
    "start_time": "2025-05-10T12:43:05.421Z"
   },
   {
    "duration": 26,
    "start_time": "2025-05-10T12:43:05.961Z"
   },
   {
    "duration": 131,
    "start_time": "2025-05-10T12:43:08.485Z"
   },
   {
    "duration": 14,
    "start_time": "2025-05-10T12:43:12.930Z"
   },
   {
    "duration": 16,
    "start_time": "2025-05-10T12:43:15.553Z"
   },
   {
    "duration": 342,
    "start_time": "2025-05-10T12:43:35.041Z"
   },
   {
    "duration": 366,
    "start_time": "2025-05-10T12:43:42.161Z"
   },
   {
    "duration": 8,
    "start_time": "2025-05-10T12:43:44.534Z"
   },
   {
    "duration": 215,
    "start_time": "2025-05-10T12:43:45.347Z"
   },
   {
    "duration": 302,
    "start_time": "2025-05-10T12:43:49.313Z"
   },
   {
    "duration": 3,
    "start_time": "2025-05-10T12:50:06.513Z"
   },
   {
    "duration": 351,
    "start_time": "2025-05-10T12:50:50.948Z"
   },
   {
    "duration": 370,
    "start_time": "2025-05-10T12:51:00.041Z"
   },
   {
    "duration": 268,
    "start_time": "2025-05-10T12:51:04.297Z"
   },
   {
    "duration": 29,
    "start_time": "2025-05-10T12:51:05.968Z"
   },
   {
    "duration": 32,
    "start_time": "2025-05-10T12:51:06.666Z"
   },
   {
    "duration": 1649,
    "start_time": "2025-05-10T12:51:07.290Z"
   },
   {
    "duration": 460,
    "start_time": "2025-05-10T12:51:09.385Z"
   },
   {
    "duration": 14,
    "start_time": "2025-05-10T12:51:10.649Z"
   },
   {
    "duration": 345,
    "start_time": "2025-05-10T12:51:11.816Z"
   },
   {
    "duration": 344,
    "start_time": "2025-05-10T12:51:25.952Z"
   },
   {
    "duration": 6,
    "start_time": "2025-05-10T12:51:40.489Z"
   },
   {
    "duration": 4,
    "start_time": "2025-05-10T12:51:59.944Z"
   },
   {
    "duration": 4,
    "start_time": "2025-05-10T12:52:30.457Z"
   },
   {
    "duration": 25,
    "start_time": "2025-05-10T12:52:36.920Z"
   },
   {
    "duration": 226,
    "start_time": "2025-05-10T12:54:04.067Z"
   },
   {
    "duration": 4,
    "start_time": "2025-05-10T12:54:31.961Z"
   },
   {
    "duration": 17,
    "start_time": "2025-05-10T12:54:50.649Z"
   },
   {
    "duration": 27,
    "start_time": "2025-05-10T12:58:48.483Z"
   },
   {
    "duration": 17,
    "start_time": "2025-05-10T13:05:17.215Z"
   },
   {
    "duration": 39,
    "start_time": "2025-05-10T13:05:17.967Z"
   },
   {
    "duration": 23,
    "start_time": "2025-05-10T13:05:19.863Z"
   },
   {
    "duration": 20,
    "start_time": "2025-05-10T13:05:21.351Z"
   },
   {
    "duration": 10,
    "start_time": "2025-05-10T13:05:22.791Z"
   },
   {
    "duration": 13,
    "start_time": "2025-05-10T13:05:23.184Z"
   },
   {
    "duration": 90,
    "start_time": "2025-05-10T13:05:34.890Z"
   },
   {
    "duration": 35,
    "start_time": "2025-05-10T13:05:37.119Z"
   },
   {
    "duration": 4,
    "start_time": "2025-05-10T13:05:38.597Z"
   },
   {
    "duration": 79,
    "start_time": "2025-05-10T13:05:39.592Z"
   },
   {
    "duration": 16,
    "start_time": "2025-05-10T13:05:40.463Z"
   },
   {
    "duration": 12,
    "start_time": "2025-05-10T13:05:40.967Z"
   },
   {
    "duration": 25,
    "start_time": "2025-05-10T13:05:41.551Z"
   },
   {
    "duration": 45,
    "start_time": "2025-05-10T13:09:45.191Z"
   },
   {
    "duration": 19,
    "start_time": "2025-05-10T13:12:16.584Z"
   },
   {
    "duration": 5,
    "start_time": "2025-05-10T13:22:41.677Z"
   },
   {
    "duration": 28,
    "start_time": "2025-05-10T13:22:43.092Z"
   },
   {
    "duration": 15,
    "start_time": "2025-05-10T13:22:43.942Z"
   },
   {
    "duration": 12,
    "start_time": "2025-05-10T13:23:07.237Z"
   },
   {
    "duration": 25,
    "start_time": "2025-05-10T13:23:07.909Z"
   },
   {
    "duration": 89,
    "start_time": "2025-05-10T13:23:20.717Z"
   }
  ],
  "colab": {
   "provenance": []
  },
  "kernelspec": {
   "display_name": "base",
   "language": "python",
   "name": "python3"
  },
  "language_info": {
   "codemirror_mode": {
    "name": "ipython",
    "version": 3
   },
   "file_extension": ".py",
   "mimetype": "text/x-python",
   "name": "python",
   "nbconvert_exporter": "python",
   "pygments_lexer": "ipython3",
   "version": "3.12.3"
  },
  "toc": {
   "base_numbering": 1,
   "nav_menu": {},
   "number_sections": true,
   "sideBar": true,
   "skip_h1_title": false,
   "title_cell": "Table of Contents",
   "title_sidebar": "Contents",
   "toc_cell": false,
   "toc_position": {
    "height": "calc(100% - 180px)",
    "left": "10px",
    "top": "150px",
    "width": "364.492px"
   },
   "toc_section_display": true,
   "toc_window_display": true
  }
 },
 "nbformat": 4,
 "nbformat_minor": 1
}
